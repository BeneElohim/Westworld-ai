{
 "cells": [
  {
   "cell_type": "markdown",
   "metadata": {},
   "source": [
    "# Pathfinding"
   ]
  },
  {
   "cell_type": "code",
   "execution_count": 2,
   "metadata": {
    "ExecuteTime": {
     "end_time": "2020-04-08T10:55:56.686182Z",
     "start_time": "2020-04-08T10:55:53.143403Z"
    }
   },
   "outputs": [],
   "source": [
    "# Base Data Science snippet\n",
    "import pandas as pd\n",
    "import numpy as np\n",
    "import matplotlib.pyplot as plt\n",
    "import os\n",
    "import time\n",
    "from tqdm import tqdm_notebook\n",
    "\n",
    "%matplotlib inline\n",
    "%load_ext autoreload\n",
    "%autoreload 2"
   ]
  },
  {
   "cell_type": "code",
   "execution_count": 3,
   "metadata": {
    "ExecuteTime": {
     "end_time": "2020-04-08T10:55:56.844974Z",
     "start_time": "2020-04-08T10:55:56.690171Z"
    }
   },
   "outputs": [],
   "source": [
    "import sys\n",
    "sys.path.append(\"C:/git/westworld\")\n",
    "\n",
    "import westworld"
   ]
  },
  {
   "cell_type": "markdown",
   "metadata": {},
   "source": [
    "# Pathfinding in a numpy array maze"
   ]
  },
  {
   "cell_type": "markdown",
   "metadata": {},
   "source": [
    "## Applying A* to a numpy array problem"
   ]
  },
  {
   "cell_type": "code",
   "execution_count": 3,
   "metadata": {
    "ExecuteTime": {
     "end_time": "2020-04-08T10:11:51.247420Z",
     "start_time": "2020-04-08T10:11:51.090537Z"
    }
   },
   "outputs": [],
   "source": [
    "from westworld.algorithms.pathfinding.astar import AStar"
   ]
  },
  {
   "cell_type": "code",
   "execution_count": 4,
   "metadata": {
    "ExecuteTime": {
     "end_time": "2020-04-08T10:11:52.266372Z",
     "start_time": "2020-04-08T10:11:52.130450Z"
    }
   },
   "outputs": [],
   "source": [
    "astar = AStar()"
   ]
  },
  {
   "cell_type": "code",
   "execution_count": 5,
   "metadata": {
    "ExecuteTime": {
     "end_time": "2020-04-08T10:11:52.880656Z",
     "start_time": "2020-04-08T10:11:52.722339Z"
    }
   },
   "outputs": [],
   "source": [
    "maze = np.array([\n",
    "        [0, 0, 0, 0, 1, 0, 0, 0, 0, 0],\n",
    "        [0, 0, 0, 0, 1, 0, 0, 0, 0, 0],\n",
    "        [0, 0, 0, 0, 1, 0, 0, 0, 0, 0],\n",
    "        [0, 0, 0, 0, 1, 0, 0, 0, 0, 0],\n",
    "        [0, 0, 0, 0, 1, 0, 0, 0, 0, 0],\n",
    "        [0, 0, 0, 0, 0, 0, 0, 0, 0, 0],\n",
    "        [0, 0, 0, 0, 1, 0, 0, 0, 0, 0],\n",
    "        [0, 0, 0, 0, 1, 0, 0, 0, 0, 0],\n",
    "        [0, 0, 0, 0, 1, 0, 0, 0, 0, 0],\n",
    "        [0, 0, 0, 0, 0, 0, 0, 0, 0, 0]]\n",
    ")\n",
    "\n",
    "start = (0, 0)\n",
    "end = (7, 6)"
   ]
  },
  {
   "cell_type": "markdown",
   "metadata": {},
   "source": [
    "##### Finding the shortest path"
   ]
  },
  {
   "cell_type": "code",
   "execution_count": 6,
   "metadata": {
    "ExecuteTime": {
     "end_time": "2020-04-08T10:11:54.110403Z",
     "start_time": "2020-04-08T10:11:53.959766Z"
    }
   },
   "outputs": [
    {
     "data": {
      "text/plain": [
       "[(0, 0),\n",
       " (1, 0),\n",
       " (1, 1),\n",
       " (2, 1),\n",
       " (2, 2),\n",
       " (3, 2),\n",
       " (3, 3),\n",
       " (4, 3),\n",
       " (5, 3),\n",
       " (5, 4),\n",
       " (5, 5),\n",
       " (6, 5),\n",
       " (6, 6),\n",
       " (7, 6)]"
      ]
     },
     "execution_count": 6,
     "metadata": {},
     "output_type": "execute_result"
    }
   ],
   "source": [
    "path = astar.run(maze,start,end)\n",
    "path"
   ]
  },
  {
   "cell_type": "code",
   "execution_count": 7,
   "metadata": {
    "ExecuteTime": {
     "end_time": "2020-04-08T10:11:54.730412Z",
     "start_time": "2020-04-08T10:11:54.582554Z"
    }
   },
   "outputs": [
    {
     "data": {
      "text/plain": [
       "array([[3, 0, 0, 0, 1, 0, 0, 0, 0, 0],\n",
       "       [2, 2, 0, 0, 1, 0, 0, 0, 0, 0],\n",
       "       [0, 2, 2, 0, 1, 0, 0, 0, 0, 0],\n",
       "       [0, 0, 2, 2, 1, 0, 0, 0, 0, 0],\n",
       "       [0, 0, 0, 2, 1, 0, 0, 0, 0, 0],\n",
       "       [0, 0, 0, 2, 2, 2, 0, 0, 0, 0],\n",
       "       [0, 0, 0, 0, 1, 2, 2, 0, 0, 0],\n",
       "       [0, 0, 0, 0, 1, 0, 4, 0, 0, 0],\n",
       "       [0, 0, 0, 0, 1, 0, 0, 0, 0, 0],\n",
       "       [0, 0, 0, 0, 0, 0, 0, 0, 0, 0]])"
      ]
     },
     "execution_count": 7,
     "metadata": {},
     "output_type": "execute_result"
    }
   ],
   "source": [
    "test = maze.copy()\n",
    "test[tuple(np.array(path).T)] = 2\n",
    "test[start] = 3\n",
    "test[end] = 4\n",
    "test"
   ]
  },
  {
   "cell_type": "code",
   "execution_count": 8,
   "metadata": {
    "ExecuteTime": {
     "end_time": "2020-04-08T10:11:55.645446Z",
     "start_time": "2020-04-08T10:11:55.481869Z"
    }
   },
   "outputs": [
    {
     "name": "stdout",
     "output_type": "stream",
     "text": [
      "| O       #           |\n",
      "| . .     #           |\n",
      "|   . .   #           |\n",
      "|     . . #           |\n",
      "|       . #           |\n",
      "|       . . .         |\n",
      "|         # . .       |\n",
      "|         #   X       |\n",
      "|         #           |\n",
      "|                     |\n"
     ]
    }
   ],
   "source": [
    "astar.show_path(maze,start,end,path)"
   ]
  },
  {
   "cell_type": "markdown",
   "metadata": {},
   "source": [
    "##### Finding the shortest path with diagonal moves"
   ]
  },
  {
   "cell_type": "code",
   "execution_count": 9,
   "metadata": {
    "ExecuteTime": {
     "end_time": "2020-04-08T10:11:57.914172Z",
     "start_time": "2020-04-08T10:11:57.770713Z"
    }
   },
   "outputs": [
    {
     "data": {
      "text/plain": [
       "[(0, 0), (1, 1), (2, 2), (3, 3), (4, 3), (5, 4), (6, 5), (7, 6)]"
      ]
     },
     "execution_count": 9,
     "metadata": {},
     "output_type": "execute_result"
    }
   ],
   "source": [
    "path = astar.run(maze,start,end,diagonal = True)\n",
    "path"
   ]
  },
  {
   "cell_type": "markdown",
   "metadata": {},
   "source": [
    "Visualizing the path"
   ]
  },
  {
   "cell_type": "code",
   "execution_count": 10,
   "metadata": {
    "ExecuteTime": {
     "end_time": "2020-04-08T10:11:58.876226Z",
     "start_time": "2020-04-08T10:11:58.724673Z"
    }
   },
   "outputs": [
    {
     "name": "stdout",
     "output_type": "stream",
     "text": [
      "| O       #           |\n",
      "|   .     #           |\n",
      "|     .   #           |\n",
      "|       . #           |\n",
      "|       . #           |\n",
      "|         .           |\n",
      "|         # .         |\n",
      "|         #   X       |\n",
      "|         #           |\n",
      "|                     |\n"
     ]
    }
   ],
   "source": [
    "astar.show_path(maze,start,end,path)"
   ]
  },
  {
   "cell_type": "markdown",
   "metadata": {},
   "source": [
    "## Performance test"
   ]
  },
  {
   "cell_type": "markdown",
   "metadata": {
    "ExecuteTime": {
     "end_time": "2020-04-03T14:53:39.032018Z",
     "start_time": "2020-04-03T14:53:38.947225Z"
    }
   },
   "source": [
    "A* simple implementation runs in this simple example in half a ms"
   ]
  },
  {
   "cell_type": "code",
   "execution_count": 14,
   "metadata": {
    "ExecuteTime": {
     "end_time": "2020-04-04T12:00:09.840527Z",
     "start_time": "2020-04-04T12:00:03.899676Z"
    }
   },
   "outputs": [
    {
     "name": "stdout",
     "output_type": "stream",
     "text": [
      "705 µs ± 57.5 µs per loop (mean ± std. dev. of 7 runs, 1000 loops each)\n"
     ]
    }
   ],
   "source": [
    "%%timeit\n",
    "path = astar.run(maze,start,end)"
   ]
  },
  {
   "cell_type": "markdown",
   "metadata": {},
   "source": [
    "## Testing on a new maze similar to the environment below"
   ]
  },
  {
   "cell_type": "code",
   "execution_count": 11,
   "metadata": {
    "ExecuteTime": {
     "end_time": "2020-04-08T10:12:04.685553Z",
     "start_time": "2020-04-08T10:12:04.509430Z"
    }
   },
   "outputs": [
    {
     "data": {
      "text/plain": [
       "[(1, 1),\n",
       " (1, 2),\n",
       " (1, 3),\n",
       " (1, 4),\n",
       " (1, 5),\n",
       " (1, 6),\n",
       " (2, 6),\n",
       " (3, 6),\n",
       " (4, 6),\n",
       " (5, 6),\n",
       " (6, 6),\n",
       " (7, 6),\n",
       " (8, 6),\n",
       " (8, 7),\n",
       " (8, 8),\n",
       " (7, 8),\n",
       " (6, 8),\n",
       " (5, 8),\n",
       " (5, 9),\n",
       " (5, 10),\n",
       " (4, 10),\n",
       " (3, 10),\n",
       " (2, 10),\n",
       " (1, 10)]"
      ]
     },
     "execution_count": 11,
     "metadata": {},
     "output_type": "execute_result"
    }
   ],
   "source": [
    "maze2 = np.uint8(np.array([\n",
    "       [0., 0., 0., 0., 0., 0., 0., 1., 0., 0., 0., 0., 0., 0., 0.],\n",
    "       [0., 0., 0., 0., 0., 0., 0., 1., 0., 0., 0., 0., 0., 0., 0.],\n",
    "       [0., 0., 0., 0., 0., 0., 0., 1., 0., 0., 0., 0., 0., 0., 0.],\n",
    "       [0., 1., 0., 0., 0., 0., 0., 1., 0., 0., 0., 1., 0., 0., 0.],\n",
    "       [0., 0., 0., 0., 0., 0., 0., 1., 1., 1., 0., 1., 0., 0., 0.],\n",
    "       [0., 0., 0., 0., 0., 0., 0., 1., 0., 0., 0., 0., 0., 0., 0.],\n",
    "       [0., 0., 0., 0., 0., 0., 0., 1., 0., 0., 0., 0., 0., 0., 0.],\n",
    "       [0., 0., 0., 0., 0., 0., 0., 1., 0., 0., 0., 0., 0., 0., 0.],\n",
    "       [0., 0., 0., 0., 0., 0., 0., 0., 0., 0., 0., 0., 0., 0., 0.],\n",
    "       [0., 0., 0., 0., 0., 0., 0., 0., 0., 0., 0., 0., 0., 0., 0.]]))\n",
    "\n",
    "start = (1,1)\n",
    "end = (1,10)\n",
    "\n",
    "path = astar.run(maze2,start,end)\n",
    "path"
   ]
  },
  {
   "cell_type": "code",
   "execution_count": 12,
   "metadata": {
    "ExecuteTime": {
     "end_time": "2020-04-08T10:12:05.465735Z",
     "start_time": "2020-04-08T10:12:05.332392Z"
    }
   },
   "outputs": [
    {
     "name": "stdout",
     "output_type": "stream",
     "text": [
      "|               #               |\n",
      "|   O . . . . . #     X         |\n",
      "|             . #     .         |\n",
      "|   #         . #     . #       |\n",
      "|             . # # # . #       |\n",
      "|             . # . . .         |\n",
      "|             . # .             |\n",
      "|             . # .             |\n",
      "|             . . .             |\n",
      "|                               |\n"
     ]
    }
   ],
   "source": [
    "astar.show_path(maze2,start,end,path)"
   ]
  },
  {
   "cell_type": "markdown",
   "metadata": {},
   "source": [
    "## Debugging and adding early stopping"
   ]
  },
  {
   "cell_type": "code",
   "execution_count": 13,
   "metadata": {
    "ExecuteTime": {
     "end_time": "2020-04-08T10:12:08.325365Z",
     "start_time": "2020-04-08T10:12:08.180376Z"
    }
   },
   "outputs": [
    {
     "data": {
      "text/plain": [
       "array([[0, 0, 1, 0, 0],\n",
       "       [0, 0, 1, 0, 0],\n",
       "       [0, 0, 0, 1, 0],\n",
       "       [0, 0, 0, 0, 0],\n",
       "       [0, 0, 0, 0, 0]], dtype=uint8)"
      ]
     },
     "execution_count": 13,
     "metadata": {},
     "output_type": "execute_result"
    }
   ],
   "source": [
    "maze3 = np.uint8(np.array([\n",
    "       [0, 0, 1, 0, 0],\n",
    "       [0, 0, 1, 0, 0],\n",
    "       [0, 0, 0, 1, 0],\n",
    "       [0, 0, 0, 0, 0],\n",
    "       [0, 0, 0, 0, 0],\n",
    "]))\n",
    "maze3"
   ]
  },
  {
   "cell_type": "code",
   "execution_count": 14,
   "metadata": {
    "ExecuteTime": {
     "end_time": "2020-04-08T10:12:09.250361Z",
     "start_time": "2020-04-08T10:12:09.084640Z"
    }
   },
   "outputs": [
    {
     "name": "stderr",
     "output_type": "stream",
     "text": [
      "C:/git/westworld\\westworld\\algorithms\\pathfinding\\astar.py:108: UserWarning: Giving up on pathfinding too many iterations\n",
      "  warnings.warn(\"Giving up on pathfinding too many iterations\")\n"
     ]
    },
    {
     "name": "stdout",
     "output_type": "stream",
     "text": [
      "| O . # X   |\n",
      "|   . # . . |\n",
      "|   . . # . |\n",
      "|     . . . |\n",
      "|           |\n"
     ]
    }
   ],
   "source": [
    "start = (0,0)\n",
    "end = (0,3)\n",
    "\n",
    "path = astar.run(maze3,start,end,n = 15)\n",
    "astar.show_path(maze3,start,end,path)"
   ]
  },
  {
   "cell_type": "markdown",
   "metadata": {},
   "source": [
    "# Pathfinding in westworld environment"
   ]
  },
  {
   "cell_type": "markdown",
   "metadata": {},
   "source": [
    "## Create toy environment"
   ]
  },
  {
   "cell_type": "code",
   "execution_count": 7,
   "metadata": {
    "ExecuteTime": {
     "end_time": "2020-04-08T10:56:18.042012Z",
     "start_time": "2020-04-08T10:56:17.831558Z"
    }
   },
   "outputs": [],
   "source": [
    "from westworld.environment.grid import GridEnvironment\n",
    "from westworld.agents.grid import GridAgent,Obstacle,Trigger\n",
    "import pygame\n",
    "\n",
    "BOX_SIZE = 50\n",
    "\n",
    "class Agent(GridAgent):\n",
    "    def step(self,env):\n",
    "        self.move(dx = 1,env = env)\n",
    "\n",
    "agents = [Agent(1,1,1,1,BOX_SIZE,circle = True),Agent(1,3,1,1,BOX_SIZE,circle = True),]\n",
    "obstacles = [Obstacle(7,0,1,8,BOX_SIZE,(0,200,100))]\n",
    "triggers = [Trigger(8,1,1,1,BOX_SIZE,(255,255,255),circle = True)]\n",
    "\n",
    "\n",
    "# Setup grid\n",
    "env = GridEnvironment(BOX_SIZE,15,10,objects = agents + obstacles + triggers)"
   ]
  },
  {
   "cell_type": "code",
   "execution_count": 8,
   "metadata": {
    "ExecuteTime": {
     "end_time": "2020-04-08T10:56:19.171499Z",
     "start_time": "2020-04-08T10:56:19.042842Z"
    }
   },
   "outputs": [],
   "source": [
    "env.render()"
   ]
  },
  {
   "cell_type": "code",
   "execution_count": 22,
   "metadata": {
    "ExecuteTime": {
     "end_time": "2020-04-08T11:01:39.767451Z",
     "start_time": "2020-04-08T11:01:39.534076Z"
    }
   },
   "outputs": [],
   "source": [
    "env.quit()"
   ]
  },
  {
   "cell_type": "code",
   "execution_count": 16,
   "metadata": {
    "ExecuteTime": {
     "end_time": "2020-04-08T10:12:45.114760Z",
     "start_time": "2020-04-08T10:12:44.970475Z"
    }
   },
   "outputs": [
    {
     "data": {
      "text/plain": [
       "array([[0., 0., 0., 0., 0., 0., 0., 0., 0., 0., 0., 0., 0., 0., 0.],\n",
       "       [0., 0., 0., 0., 0., 0., 0., 0., 0., 0., 0., 0., 0., 0., 0.],\n",
       "       [0., 0., 0., 0., 0., 0., 0., 0., 0., 0., 0., 0., 0., 0., 0.],\n",
       "       [0., 0., 0., 0., 0., 0., 0., 0., 0., 0., 0., 0., 0., 0., 0.],\n",
       "       [0., 0., 0., 0., 0., 0., 0., 0., 0., 0., 0., 0., 0., 0., 0.],\n",
       "       [0., 0., 0., 0., 0., 0., 0., 0., 0., 0., 0., 0., 0., 0., 0.],\n",
       "       [0., 0., 0., 0., 0., 0., 0., 0., 0., 0., 0., 0., 0., 0., 0.],\n",
       "       [0., 0., 0., 0., 0., 0., 0., 0., 0., 0., 0., 0., 0., 0., 0.],\n",
       "       [0., 0., 0., 0., 0., 0., 0., 0., 0., 0., 0., 0., 0., 0., 0.],\n",
       "       [0., 0., 0., 0., 0., 0., 0., 0., 0., 0., 0., 0., 0., 0., 0.]])"
      ]
     },
     "execution_count": 16,
     "metadata": {},
     "output_type": "execute_result"
    }
   ],
   "source": [
    "env.get_grid()"
   ]
  },
  {
   "cell_type": "code",
   "execution_count": 17,
   "metadata": {
    "ExecuteTime": {
     "end_time": "2020-04-08T10:12:46.375009Z",
     "start_time": "2020-04-08T10:12:46.236133Z"
    }
   },
   "outputs": [
    {
     "data": {
      "text/plain": [
       "array([[0., 0., 0., 0., 0., 0., 0., 1., 0., 0., 0., 0., 0., 0., 0.],\n",
       "       [0., 1., 0., 0., 0., 0., 0., 1., 0., 0., 0., 0., 0., 0., 0.],\n",
       "       [0., 0., 0., 0., 0., 0., 0., 1., 0., 0., 0., 0., 0., 0., 0.],\n",
       "       [0., 1., 0., 0., 0., 0., 0., 1., 0., 0., 0., 0., 0., 0., 0.],\n",
       "       [0., 0., 0., 0., 0., 0., 0., 1., 0., 0., 0., 0., 0., 0., 0.],\n",
       "       [0., 0., 0., 0., 0., 0., 0., 1., 0., 0., 0., 0., 0., 0., 0.],\n",
       "       [0., 0., 0., 0., 0., 0., 0., 1., 0., 0., 0., 0., 0., 0., 0.],\n",
       "       [0., 0., 0., 0., 0., 0., 0., 1., 0., 0., 0., 0., 0., 0., 0.],\n",
       "       [0., 0., 0., 0., 0., 0., 0., 0., 0., 0., 0., 0., 0., 0., 0.],\n",
       "       [0., 0., 0., 0., 0., 0., 0., 0., 0., 0., 0., 0., 0., 0., 0.]])"
      ]
     },
     "execution_count": 17,
     "metadata": {},
     "output_type": "execute_result"
    }
   ],
   "source": [
    "mesh = env.get_navigation_mesh()\n",
    "mesh"
   ]
  },
  {
   "cell_type": "markdown",
   "metadata": {},
   "source": [
    "Performance tests are OK for now,for this size"
   ]
  },
  {
   "cell_type": "code",
   "execution_count": 42,
   "metadata": {
    "ExecuteTime": {
     "end_time": "2020-04-04T09:48:46.505187Z",
     "start_time": "2020-04-04T09:48:32.813775Z"
    }
   },
   "outputs": [
    {
     "name": "stdout",
     "output_type": "stream",
     "text": [
      "16.7 µs ± 293 ns per loop (mean ± std. dev. of 7 runs, 100000 loops each)\n"
     ]
    }
   ],
   "source": [
    "%%timeit\n",
    "env.get_navigation_mesh()"
   ]
  },
  {
   "cell_type": "code",
   "execution_count": 18,
   "metadata": {
    "ExecuteTime": {
     "end_time": "2020-04-08T10:12:54.276639Z",
     "start_time": "2020-04-08T10:12:54.132435Z"
    }
   },
   "outputs": [],
   "source": [
    "env.render()"
   ]
  },
  {
   "cell_type": "code",
   "execution_count": 26,
   "metadata": {
    "ExecuteTime": {
     "end_time": "2020-04-08T10:36:43.589292Z",
     "start_time": "2020-04-08T10:36:43.151858Z"
    }
   },
   "outputs": [],
   "source": [
    "env.quit()"
   ]
  },
  {
   "cell_type": "markdown",
   "metadata": {},
   "source": [
    "## Pathfinding"
   ]
  },
  {
   "cell_type": "code",
   "execution_count": 18,
   "metadata": {
    "ExecuteTime": {
     "end_time": "2020-04-08T10:59:24.441392Z",
     "start_time": "2020-04-08T10:59:24.240382Z"
    }
   },
   "outputs": [],
   "source": [
    "agents[0].move_towards(obj = triggers[0],env = env)\n",
    "agents[1].move_towards(obj = triggers[0],env = env)\n",
    "env.render()"
   ]
  },
  {
   "cell_type": "code",
   "execution_count": 19,
   "metadata": {
    "ExecuteTime": {
     "end_time": "2020-04-08T10:59:26.118324Z",
     "start_time": "2020-04-08T10:59:25.945526Z"
    }
   },
   "outputs": [
    {
     "data": {
      "text/plain": [
       "Agent(x=3,y=1)"
      ]
     },
     "execution_count": 19,
     "metadata": {},
     "output_type": "execute_result"
    }
   ],
   "source": [
    "agents[0]"
   ]
  },
  {
   "cell_type": "code",
   "execution_count": 20,
   "metadata": {
    "ExecuteTime": {
     "end_time": "2020-04-08T10:59:27.138635Z",
     "start_time": "2020-04-08T10:59:26.922883Z"
    }
   },
   "outputs": [
    {
     "data": {
      "text/plain": [
       "Agent(x=3,y=3)"
      ]
     },
     "execution_count": 20,
     "metadata": {},
     "output_type": "execute_result"
    }
   ],
   "source": [
    "agents[1]"
   ]
  },
  {
   "cell_type": "code",
   "execution_count": 21,
   "metadata": {
    "ExecuteTime": {
     "end_time": "2020-04-08T10:59:28.394439Z",
     "start_time": "2020-04-08T10:59:28.215207Z"
    }
   },
   "outputs": [],
   "source": [
    "env.render()"
   ]
  },
  {
   "cell_type": "code",
   "execution_count": null,
   "metadata": {},
   "outputs": [],
   "source": []
  }
 ],
 "metadata": {
  "kernelspec": {
   "display_name": "Python 3",
   "language": "python",
   "name": "python3"
  },
  "language_info": {
   "codemirror_mode": {
    "name": "ipython",
    "version": 3
   },
   "file_extension": ".py",
   "mimetype": "text/x-python",
   "name": "python",
   "nbconvert_exporter": "python",
   "pygments_lexer": "ipython3",
   "version": "3.7.4"
  },
  "toc": {
   "base_numbering": 1,
   "nav_menu": {},
   "number_sections": true,
   "sideBar": true,
   "skip_h1_title": false,
   "title_cell": "Table of Contents",
   "title_sidebar": "Contents",
   "toc_cell": false,
   "toc_position": {},
   "toc_section_display": true,
   "toc_window_display": false
  }
 },
 "nbformat": 4,
 "nbformat_minor": 2
}
