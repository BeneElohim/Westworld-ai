{
 "cells": [
  {
   "cell_type": "markdown",
   "metadata": {},
   "source": [
    "# Pathfinding"
   ]
  },
  {
   "cell_type": "code",
   "execution_count": 1,
   "metadata": {
    "ExecuteTime": {
     "end_time": "2020-05-17T16:11:16.409509Z",
     "start_time": "2020-05-17T16:11:14.885458Z"
    }
   },
   "outputs": [],
   "source": [
    "# Base Data Science snippet\n",
    "import pandas as pd\n",
    "import numpy as np\n",
    "import matplotlib.pyplot as plt\n",
    "import os\n",
    "import time\n",
    "from tqdm import tqdm_notebook\n",
    "\n",
    "%matplotlib inline\n",
    "%load_ext autoreload\n",
    "%autoreload 2"
   ]
  },
  {
   "cell_type": "code",
   "execution_count": 2,
   "metadata": {
    "ExecuteTime": {
     "end_time": "2020-05-17T16:11:16.976859Z",
     "start_time": "2020-05-17T16:11:16.834201Z"
    }
   },
   "outputs": [],
   "source": [
    "import sys\n",
    "sys.path.append(\"C:/git/westworld\")\n",
    "\n",
    "import westworld"
   ]
  },
  {
   "cell_type": "markdown",
   "metadata": {},
   "source": [
    "# Pathfinding in a numpy array maze"
   ]
  },
  {
   "cell_type": "markdown",
   "metadata": {},
   "source": [
    "## Applying A* to a numpy array problem"
   ]
  },
  {
   "cell_type": "code",
   "execution_count": 3,
   "metadata": {
    "ExecuteTime": {
     "end_time": "2020-05-17T16:11:20.825779Z",
     "start_time": "2020-05-17T16:11:20.697455Z"
    }
   },
   "outputs": [],
   "source": [
    "from westworld.algorithms.pathfinding.astar import AStar"
   ]
  },
  {
   "cell_type": "code",
   "execution_count": 4,
   "metadata": {
    "ExecuteTime": {
     "end_time": "2020-05-17T16:11:21.469940Z",
     "start_time": "2020-05-17T16:11:21.323504Z"
    }
   },
   "outputs": [],
   "source": [
    "astar = AStar()"
   ]
  },
  {
   "cell_type": "code",
   "execution_count": 5,
   "metadata": {
    "ExecuteTime": {
     "end_time": "2020-05-17T16:11:22.164449Z",
     "start_time": "2020-05-17T16:11:22.002260Z"
    }
   },
   "outputs": [],
   "source": [
    "maze = np.array([\n",
    "        [0, 0, 0, 0, 1, 0, 0, 0, 0, 0],\n",
    "        [0, 0, 0, 0, 1, 0, 0, 0, 0, 0],\n",
    "        [0, 0, 0, 0, 1, 0, 0, 0, 0, 0],\n",
    "        [0, 0, 0, 0, 1, 0, 0, 0, 0, 0],\n",
    "        [0, 0, 0, 0, 1, 0, 0, 0, 0, 0],\n",
    "        [0, 0, 0, 0, 0, 0, 0, 0, 0, 0],\n",
    "        [0, 0, 0, 0, 1, 0, 0, 0, 0, 0],\n",
    "        [0, 0, 0, 0, 1, 0, 0, 0, 0, 0],\n",
    "        [0, 0, 0, 0, 1, 0, 0, 0, 0, 0],\n",
    "        [0, 0, 0, 0, 0, 0, 0, 0, 0, 0]]\n",
    ")\n",
    "\n",
    "start = (0, 0)\n",
    "end = (7, 6)"
   ]
  },
  {
   "cell_type": "markdown",
   "metadata": {},
   "source": [
    "##### Finding the shortest path"
   ]
  },
  {
   "cell_type": "code",
   "execution_count": 6,
   "metadata": {
    "ExecuteTime": {
     "end_time": "2020-05-17T16:11:24.764221Z",
     "start_time": "2020-05-17T16:11:24.632072Z"
    }
   },
   "outputs": [
    {
     "data": {
      "text/plain": [
       "[(0, 0),\n",
       " (1, 0),\n",
       " (1, 1),\n",
       " (2, 1),\n",
       " (2, 2),\n",
       " (3, 2),\n",
       " (3, 3),\n",
       " (4, 3),\n",
       " (5, 3),\n",
       " (5, 4),\n",
       " (5, 5),\n",
       " (6, 5),\n",
       " (6, 6),\n",
       " (7, 6)]"
      ]
     },
     "execution_count": 6,
     "metadata": {},
     "output_type": "execute_result"
    }
   ],
   "source": [
    "path = astar.run(maze,start,end)\n",
    "path"
   ]
  },
  {
   "cell_type": "code",
   "execution_count": 7,
   "metadata": {
    "ExecuteTime": {
     "end_time": "2020-05-17T16:11:26.661257Z",
     "start_time": "2020-05-17T16:11:26.543047Z"
    }
   },
   "outputs": [
    {
     "data": {
      "text/plain": [
       "array([[3, 0, 0, 0, 1, 0, 0, 0, 0, 0],\n",
       "       [2, 2, 0, 0, 1, 0, 0, 0, 0, 0],\n",
       "       [0, 2, 2, 0, 1, 0, 0, 0, 0, 0],\n",
       "       [0, 0, 2, 2, 1, 0, 0, 0, 0, 0],\n",
       "       [0, 0, 0, 2, 1, 0, 0, 0, 0, 0],\n",
       "       [0, 0, 0, 2, 2, 2, 0, 0, 0, 0],\n",
       "       [0, 0, 0, 0, 1, 2, 2, 0, 0, 0],\n",
       "       [0, 0, 0, 0, 1, 0, 4, 0, 0, 0],\n",
       "       [0, 0, 0, 0, 1, 0, 0, 0, 0, 0],\n",
       "       [0, 0, 0, 0, 0, 0, 0, 0, 0, 0]])"
      ]
     },
     "execution_count": 7,
     "metadata": {},
     "output_type": "execute_result"
    }
   ],
   "source": [
    "test = maze.copy()\n",
    "test[tuple(np.array(path).T)] = 2\n",
    "test[start] = 3\n",
    "test[end] = 4\n",
    "test"
   ]
  },
  {
   "cell_type": "code",
   "execution_count": 8,
   "metadata": {
    "ExecuteTime": {
     "end_time": "2020-05-17T16:11:26.968752Z",
     "start_time": "2020-05-17T16:11:26.823524Z"
    }
   },
   "outputs": [
    {
     "name": "stdout",
     "output_type": "stream",
     "text": [
      "| O       #           |\n",
      "| . .     #           |\n",
      "|   . .   #           |\n",
      "|     . . #           |\n",
      "|       . #           |\n",
      "|       . . .         |\n",
      "|         # . .       |\n",
      "|         #   X       |\n",
      "|         #           |\n",
      "|                     |\n"
     ]
    }
   ],
   "source": [
    "astar.show_path(maze,start,end,path)"
   ]
  },
  {
   "cell_type": "markdown",
   "metadata": {},
   "source": [
    "##### Finding the shortest path with diagonal moves"
   ]
  },
  {
   "cell_type": "code",
   "execution_count": 9,
   "metadata": {
    "ExecuteTime": {
     "end_time": "2020-05-17T16:11:28.252710Z",
     "start_time": "2020-05-17T16:11:28.107172Z"
    }
   },
   "outputs": [
    {
     "data": {
      "text/plain": [
       "[(0, 0), (1, 1), (2, 2), (3, 3), (4, 3), (5, 4), (6, 5), (7, 6)]"
      ]
     },
     "execution_count": 9,
     "metadata": {},
     "output_type": "execute_result"
    }
   ],
   "source": [
    "path = astar.run(maze,start,end,diagonal = True)\n",
    "path"
   ]
  },
  {
   "cell_type": "markdown",
   "metadata": {},
   "source": [
    "Visualizing the path"
   ]
  },
  {
   "cell_type": "code",
   "execution_count": 10,
   "metadata": {
    "ExecuteTime": {
     "end_time": "2020-05-17T16:11:29.698572Z",
     "start_time": "2020-05-17T16:11:29.558979Z"
    }
   },
   "outputs": [
    {
     "name": "stdout",
     "output_type": "stream",
     "text": [
      "| O       #           |\n",
      "|   .     #           |\n",
      "|     .   #           |\n",
      "|       . #           |\n",
      "|       . #           |\n",
      "|         .           |\n",
      "|         # .         |\n",
      "|         #   X       |\n",
      "|         #           |\n",
      "|                     |\n"
     ]
    }
   ],
   "source": [
    "astar.show_path(maze,start,end,path)"
   ]
  },
  {
   "cell_type": "markdown",
   "metadata": {},
   "source": [
    "## Performance test"
   ]
  },
  {
   "cell_type": "markdown",
   "metadata": {
    "ExecuteTime": {
     "end_time": "2020-04-03T14:53:39.032018Z",
     "start_time": "2020-04-03T14:53:38.947225Z"
    }
   },
   "source": [
    "A* simple implementation runs in this simple example in half a ms"
   ]
  },
  {
   "cell_type": "code",
   "execution_count": 11,
   "metadata": {
    "ExecuteTime": {
     "end_time": "2020-05-17T16:11:39.412519Z",
     "start_time": "2020-05-17T16:11:34.122590Z"
    }
   },
   "outputs": [
    {
     "name": "stdout",
     "output_type": "stream",
     "text": [
      "632 µs ± 33.7 µs per loop (mean ± std. dev. of 7 runs, 1000 loops each)\n"
     ]
    }
   ],
   "source": [
    "%%timeit\n",
    "path = astar.run(maze,start,end)"
   ]
  },
  {
   "cell_type": "markdown",
   "metadata": {},
   "source": [
    "## Testing on a new maze similar to the environment below"
   ]
  },
  {
   "cell_type": "code",
   "execution_count": 12,
   "metadata": {
    "ExecuteTime": {
     "end_time": "2020-05-17T16:11:44.902922Z",
     "start_time": "2020-05-17T16:11:44.734374Z"
    }
   },
   "outputs": [
    {
     "data": {
      "text/plain": [
       "[(1, 1),\n",
       " (1, 2),\n",
       " (1, 3),\n",
       " (1, 4),\n",
       " (1, 5),\n",
       " (1, 6),\n",
       " (2, 6),\n",
       " (3, 6),\n",
       " (4, 6),\n",
       " (5, 6),\n",
       " (6, 6),\n",
       " (7, 6),\n",
       " (8, 6),\n",
       " (8, 7),\n",
       " (8, 8),\n",
       " (7, 8),\n",
       " (6, 8),\n",
       " (5, 8),\n",
       " (5, 9),\n",
       " (5, 10),\n",
       " (4, 10),\n",
       " (3, 10),\n",
       " (2, 10),\n",
       " (1, 10)]"
      ]
     },
     "execution_count": 12,
     "metadata": {},
     "output_type": "execute_result"
    }
   ],
   "source": [
    "maze2 = np.uint8(np.array([\n",
    "       [0., 0., 0., 0., 0., 0., 0., 1., 0., 0., 0., 0., 0., 0., 0.],\n",
    "       [0., 0., 0., 0., 0., 0., 0., 1., 0., 0., 0., 0., 0., 0., 0.],\n",
    "       [0., 0., 0., 0., 0., 0., 0., 1., 0., 0., 0., 0., 0., 0., 0.],\n",
    "       [0., 1., 0., 0., 0., 0., 0., 1., 0., 0., 0., 1., 0., 0., 0.],\n",
    "       [0., 0., 0., 0., 0., 0., 0., 1., 1., 1., 0., 1., 0., 0., 0.],\n",
    "       [0., 0., 0., 0., 0., 0., 0., 1., 0., 0., 0., 0., 0., 0., 0.],\n",
    "       [0., 0., 0., 0., 0., 0., 0., 1., 0., 0., 0., 0., 0., 0., 0.],\n",
    "       [0., 0., 0., 0., 0., 0., 0., 1., 0., 0., 0., 0., 0., 0., 0.],\n",
    "       [0., 0., 0., 0., 0., 0., 0., 0., 0., 0., 0., 0., 0., 0., 0.],\n",
    "       [0., 0., 0., 0., 0., 0., 0., 0., 0., 0., 0., 0., 0., 0., 0.]]))\n",
    "\n",
    "start = (1,1)\n",
    "end = (1,10)\n",
    "\n",
    "path = astar.run(maze2,start,end)\n",
    "path"
   ]
  },
  {
   "cell_type": "code",
   "execution_count": 13,
   "metadata": {
    "ExecuteTime": {
     "end_time": "2020-05-17T16:11:45.573808Z",
     "start_time": "2020-05-17T16:11:45.443152Z"
    }
   },
   "outputs": [
    {
     "name": "stdout",
     "output_type": "stream",
     "text": [
      "|               #               |\n",
      "|   O . . . . . #     X         |\n",
      "|             . #     .         |\n",
      "|   #         . #     . #       |\n",
      "|             . # # # . #       |\n",
      "|             . # . . .         |\n",
      "|             . # .             |\n",
      "|             . # .             |\n",
      "|             . . .             |\n",
      "|                               |\n"
     ]
    }
   ],
   "source": [
    "astar.show_path(maze2,start,end,path)"
   ]
  },
  {
   "cell_type": "markdown",
   "metadata": {},
   "source": [
    "## Debugging and adding early stopping"
   ]
  },
  {
   "cell_type": "code",
   "execution_count": 14,
   "metadata": {
    "ExecuteTime": {
     "end_time": "2020-05-17T16:11:47.644279Z",
     "start_time": "2020-05-17T16:11:47.520094Z"
    }
   },
   "outputs": [
    {
     "data": {
      "text/plain": [
       "array([[0, 0, 1, 0, 0],\n",
       "       [0, 0, 1, 0, 0],\n",
       "       [0, 0, 0, 1, 0],\n",
       "       [0, 0, 0, 0, 0],\n",
       "       [0, 0, 0, 0, 0]], dtype=uint8)"
      ]
     },
     "execution_count": 14,
     "metadata": {},
     "output_type": "execute_result"
    }
   ],
   "source": [
    "maze3 = np.uint8(np.array([\n",
    "       [0, 0, 1, 0, 0],\n",
    "       [0, 0, 1, 0, 0],\n",
    "       [0, 0, 0, 1, 0],\n",
    "       [0, 0, 0, 0, 0],\n",
    "       [0, 0, 0, 0, 0],\n",
    "]))\n",
    "maze3"
   ]
  },
  {
   "cell_type": "code",
   "execution_count": 15,
   "metadata": {
    "ExecuteTime": {
     "end_time": "2020-05-17T16:11:49.046091Z",
     "start_time": "2020-05-17T16:11:48.908887Z"
    }
   },
   "outputs": [
    {
     "name": "stdout",
     "output_type": "stream",
     "text": [
      "| O . # X   |\n",
      "|   . # . . |\n",
      "|   . . # . |\n",
      "|     . . . |\n",
      "|           |\n"
     ]
    },
    {
     "name": "stderr",
     "output_type": "stream",
     "text": [
      "C:/git/westworld\\westworld\\algorithms\\pathfinding\\astar.py:108: UserWarning: Giving up on pathfinding too many iterations\n",
      "  warnings.warn(\"Giving up on pathfinding too many iterations\")\n"
     ]
    }
   ],
   "source": [
    "start = (0,0)\n",
    "end = (0,3)\n",
    "\n",
    "path = astar.run(maze3,start,end,n = 15)\n",
    "astar.show_path(maze3,start,end,path)"
   ]
  },
  {
   "cell_type": "markdown",
   "metadata": {},
   "source": [
    "# Pathfinding in westworld environment"
   ]
  },
  {
   "cell_type": "markdown",
   "metadata": {},
   "source": [
    "## Pathfinding in toy environment"
   ]
  },
  {
   "cell_type": "markdown",
   "metadata": {},
   "source": [
    "### Simple configuration"
   ]
  },
  {
   "cell_type": "code",
   "execution_count": 30,
   "metadata": {
    "ExecuteTime": {
     "end_time": "2020-05-17T16:14:01.022824Z",
     "start_time": "2020-05-17T16:14:00.120867Z"
    }
   },
   "outputs": [
    {
     "data": {
      "image/png": "[encoded data removed]",
      "text/plain": [
       "<PIL.Image.Image image mode=RGB size=750x500 at 0x2024A4AE388>"
      ]
     },
     "execution_count": 30,
     "metadata": {},
     "output_type": "execute_result"
    }
   ],
   "source": [
    "from westworld.environment.grid import GridEnvironment\n",
    "from westworld.agents.grid import BaseAgent,BaseObstacle,BaseTrigger\n",
    "from westworld.simulation.simulation import Simulation\n",
    "import pygame\n",
    "\n",
    "BOX_SIZE = 50\n",
    "\n",
    "class Agent(BaseAgent):\n",
    "    def step(self):\n",
    "        self.move_towards(obj = triggers[0])\n",
    "\n",
    "agents = [Agent(1,1,1,1,circle = True),Agent(1,3,1,1,circle = True)]\n",
    "obstacles = [BaseObstacle(7,0,1,8,(0,200,100))]\n",
    "triggers = [BaseTrigger(8,1,1,1,(255,255,255),circle = True)]\n",
    "\n",
    "\n",
    "# Setup grid\n",
    "env = GridEnvironment(BOX_SIZE,15,10,objects = agents + obstacles + triggers)\n",
    "env.render()\n",
    "env.get_img()"
   ]
  },
  {
   "cell_type": "markdown",
   "metadata": {},
   "source": [
    "### Pathfinding"
   ]
  },
  {
   "cell_type": "code",
   "execution_count": 31,
   "metadata": {
    "ExecuteTime": {
     "end_time": "2020-05-17T16:14:01.141258Z",
     "start_time": "2020-05-17T16:14:01.035257Z"
    }
   },
   "outputs": [],
   "source": [
    "agents[0].step()"
   ]
  },
  {
   "cell_type": "code",
   "execution_count": 32,
   "metadata": {
    "ExecuteTime": {
     "end_time": "2020-05-17T16:14:01.235912Z",
     "start_time": "2020-05-17T16:14:01.144212Z"
    }
   },
   "outputs": [],
   "source": [
    "env.render()"
   ]
  },
  {
   "cell_type": "code",
   "execution_count": 33,
   "metadata": {
    "ExecuteTime": {
     "end_time": "2020-05-17T16:14:01.362661Z",
     "start_time": "2020-05-17T16:14:01.239978Z"
    }
   },
   "outputs": [
    {
     "data": {
      "image/png": "[encoded data removed]",
      "text/plain": [
       "<PIL.Image.Image image mode=RGB size=750x500 at 0x2024A380708>"
      ]
     },
     "execution_count": 33,
     "metadata": {},
     "output_type": "execute_result"
    }
   ],
   "source": [
    "env.get_img()"
   ]
  },
  {
   "cell_type": "markdown",
   "metadata": {},
   "source": [
    "How does it work ?"
   ]
  },
  {
   "cell_type": "markdown",
   "metadata": {},
   "source": [
    "The code extracts a navigation mesh"
   ]
  },
  {
   "cell_type": "code",
   "execution_count": 34,
   "metadata": {
    "ExecuteTime": {
     "end_time": "2020-05-17T16:14:02.446284Z",
     "start_time": "2020-05-17T16:14:02.349678Z"
    }
   },
   "outputs": [
    {
     "data": {
      "text/plain": [
       "array([[0., 0., 0., 0., 0., 0., 0., 1., 0., 0., 0., 0., 0., 0., 0.],\n",
       "       [0., 0., 0., 0., 0., 0., 0., 1., 0., 0., 0., 0., 0., 0., 0.],\n",
       "       [0., 0., 0., 0., 0., 0., 0., 1., 0., 0., 0., 0., 0., 0., 0.],\n",
       "       [0., 1., 0., 0., 0., 0., 0., 1., 0., 0., 0., 0., 0., 0., 0.],\n",
       "       [0., 0., 0., 0., 0., 0., 0., 1., 0., 0., 0., 0., 0., 0., 0.],\n",
       "       [0., 0., 0., 0., 0., 0., 0., 1., 0., 0., 0., 0., 0., 0., 0.],\n",
       "       [0., 0., 0., 0., 0., 0., 0., 1., 0., 0., 0., 0., 0., 0., 0.],\n",
       "       [0., 0., 0., 0., 0., 0., 0., 1., 0., 0., 0., 0., 0., 0., 0.],\n",
       "       [0., 0., 0., 0., 0., 0., 0., 0., 0., 0., 0., 0., 0., 0., 0.],\n",
       "       [0., 0., 0., 0., 0., 0., 0., 0., 0., 0., 0., 0., 0., 0., 0.]])"
      ]
     },
     "execution_count": 34,
     "metadata": {},
     "output_type": "execute_result"
    }
   ],
   "source": [
    "mesh = env.get_navigation_mesh(agents[0])\n",
    "mesh"
   ]
  },
  {
   "cell_type": "markdown",
   "metadata": {},
   "source": [
    "Then run the A* algorithm as shown above"
   ]
  },
  {
   "cell_type": "code",
   "execution_count": 35,
   "metadata": {
    "ExecuteTime": {
     "end_time": "2020-05-17T16:14:03.463423Z",
     "start_time": "2020-05-17T16:14:03.367216Z"
    }
   },
   "outputs": [],
   "source": [
    "from westworld.algorithms.pathfinding.astar import AStar\n",
    "astar = AStar()"
   ]
  },
  {
   "cell_type": "code",
   "execution_count": 36,
   "metadata": {
    "ExecuteTime": {
     "end_time": "2020-05-17T16:14:03.961011Z",
     "start_time": "2020-05-17T16:14:03.816759Z"
    }
   },
   "outputs": [
    {
     "data": {
      "text/plain": [
       "[(1, 1),\n",
       " (1, 2),\n",
       " (1, 3),\n",
       " (1, 4),\n",
       " (1, 5),\n",
       " (1, 6),\n",
       " (2, 6),\n",
       " (3, 6),\n",
       " (4, 6),\n",
       " (5, 6),\n",
       " (6, 6),\n",
       " (7, 6),\n",
       " (8, 6),\n",
       " (8, 7),\n",
       " (8, 8),\n",
       " (7, 8),\n",
       " (6, 8),\n",
       " (5, 8),\n",
       " (4, 8),\n",
       " (3, 8),\n",
       " (2, 8),\n",
       " (1, 8)]"
      ]
     },
     "execution_count": 36,
     "metadata": {},
     "output_type": "execute_result"
    }
   ],
   "source": [
    "start = (1,1)\n",
    "end = (1,8)\n",
    "path = astar.run(mesh,start,end)\n",
    "path"
   ]
  },
  {
   "cell_type": "code",
   "execution_count": 37,
   "metadata": {
    "ExecuteTime": {
     "end_time": "2020-05-17T16:14:04.510147Z",
     "start_time": "2020-05-17T16:14:04.414787Z"
    }
   },
   "outputs": [
    {
     "name": "stdout",
     "output_type": "stream",
     "text": [
      "|               #               |\n",
      "|   O . . . . . # X             |\n",
      "|             . # .             |\n",
      "|   #         . # .             |\n",
      "|             . # .             |\n",
      "|             . # .             |\n",
      "|             . # .             |\n",
      "|             . # .             |\n",
      "|             . . .             |\n",
      "|                               |\n"
     ]
    }
   ],
   "source": [
    "astar.show_path(mesh,start,end,path)"
   ]
  },
  {
   "cell_type": "markdown",
   "metadata": {},
   "source": [
    "### Running a simulation"
   ]
  },
  {
   "cell_type": "code",
   "execution_count": 38,
   "metadata": {
    "ExecuteTime": {
     "end_time": "2020-05-17T16:14:05.506104Z",
     "start_time": "2020-05-17T16:14:05.413148Z"
    }
   },
   "outputs": [],
   "source": [
    "sim = Simulation(env)"
   ]
  },
  {
   "cell_type": "code",
   "execution_count": 39,
   "metadata": {
    "ExecuteTime": {
     "end_time": "2020-05-17T16:14:07.928561Z",
     "start_time": "2020-05-17T16:14:06.010207Z"
    }
   },
   "outputs": [
    {
     "data": {
      "application/vnd.jupyter.widget-view+json": {
       "model_id": "e1f0c35679304d3394f00c152003d6b4",
       "version_major": 2,
       "version_minor": 0
      },
      "text/plain": [
       "HBox(children=(FloatProgress(value=0.0, max=10.0), HTML(value='')))"
      ]
     },
     "metadata": {},
     "output_type": "display_data"
    },
    {
     "name": "stdout",
     "output_type": "stream",
     "text": [
      "[INFO] Saving gif at ./captures/toy_pathfinding.gif\n",
      "\n"
     ]
    },
    {
     "data": {
      "application/vnd.jupyter.widget-view+json": {
       "model_id": "acc5031959254c8a9785af256dbb8ed7",
       "version_major": 2,
       "version_minor": 0
      },
      "text/plain": [
       "interactive(children=(Play(value=0, description='Press play', interval=333, max=10), Output()), _dom_classes=(…"
      ]
     },
     "metadata": {},
     "output_type": "display_data"
    },
    {
     "data": {
      "application/vnd.jupyter.widget-view+json": {
       "model_id": "8b17763d98a847b7bcefe8617f1f3c34",
       "version_major": 2,
       "version_minor": 0
      },
      "text/plain": [
       "IntSlider(value=0, max=10)"
      ]
     },
     "metadata": {},
     "output_type": "display_data"
    }
   ],
   "source": [
    "sim.run_episode(10,save = \"toy_pathfinding.gif\",replay = True,fps_replay = 3)"
   ]
  },
  {
   "cell_type": "code",
   "execution_count": 52,
   "metadata": {
    "ExecuteTime": {
     "end_time": "2020-04-08T13:52:29.756455Z",
     "start_time": "2020-04-08T13:52:29.430650Z"
    }
   },
   "outputs": [],
   "source": [
    "env.quit()"
   ]
  }
 ],
 "metadata": {
  "kernelspec": {
   "display_name": "Python 3",
   "language": "python",
   "name": "python3"
  },
  "language_info": {
   "codemirror_mode": {
    "name": "ipython",
    "version": 3
   },
   "file_extension": ".py",
   "mimetype": "text/x-python",
   "name": "python",
   "nbconvert_exporter": "python",
   "pygments_lexer": "ipython3",
   "version": "3.7.4"
  },
  "toc": {
   "base_numbering": 1,
   "nav_menu": {},
   "number_sections": true,
   "sideBar": true,
   "skip_h1_title": false,
   "title_cell": "Table of Contents",
   "title_sidebar": "Contents",
   "toc_cell": false,
   "toc_position": {},
   "toc_section_display": true,
   "toc_window_display": false
  }
 },
 "nbformat": 4,
 "nbformat_minor": 2
}
