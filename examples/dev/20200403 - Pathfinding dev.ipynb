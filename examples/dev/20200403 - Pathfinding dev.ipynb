{
 "cells": [
  {
   "cell_type": "markdown",
   "metadata": {},
   "source": [
    "# Pathfinding"
   ]
  },
  {
   "cell_type": "code",
   "execution_count": 1,
   "metadata": {
    "ExecuteTime": {
     "end_time": "2020-04-04T12:10:07.223396Z",
     "start_time": "2020-04-04T12:10:05.127843Z"
    }
   },
   "outputs": [],
   "source": [
    "# Base Data Science snippet\n",
    "import pandas as pd\n",
    "import numpy as np\n",
    "import matplotlib.pyplot as plt\n",
    "import os\n",
    "import time\n",
    "from tqdm import tqdm_notebook\n",
    "\n",
    "%matplotlib inline\n",
    "%load_ext autoreload\n",
    "%autoreload 2"
   ]
  },
  {
   "cell_type": "code",
   "execution_count": 2,
   "metadata": {
    "ExecuteTime": {
     "end_time": "2020-04-04T12:10:07.848098Z",
     "start_time": "2020-04-04T12:10:07.695539Z"
    }
   },
   "outputs": [],
   "source": [
    "import sys\n",
    "sys.path.append(\"C:/git/westworld\")\n",
    "\n",
    "import westworld"
   ]
  },
  {
   "cell_type": "markdown",
   "metadata": {},
   "source": [
    "# Pathfinding in a numpy array maze"
   ]
  },
  {
   "cell_type": "markdown",
   "metadata": {},
   "source": [
    "## Applying A* to a numpy array problem"
   ]
  },
  {
   "cell_type": "code",
   "execution_count": 5,
   "metadata": {
    "ExecuteTime": {
     "end_time": "2020-04-04T12:10:39.883444Z",
     "start_time": "2020-04-04T12:10:39.751096Z"
    }
   },
   "outputs": [],
   "source": [
    "from westworld.algorithms.pathfinding.astar import AStar"
   ]
  },
  {
   "cell_type": "code",
   "execution_count": 6,
   "metadata": {
    "ExecuteTime": {
     "end_time": "2020-04-04T12:10:40.106182Z",
     "start_time": "2020-04-04T12:10:40.001502Z"
    }
   },
   "outputs": [],
   "source": [
    "astar = AStar()"
   ]
  },
  {
   "cell_type": "code",
   "execution_count": 20,
   "metadata": {
    "ExecuteTime": {
     "end_time": "2020-04-04T12:17:18.477368Z",
     "start_time": "2020-04-04T12:17:17.933926Z"
    }
   },
   "outputs": [],
   "source": [
    "maze = np.array([\n",
    "        [0, 0, 0, 0, 1, 0, 0, 0, 0, 0],\n",
    "        [0, 0, 0, 0, 1, 0, 0, 0, 0, 0],\n",
    "        [0, 0, 0, 0, 1, 0, 0, 0, 0, 0],\n",
    "        [0, 0, 0, 0, 1, 0, 0, 0, 0, 0],\n",
    "        [0, 0, 0, 0, 1, 0, 0, 0, 0, 0],\n",
    "        [0, 0, 0, 0, 0, 0, 0, 0, 0, 0],\n",
    "        [0, 0, 0, 0, 1, 0, 0, 0, 0, 0],\n",
    "        [0, 0, 0, 0, 1, 0, 0, 0, 0, 0],\n",
    "        [0, 0, 0, 0, 1, 0, 0, 0, 0, 0],\n",
    "        [0, 0, 0, 0, 0, 0, 0, 0, 0, 0]]\n",
    ")\n",
    "\n",
    "start = (0, 0)\n",
    "end = (7, 6)"
   ]
  },
  {
   "cell_type": "markdown",
   "metadata": {},
   "source": [
    "##### Finding the shortest path"
   ]
  },
  {
   "cell_type": "code",
   "execution_count": 21,
   "metadata": {
    "ExecuteTime": {
     "end_time": "2020-04-04T12:17:19.804932Z",
     "start_time": "2020-04-04T12:17:19.683201Z"
    }
   },
   "outputs": [
    {
     "data": {
      "text/plain": [
       "[(0, 0),\n",
       " (1, 0),\n",
       " (1, 1),\n",
       " (2, 1),\n",
       " (2, 2),\n",
       " (3, 2),\n",
       " (3, 3),\n",
       " (4, 3),\n",
       " (5, 3),\n",
       " (5, 4),\n",
       " (5, 5),\n",
       " (6, 5),\n",
       " (6, 6),\n",
       " (7, 6)]"
      ]
     },
     "execution_count": 21,
     "metadata": {},
     "output_type": "execute_result"
    }
   ],
   "source": [
    "path = astar.run(maze,start,end)\n",
    "path"
   ]
  },
  {
   "cell_type": "code",
   "execution_count": 24,
   "metadata": {
    "ExecuteTime": {
     "end_time": "2020-04-04T12:17:38.358776Z",
     "start_time": "2020-04-04T12:17:37.774226Z"
    }
   },
   "outputs": [
    {
     "data": {
      "text/plain": [
       "array([[3, 0, 0, 0, 1, 0, 0, 0, 0, 0],\n",
       "       [2, 2, 0, 0, 1, 0, 0, 0, 0, 0],\n",
       "       [0, 2, 2, 0, 1, 0, 0, 0, 0, 0],\n",
       "       [0, 0, 2, 2, 1, 0, 0, 0, 0, 0],\n",
       "       [0, 0, 0, 2, 1, 0, 0, 0, 0, 0],\n",
       "       [0, 0, 0, 2, 2, 2, 0, 0, 0, 0],\n",
       "       [0, 0, 0, 0, 1, 2, 2, 0, 0, 0],\n",
       "       [0, 0, 0, 0, 1, 0, 4, 0, 0, 0],\n",
       "       [0, 0, 0, 0, 1, 0, 0, 0, 0, 0],\n",
       "       [0, 0, 0, 0, 0, 0, 0, 0, 0, 0]])"
      ]
     },
     "execution_count": 24,
     "metadata": {},
     "output_type": "execute_result"
    }
   ],
   "source": [
    "test = maze.copy()\n",
    "test[tuple(np.array(path).T)] = 2\n",
    "test[start] = 3\n",
    "test[end] = 4\n",
    "test"
   ]
  },
  {
   "cell_type": "code",
   "execution_count": 29,
   "metadata": {
    "ExecuteTime": {
     "end_time": "2020-04-04T12:20:20.271732Z",
     "start_time": "2020-04-04T12:20:20.150284Z"
    }
   },
   "outputs": [
    {
     "name": "stdout",
     "output_type": "stream",
     "text": [
      "| O       #           |\n",
      "| o o     #           |\n",
      "|   o o   #           |\n",
      "|     o o #           |\n",
      "|       o #           |\n",
      "|       o o o         |\n",
      "|         # o o       |\n",
      "|         #   X       |\n",
      "|         #           |\n",
      "|                     |\n"
     ]
    }
   ],
   "source": [
    "astar.show_path(maze,start,end,path)"
   ]
  },
  {
   "cell_type": "markdown",
   "metadata": {},
   "source": [
    "##### Finding the shortest path with diagonal moves"
   ]
  },
  {
   "cell_type": "code",
   "execution_count": 30,
   "metadata": {
    "ExecuteTime": {
     "end_time": "2020-04-04T12:20:31.215864Z",
     "start_time": "2020-04-04T12:20:31.091975Z"
    }
   },
   "outputs": [
    {
     "data": {
      "text/plain": [
       "[(0, 0), (1, 1), (2, 2), (3, 3), (4, 3), (5, 4), (6, 5), (7, 6)]"
      ]
     },
     "execution_count": 30,
     "metadata": {},
     "output_type": "execute_result"
    }
   ],
   "source": [
    "path = astar.run(maze,start,end,diagonal = True)\n",
    "path"
   ]
  },
  {
   "cell_type": "markdown",
   "metadata": {},
   "source": [
    "Visualizing the path"
   ]
  },
  {
   "cell_type": "code",
   "execution_count": 31,
   "metadata": {
    "ExecuteTime": {
     "end_time": "2020-04-04T12:20:50.700442Z",
     "start_time": "2020-04-04T12:20:50.580877Z"
    }
   },
   "outputs": [
    {
     "name": "stdout",
     "output_type": "stream",
     "text": [
      "| O       #           |\n",
      "|   o     #           |\n",
      "|     o   #           |\n",
      "|       o #           |\n",
      "|       o #           |\n",
      "|         o           |\n",
      "|         # o         |\n",
      "|         #   X       |\n",
      "|         #           |\n",
      "|                     |\n"
     ]
    }
   ],
   "source": [
    "astar.show_path(maze,start,end,path)"
   ]
  },
  {
   "cell_type": "markdown",
   "metadata": {},
   "source": [
    "## Performance test"
   ]
  },
  {
   "cell_type": "markdown",
   "metadata": {
    "ExecuteTime": {
     "end_time": "2020-04-03T14:53:39.032018Z",
     "start_time": "2020-04-03T14:53:38.947225Z"
    }
   },
   "source": [
    "A* simple implementation runs in this simple example in half a ms"
   ]
  },
  {
   "cell_type": "code",
   "execution_count": 14,
   "metadata": {
    "ExecuteTime": {
     "end_time": "2020-04-04T12:00:09.840527Z",
     "start_time": "2020-04-04T12:00:03.899676Z"
    }
   },
   "outputs": [
    {
     "name": "stdout",
     "output_type": "stream",
     "text": [
      "705 µs ± 57.5 µs per loop (mean ± std. dev. of 7 runs, 1000 loops each)\n"
     ]
    }
   ],
   "source": [
    "%%timeit\n",
    "path = astar.run(maze,start,end)"
   ]
  },
  {
   "cell_type": "markdown",
   "metadata": {},
   "source": [
    "## Testing on a new maze similar to the environment below"
   ]
  },
  {
   "cell_type": "code",
   "execution_count": 58,
   "metadata": {
    "ExecuteTime": {
     "end_time": "2020-04-04T13:42:29.643934Z",
     "start_time": "2020-04-04T13:42:29.354707Z"
    }
   },
   "outputs": [
    {
     "data": {
      "text/plain": [
       "[(1, 1),\n",
       " (1, 2),\n",
       " (1, 3),\n",
       " (1, 4),\n",
       " (1, 5),\n",
       " (1, 6),\n",
       " (2, 6),\n",
       " (3, 6),\n",
       " (4, 6),\n",
       " (5, 6),\n",
       " (6, 6),\n",
       " (7, 6),\n",
       " (8, 6),\n",
       " (8, 7),\n",
       " (8, 8),\n",
       " (7, 8),\n",
       " (6, 8),\n",
       " (5, 8),\n",
       " (5, 9),\n",
       " (5, 10),\n",
       " (4, 10),\n",
       " (3, 10),\n",
       " (2, 10),\n",
       " (1, 10)]"
      ]
     },
     "execution_count": 58,
     "metadata": {},
     "output_type": "execute_result"
    }
   ],
   "source": [
    "maze2 = np.uint8(np.array([\n",
    "       [0., 0., 0., 0., 0., 0., 0., 1., 0., 0., 0., 0., 0., 0., 0.],\n",
    "       [0., 0., 0., 0., 0., 0., 0., 1., 0., 0., 0., 0., 0., 0., 0.],\n",
    "       [0., 0., 0., 0., 0., 0., 0., 1., 0., 0., 0., 0., 0., 0., 0.],\n",
    "       [0., 1., 0., 0., 0., 0., 0., 1., 0., 0., 0., 1., 0., 0., 0.],\n",
    "       [0., 0., 0., 0., 0., 0., 0., 1., 1., 1., 0., 1., 0., 0., 0.],\n",
    "       [0., 0., 0., 0., 0., 0., 0., 1., 0., 0., 0., 0., 0., 0., 0.],\n",
    "       [0., 0., 0., 0., 0., 0., 0., 1., 0., 0., 0., 0., 0., 0., 0.],\n",
    "       [0., 0., 0., 0., 0., 0., 0., 1., 0., 0., 0., 0., 0., 0., 0.],\n",
    "       [0., 0., 0., 0., 0., 0., 0., 0., 0., 0., 0., 0., 0., 0., 0.],\n",
    "       [0., 0., 0., 0., 0., 0., 0., 0., 0., 0., 0., 0., 0., 0., 0.]]))\n",
    "\n",
    "start = (1,1)\n",
    "end = (1,10)\n",
    "\n",
    "path = astar.run(maze2,start,end)\n",
    "path"
   ]
  },
  {
   "cell_type": "code",
   "execution_count": 59,
   "metadata": {
    "ExecuteTime": {
     "end_time": "2020-04-04T13:42:31.070765Z",
     "start_time": "2020-04-04T13:42:30.904208Z"
    }
   },
   "outputs": [
    {
     "name": "stdout",
     "output_type": "stream",
     "text": [
      "|               #               |\n",
      "|   O . . . . . #     X         |\n",
      "|             . #     .         |\n",
      "|   #         . #     . #       |\n",
      "|             . # # # . #       |\n",
      "|             . # . . .         |\n",
      "|             . # .             |\n",
      "|             . # .             |\n",
      "|             . . .             |\n",
      "|                               |\n"
     ]
    }
   ],
   "source": [
    "astar.show_path(maze2,start,end,path)"
   ]
  },
  {
   "cell_type": "markdown",
   "metadata": {},
   "source": [
    "## Debugging and adding early stopping"
   ]
  },
  {
   "cell_type": "code",
   "execution_count": 60,
   "metadata": {
    "ExecuteTime": {
     "end_time": "2020-04-04T13:42:52.315622Z",
     "start_time": "2020-04-04T13:42:52.160038Z"
    }
   },
   "outputs": [
    {
     "data": {
      "text/plain": [
       "array([[0, 0, 1, 0, 0],\n",
       "       [0, 0, 1, 0, 0],\n",
       "       [0, 0, 0, 1, 0],\n",
       "       [0, 0, 0, 0, 0],\n",
       "       [0, 0, 0, 0, 0]], dtype=uint8)"
      ]
     },
     "execution_count": 60,
     "metadata": {},
     "output_type": "execute_result"
    }
   ],
   "source": [
    "maze3 = np.uint8(np.array([\n",
    "       [0, 0, 1, 0, 0],\n",
    "       [0, 0, 1, 0, 0],\n",
    "       [0, 0, 0, 1, 0],\n",
    "       [0, 0, 0, 0, 0],\n",
    "       [0, 0, 0, 0, 0],\n",
    "]))\n",
    "maze3"
   ]
  },
  {
   "cell_type": "code",
   "execution_count": 61,
   "metadata": {
    "ExecuteTime": {
     "end_time": "2020-04-04T13:42:55.771919Z",
     "start_time": "2020-04-04T13:42:55.685184Z"
    }
   },
   "outputs": [
    {
     "name": "stdout",
     "output_type": "stream",
     "text": [
      "| O . # X   |\n",
      "|   . # . . |\n",
      "|   . . # . |\n",
      "|     . . . |\n",
      "|           |\n"
     ]
    }
   ],
   "source": [
    "start = (0,0)\n",
    "end = (0,3)\n",
    "\n",
    "path = astar.run(maze3,start,end,n = 15)\n",
    "astar.show_path(maze3,start,end,path)"
   ]
  },
  {
   "cell_type": "markdown",
   "metadata": {},
   "source": [
    "# Pathfinding in westworld environment"
   ]
  },
  {
   "cell_type": "markdown",
   "metadata": {},
   "source": [
    "## Create toy environment"
   ]
  },
  {
   "cell_type": "code",
   "execution_count": 62,
   "metadata": {
    "ExecuteTime": {
     "end_time": "2020-04-04T13:43:13.174472Z",
     "start_time": "2020-04-04T13:43:11.929682Z"
    }
   },
   "outputs": [
    {
     "name": "stdout",
     "output_type": "stream",
     "text": [
      "pygame 1.9.6\n",
      "Hello from the pygame community. https://www.pygame.org/contribute.html\n"
     ]
    }
   ],
   "source": [
    "from westworld.environment.grid import GridEnvironment\n",
    "from westworld.agents.grid import GridAgent,Obstacle,Trigger\n",
    "import pygame\n",
    "\n",
    "BOX_SIZE = 50\n",
    "\n",
    "class Agent(GridAgent):\n",
    "    def step(self,env):\n",
    "        self.move(dx = 1,env = env)\n",
    "\n",
    "agents = [Agent(1,1,1,1,BOX_SIZE,circle = True),Agent(1,3,1,1,BOX_SIZE,circle = True),]\n",
    "obstacles = [Obstacle(7,0,1,8,BOX_SIZE,(0,200,100))]\n",
    "triggers = [Trigger(8,1,1,1,BOX_SIZE,(255,255,255),circle = True)]\n",
    "\n",
    "\n",
    "# Setup grid\n",
    "env = GridEnvironment(BOX_SIZE,15,10,objects = agents + obstacles + triggers)"
   ]
  },
  {
   "cell_type": "code",
   "execution_count": 63,
   "metadata": {
    "ExecuteTime": {
     "end_time": "2020-04-04T13:43:14.730439Z",
     "start_time": "2020-04-04T13:43:14.640680Z"
    }
   },
   "outputs": [
    {
     "data": {
      "text/plain": [
       "array([[0., 0., 0., 0., 0., 0., 0., 0., 0., 0., 0., 0., 0., 0., 0.],\n",
       "       [0., 0., 0., 0., 0., 0., 0., 0., 0., 0., 0., 0., 0., 0., 0.],\n",
       "       [0., 0., 0., 0., 0., 0., 0., 0., 0., 0., 0., 0., 0., 0., 0.],\n",
       "       [0., 0., 0., 0., 0., 0., 0., 0., 0., 0., 0., 0., 0., 0., 0.],\n",
       "       [0., 0., 0., 0., 0., 0., 0., 0., 0., 0., 0., 0., 0., 0., 0.],\n",
       "       [0., 0., 0., 0., 0., 0., 0., 0., 0., 0., 0., 0., 0., 0., 0.],\n",
       "       [0., 0., 0., 0., 0., 0., 0., 0., 0., 0., 0., 0., 0., 0., 0.],\n",
       "       [0., 0., 0., 0., 0., 0., 0., 0., 0., 0., 0., 0., 0., 0., 0.],\n",
       "       [0., 0., 0., 0., 0., 0., 0., 0., 0., 0., 0., 0., 0., 0., 0.],\n",
       "       [0., 0., 0., 0., 0., 0., 0., 0., 0., 0., 0., 0., 0., 0., 0.]])"
      ]
     },
     "execution_count": 63,
     "metadata": {},
     "output_type": "execute_result"
    }
   ],
   "source": [
    "env.get_grid()"
   ]
  },
  {
   "cell_type": "code",
   "execution_count": 64,
   "metadata": {
    "ExecuteTime": {
     "end_time": "2020-04-04T13:43:15.779498Z",
     "start_time": "2020-04-04T13:43:15.687742Z"
    }
   },
   "outputs": [
    {
     "data": {
      "text/plain": [
       "array([[0., 0., 0., 0., 0., 0., 0., 1., 0., 0., 0., 0., 0., 0., 0.],\n",
       "       [0., 1., 0., 0., 0., 0., 0., 1., 0., 0., 0., 0., 0., 0., 0.],\n",
       "       [0., 0., 0., 0., 0., 0., 0., 1., 0., 0., 0., 0., 0., 0., 0.],\n",
       "       [0., 1., 0., 0., 0., 0., 0., 1., 0., 0., 0., 0., 0., 0., 0.],\n",
       "       [0., 0., 0., 0., 0., 0., 0., 1., 0., 0., 0., 0., 0., 0., 0.],\n",
       "       [0., 0., 0., 0., 0., 0., 0., 1., 0., 0., 0., 0., 0., 0., 0.],\n",
       "       [0., 0., 0., 0., 0., 0., 0., 1., 0., 0., 0., 0., 0., 0., 0.],\n",
       "       [0., 0., 0., 0., 0., 0., 0., 1., 0., 0., 0., 0., 0., 0., 0.],\n",
       "       [0., 0., 0., 0., 0., 0., 0., 0., 0., 0., 0., 0., 0., 0., 0.],\n",
       "       [0., 0., 0., 0., 0., 0., 0., 0., 0., 0., 0., 0., 0., 0., 0.]])"
      ]
     },
     "execution_count": 64,
     "metadata": {},
     "output_type": "execute_result"
    }
   ],
   "source": [
    "mesh = env.get_navigation_mesh()\n",
    "mesh"
   ]
  },
  {
   "cell_type": "markdown",
   "metadata": {},
   "source": [
    "Performance tests are OK for now,for this size"
   ]
  },
  {
   "cell_type": "code",
   "execution_count": 42,
   "metadata": {
    "ExecuteTime": {
     "end_time": "2020-04-04T09:48:46.505187Z",
     "start_time": "2020-04-04T09:48:32.813775Z"
    }
   },
   "outputs": [
    {
     "name": "stdout",
     "output_type": "stream",
     "text": [
      "16.7 µs ± 293 ns per loop (mean ± std. dev. of 7 runs, 100000 loops each)\n"
     ]
    }
   ],
   "source": [
    "%%timeit\n",
    "env.get_navigation_mesh()"
   ]
  },
  {
   "cell_type": "code",
   "execution_count": 108,
   "metadata": {
    "ExecuteTime": {
     "end_time": "2020-04-04T10:53:12.335180Z",
     "start_time": "2020-04-04T10:53:12.239434Z"
    }
   },
   "outputs": [],
   "source": [
    "env.render()"
   ]
  },
  {
   "cell_type": "code",
   "execution_count": 72,
   "metadata": {
    "ExecuteTime": {
     "end_time": "2020-04-04T20:43:32.805405Z",
     "start_time": "2020-04-04T20:43:32.168896Z"
    }
   },
   "outputs": [],
   "source": [
    "env.quit()"
   ]
  },
  {
   "cell_type": "markdown",
   "metadata": {},
   "source": [
    "## Pathfinding dev"
   ]
  },
  {
   "cell_type": "code",
   "execution_count": 65,
   "metadata": {
    "ExecuteTime": {
     "end_time": "2020-04-04T13:43:27.414699Z",
     "start_time": "2020-04-04T13:43:27.284492Z"
    }
   },
   "outputs": [],
   "source": [
    "from westworld.algorithms import AStar"
   ]
  },
  {
   "cell_type": "code",
   "execution_count": 66,
   "metadata": {
    "ExecuteTime": {
     "end_time": "2020-04-04T13:43:28.042780Z",
     "start_time": "2020-04-04T13:43:27.899513Z"
    }
   },
   "outputs": [],
   "source": [
    "astar = AStar()"
   ]
  },
  {
   "cell_type": "code",
   "execution_count": 67,
   "metadata": {
    "ExecuteTime": {
     "end_time": "2020-04-04T13:43:28.774043Z",
     "start_time": "2020-04-04T13:43:28.637817Z"
    }
   },
   "outputs": [
    {
     "data": {
      "text/plain": [
       "Agent(x=1,y=1)"
      ]
     },
     "execution_count": 67,
     "metadata": {},
     "output_type": "execute_result"
    }
   ],
   "source": [
    "agent1 = agents[0]\n",
    "agent1"
   ]
  },
  {
   "cell_type": "code",
   "execution_count": 68,
   "metadata": {
    "ExecuteTime": {
     "end_time": "2020-04-04T13:43:30.276816Z",
     "start_time": "2020-04-04T13:43:30.130303Z"
    }
   },
   "outputs": [
    {
     "data": {
      "text/plain": [
       "array([[0., 0., 0., 0., 0., 0., 0., 1., 0., 0., 0., 0., 0., 0., 0.],\n",
       "       [0., 0., 0., 0., 0., 0., 0., 1., 0., 0., 0., 0., 0., 0., 0.],\n",
       "       [0., 0., 0., 0., 0., 0., 0., 1., 0., 0., 0., 0., 0., 0., 0.],\n",
       "       [0., 1., 0., 0., 0., 0., 0., 1., 0., 0., 0., 0., 0., 0., 0.],\n",
       "       [0., 0., 0., 0., 0., 0., 0., 1., 0., 0., 0., 0., 0., 0., 0.],\n",
       "       [0., 0., 0., 0., 0., 0., 0., 1., 0., 0., 0., 0., 0., 0., 0.],\n",
       "       [0., 0., 0., 0., 0., 0., 0., 1., 0., 0., 0., 0., 0., 0., 0.],\n",
       "       [0., 0., 0., 0., 0., 0., 0., 1., 0., 0., 0., 0., 0., 0., 0.],\n",
       "       [0., 0., 0., 0., 0., 0., 0., 0., 0., 0., 0., 0., 0., 0., 0.],\n",
       "       [0., 0., 0., 0., 0., 0., 0., 0., 0., 0., 0., 0., 0., 0., 0.]])"
      ]
     },
     "execution_count": 68,
     "metadata": {},
     "output_type": "execute_result"
    }
   ],
   "source": [
    "mesh1 = env.get_navigation_mesh(agent1)\n",
    "mesh1"
   ]
  },
  {
   "cell_type": "code",
   "execution_count": 69,
   "metadata": {
    "ExecuteTime": {
     "end_time": "2020-04-04T13:43:33.595627Z",
     "start_time": "2020-04-04T13:43:33.471204Z"
    }
   },
   "outputs": [
    {
     "data": {
      "text/plain": [
       "(1, 1)"
      ]
     },
     "execution_count": 69,
     "metadata": {},
     "output_type": "execute_result"
    }
   ],
   "source": [
    "agent1.pos_array[0]"
   ]
  },
  {
   "cell_type": "code",
   "execution_count": 70,
   "metadata": {
    "ExecuteTime": {
     "end_time": "2020-04-04T13:43:34.199028Z",
     "start_time": "2020-04-04T13:43:34.041276Z"
    }
   },
   "outputs": [
    {
     "data": {
      "text/plain": [
       "(1, 8)"
      ]
     },
     "execution_count": 70,
     "metadata": {},
     "output_type": "execute_result"
    }
   ],
   "source": [
    "triggers[0].pos_array[0]"
   ]
  },
  {
   "cell_type": "code",
   "execution_count": 71,
   "metadata": {
    "ExecuteTime": {
     "end_time": "2020-04-04T13:43:36.141348Z",
     "start_time": "2020-04-04T13:43:35.995173Z"
    }
   },
   "outputs": [
    {
     "data": {
      "text/plain": [
       "[(1, 1),\n",
       " (1, 2),\n",
       " (1, 3),\n",
       " (1, 4),\n",
       " (1, 5),\n",
       " (1, 6),\n",
       " (2, 6),\n",
       " (3, 6),\n",
       " (4, 6),\n",
       " (5, 6),\n",
       " (6, 6),\n",
       " (7, 6),\n",
       " (8, 6),\n",
       " (8, 7),\n",
       " (8, 8),\n",
       " (7, 8),\n",
       " (6, 8),\n",
       " (5, 8),\n",
       " (4, 8),\n",
       " (3, 8),\n",
       " (2, 8),\n",
       " (1, 8)]"
      ]
     },
     "execution_count": 71,
     "metadata": {},
     "output_type": "execute_result"
    }
   ],
   "source": [
    "astar.run(mesh1,agent1.pos_array[0],triggers[0].pos_array[0])"
   ]
  },
  {
   "cell_type": "code",
   "execution_count": null,
   "metadata": {},
   "outputs": [],
   "source": []
  }
 ],
 "metadata": {
  "kernelspec": {
   "display_name": "Python 3",
   "language": "python",
   "name": "python3"
  },
  "language_info": {
   "codemirror_mode": {
    "name": "ipython",
    "version": 3
   },
   "file_extension": ".py",
   "mimetype": "text/x-python",
   "name": "python",
   "nbconvert_exporter": "python",
   "pygments_lexer": "ipython3",
   "version": "3.7.4"
  },
  "toc": {
   "base_numbering": 1,
   "nav_menu": {},
   "number_sections": true,
   "sideBar": true,
   "skip_h1_title": false,
   "title_cell": "Table of Contents",
   "title_sidebar": "Contents",
   "toc_cell": false,
   "toc_position": {},
   "toc_section_display": true,
   "toc_window_display": false
  }
 },
 "nbformat": 4,
 "nbformat_minor": 2
}
