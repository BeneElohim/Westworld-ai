{
 "cells": [
  {
   "cell_type": "markdown",
   "metadata": {},
   "source": [
    "# Collectibles and triggers dev"
   ]
  },
  {
   "cell_type": "code",
   "execution_count": 1,
   "metadata": {
    "ExecuteTime": {
     "end_time": "2020-05-22T12:50:34.096820Z",
     "start_time": "2020-05-22T12:50:31.108244Z"
    }
   },
   "outputs": [],
   "source": [
    "# Base Data Science snippet\n",
    "import pandas as pd\n",
    "import numpy as np\n",
    "import matplotlib.pyplot as plt\n",
    "import os\n",
    "import time\n",
    "from tqdm import tqdm_notebook\n",
    "\n",
    "%matplotlib inline\n",
    "%load_ext autoreload\n",
    "%autoreload 2"
   ]
  },
  {
   "cell_type": "code",
   "execution_count": 2,
   "metadata": {
    "ExecuteTime": {
     "end_time": "2020-05-22T12:50:34.907984Z",
     "start_time": "2020-05-22T12:50:34.784228Z"
    }
   },
   "outputs": [],
   "source": [
    "import sys\n",
    "sys.path.append(\"../../\")\n",
    "import westworld"
   ]
  },
  {
   "cell_type": "markdown",
   "metadata": {},
   "source": [
    "# First collectible env"
   ]
  },
  {
   "cell_type": "code",
   "execution_count": 12,
   "metadata": {
    "ExecuteTime": {
     "end_time": "2020-05-22T13:05:04.409745Z",
     "start_time": "2020-05-22T13:05:04.309487Z"
    }
   },
   "outputs": [
    {
     "data": {
      "text/plain": [
       "(255, 255, 0, 255)"
      ]
     },
     "execution_count": 12,
     "metadata": {},
     "output_type": "execute_result"
    }
   ],
   "source": [
    "sprite1.sprite.image.get_colorkey()"
   ]
  },
  {
   "cell_type": "code",
   "execution_count": 15,
   "metadata": {
    "ExecuteTime": {
     "end_time": "2020-05-22T13:07:25.656758Z",
     "start_time": "2020-05-22T13:06:22.427900Z"
    }
   },
   "outputs": [],
   "source": [
    "import pygame\n",
    "import time\n",
    "from pygame import display\n",
    "from westworld.agents.sprite import BaseSprite\n",
    "\n",
    "# Init game\n",
    "pygame.init()\n",
    "display = pygame.display.set_mode((640,480))\n",
    "display.fill((255,255,255))\n",
    "clock = pygame.time.Clock()\n",
    "\n",
    "font = pygame.font.SysFont('Arial', 30)\n",
    "\n",
    "\n",
    "sprite1 = BaseSprite(300,20,\"sprites/sprite_monster.png\",100)\n",
    "sprite2 = BaseSprite(500,300,\"sprites/sprite_monster.png\",100)\n",
    "size = sprite2.get_size()\n",
    "\n",
    "# Main loop\n",
    "running = True\n",
    "while running:\n",
    "    \n",
    "    display.fill((255,255,255))\n",
    "    \n",
    "    for event in pygame.event.get():\n",
    "        if event.type == pygame.QUIT:\n",
    "            running = False\n",
    "            \n",
    "            \n",
    "#     collisions = sprite1.sprite.mask.overlap(sprite2.sprite.mask)\n",
    "            \n",
    "\n",
    "    sprite1.render(display)\n",
    "    sprite2.render(display)\n",
    "    text = \"Collisions: \"\n",
    "    text2 = pygame.sprite.collide_mask(sprite1.sprite,sprite2.sprite)\n",
    "    textsurface = font.render(f\"{text}{text2}\", False, (0, 0, 0))\n",
    "\n",
    "    x,y = pygame.mouse.get_pos()\n",
    "    sprite2.sprite.rect.x = int(x - size[0] / 2)\n",
    "    sprite2.sprite.rect.y = int(y - size[1] / 2)\n",
    "    \n",
    "    display.blit(textsurface,(0,0))\n",
    "    \n",
    "    \n",
    "\n",
    "    pygame.display.update()\n",
    "    \n",
    "    clock.tick(30)\n"
   ]
  },
  {
   "cell_type": "code",
   "execution_count": null,
   "metadata": {
    "ExecuteTime": {
     "start_time": "2020-05-22T12:50:15.701Z"
    }
   },
   "outputs": [],
   "source": [
    "pygame.quit()"
   ]
  },
  {
   "cell_type": "markdown",
   "metadata": {},
   "source": [
    "# Exemple 2"
   ]
  },
  {
   "cell_type": "code",
   "execution_count": 47,
   "metadata": {
    "ExecuteTime": {
     "end_time": "2020-05-22T13:45:58.106863Z",
     "start_time": "2020-05-22T13:45:55.600644Z"
    }
   },
   "outputs": [],
   "source": [
    "import pygame\n",
    "import time\n",
    "from pygame import display\n",
    "from westworld.agents.sprite import BaseSprite\n",
    "\n",
    "# Init game\n",
    "pygame.init()\n",
    "clock = pygame.time.Clock()\n",
    "\n",
    "font = pygame.font.SysFont('Arial', 30)\n",
    "\n",
    "\n",
    "sprite1 = BaseSprite(0,0,\"schematics/simple_schema.jpg\",transparency = (255,255,255))\n",
    "display = pygame.display.set_mode(sprite1.get_size())\n",
    "display.fill((255,255,255))\n",
    "\n",
    "sprite2 = BaseSprite(500,300,\"sprites/sprite_monster.png\",20)\n",
    "sprite3 = BaseSprite(200,300,\"sprites/sprite_monster.png\",40)\n",
    "sprite4 = BaseSprite(400,200,\"sprites/sprite_monster.png\",40)\n",
    "\n",
    "size = sprite2.get_size()\n",
    "\n",
    "\n",
    "obstacles = pygame.sprite.Group()\n",
    "mesh = pygame.sprite.Group()\n",
    "\n",
    "mesh.add([sprite1.sprite])\n",
    "obstacles.add([sprite3.sprite,sprite4.sprite])\n",
    "\n",
    "\n",
    "# Main loop\n",
    "running = True\n",
    "while running:\n",
    "    \n",
    "    display.fill((0,255,255))\n",
    "    \n",
    "    for event in pygame.event.get():\n",
    "        if event.type == pygame.QUIT:\n",
    "            running = False\n",
    "            \n",
    "            \n",
    "#     collisions = sprite1.sprite.mask.overlap(sprite2.sprite.mask)\n",
    "            \n",
    "\n",
    "    sprite1.render(display)\n",
    "    sprite2.render(display)\n",
    "    sprite3.render(display)\n",
    "    sprite4.render(display)\n",
    "    \n",
    "    text = \"Collisions: \"\n",
    "    text = pygame.sprite.spritecollide(sprite2.sprite,obstacles,False,pygame.sprite.collide_rect_ratio(2))\n",
    "    text2 = pygame.sprite.spritecollide(sprite2.sprite,mesh,False,pygame.sprite.collide_mask)\n",
    "\n",
    "    \n",
    "    textsurface = font.render(f\"{text}{text2}\", False, (0, 0, 0))\n",
    "\n",
    "    x,y = pygame.mouse.get_pos()\n",
    "    sprite2.sprite.rect.x = int(x - size[0] / 2)\n",
    "    sprite2.sprite.rect.y = int(y - size[1] / 2)\n",
    "    \n",
    "    display.blit(textsurface,(0,0))\n",
    "    \n",
    "    \n",
    "\n",
    "    pygame.display.update()\n",
    "    \n",
    "    clock.tick(30)\n"
   ]
  },
  {
   "cell_type": "code",
   "execution_count": 41,
   "metadata": {
    "ExecuteTime": {
     "end_time": "2020-05-22T13:34:48.550758Z",
     "start_time": "2020-05-22T13:34:48.425221Z"
    }
   },
   "outputs": [
    {
     "data": {
      "text/plain": [
       "<Mask(20x23)>"
      ]
     },
     "execution_count": 41,
     "metadata": {},
     "output_type": "execute_result"
    }
   ],
   "source": [
    "text2[0].mask"
   ]
  },
  {
   "cell_type": "code",
   "execution_count": null,
   "metadata": {},
   "outputs": [],
   "source": []
  }
 ],
 "metadata": {
  "kernelspec": {
   "display_name": "Python 3",
   "language": "python",
   "name": "python3"
  },
  "language_info": {
   "codemirror_mode": {
    "name": "ipython",
    "version": 3
   },
   "file_extension": ".py",
   "mimetype": "text/x-python",
   "name": "python",
   "nbconvert_exporter": "python",
   "pygments_lexer": "ipython3",
   "version": "3.7.4"
  },
  "toc": {
   "base_numbering": 1,
   "nav_menu": {},
   "number_sections": true,
   "sideBar": true,
   "skip_h1_title": false,
   "title_cell": "Table of Contents",
   "title_sidebar": "Contents",
   "toc_cell": false,
   "toc_position": {},
   "toc_section_display": true,
   "toc_window_display": false
  }
 },
 "nbformat": 4,
 "nbformat_minor": 2
}
