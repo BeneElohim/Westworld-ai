{
 "cells": [
  {
   "cell_type": "markdown",
   "metadata": {},
   "source": [
    "# Collectibles and triggers dev"
   ]
  },
  {
   "cell_type": "code",
   "execution_count": 1,
   "metadata": {
    "ExecuteTime": {
     "end_time": "2020-06-04T19:12:33.474166Z",
     "start_time": "2020-06-04T19:12:32.084035Z"
    }
   },
   "outputs": [],
   "source": [
    "# Base Data Science snippet\n",
    "import pandas as pd\n",
    "import numpy as np\n",
    "import matplotlib.pyplot as plt\n",
    "import os\n",
    "import time\n",
    "from tqdm import tqdm_notebook\n",
    "\n",
    "%matplotlib inline\n",
    "%load_ext autoreload\n",
    "%autoreload 2"
   ]
  },
  {
   "cell_type": "code",
   "execution_count": 2,
   "metadata": {
    "ExecuteTime": {
     "end_time": "2020-06-04T19:12:34.037668Z",
     "start_time": "2020-06-04T19:12:33.480682Z"
    }
   },
   "outputs": [
    {
     "name": "stdout",
     "output_type": "stream",
     "text": [
      "pygame 1.9.6\n",
      "Hello from the pygame community. https://www.pygame.org/contribute.html\n"
     ]
    }
   ],
   "source": [
    "import sys\n",
    "sys.path.append(\"../../\")\n",
    "from westworld.environment import GridEnvironment\n",
    "from westworld.agents import BaseGridAgent\n",
    "from westworld.objects import BaseObstacle,BaseTrigger,BaseCollectible\n",
    "from westworld.simulation import Simulation\n",
    "from westworld.colors import *"
   ]
  },
  {
   "cell_type": "markdown",
   "metadata": {},
   "source": [
    "# First collectible env"
   ]
  },
  {
   "cell_type": "code",
   "execution_count": 8,
   "metadata": {
    "ExecuteTime": {
     "end_time": "2020-06-04T19:13:24.500135Z",
     "start_time": "2020-06-04T19:13:24.359149Z"
    }
   },
   "outputs": [
    {
     "data": {
      "image/png": "[encoded data removed]",
      "text/plain": [
       "<PIL.Image.Image image mode=RGB size=400x200 at 0x2098FF7A1C8>"
      ]
     },
     "execution_count": 8,
     "metadata": {},
     "output_type": "execute_result"
    }
   ],
   "source": [
    "class Agent(BaseGridAgent):\n",
    "    \n",
    "    def step(self):\n",
    "        _,obj = self.find_closest(condition = {\"collectible\":True})\n",
    "        self.move_towards(obj = obj[0],n = 20)\n",
    "        self.wander()\n",
    "        \n",
    "        \n",
    "obstacle = BaseObstacle(10,0,1,7,color = BLUE)\n",
    "\n",
    "agent_spawner = lambda x,y : Agent(x,y,color = GREEN)\n",
    "coll_spawner = lambda x,y : BaseCollectible(x,y,color = WHITE,circle = True,radius = 0.3)\n",
    " \n",
    "\n",
    "\n",
    "agent1 = agent_spawner(1,1)\n",
    "\n",
    "# Setup grid\n",
    "BOX_SIZE = 20\n",
    "WIDTH = 20\n",
    "HEIGHT = 10\n",
    "env = GridEnvironment(WIDTH,HEIGHT,BOX_SIZE,show_grid = True,objects = [obstacle,agent1])\n",
    "env.spawn(coll_spawner,120)\n",
    "env.render()\n",
    "env.get_img()"
   ]
  },
  {
   "cell_type": "code",
   "execution_count": 109,
   "metadata": {
    "ExecuteTime": {
     "end_time": "2020-06-04T18:56:04.349105Z",
     "start_time": "2020-06-04T18:56:03.998236Z"
    }
   },
   "outputs": [],
   "source": [
    "env.quit()"
   ]
  },
  {
   "cell_type": "markdown",
   "metadata": {},
   "source": [
    "# Run simulation"
   ]
  },
  {
   "cell_type": "code",
   "execution_count": 9,
   "metadata": {
    "ExecuteTime": {
     "end_time": "2020-06-04T19:13:27.303077Z",
     "start_time": "2020-06-04T19:13:27.205212Z"
    }
   },
   "outputs": [],
   "source": [
    "sim = Simulation(env,fps = 30)"
   ]
  },
  {
   "cell_type": "code",
   "execution_count": 10,
   "metadata": {
    "ExecuteTime": {
     "end_time": "2020-06-04T19:13:31.607622Z",
     "start_time": "2020-06-04T19:13:27.490250Z"
    }
   },
   "outputs": [
    {
     "data": {
      "application/vnd.jupyter.widget-view+json": {
       "model_id": "2c537fe3bf804114a24d6636b70cbea6",
       "version_major": 2,
       "version_minor": 0
      },
      "text/plain": [
       "HBox(children=(FloatProgress(value=0.0), HTML(value='')))"
      ]
     },
     "metadata": {},
     "output_type": "display_data"
    },
    {
     "name": "stderr",
     "output_type": "stream",
     "text": [
      "../..\\westworld\\algorithms\\pathfinding\\astar.py:141: UserWarning: Giving up on pathfinding too many iterations\n",
      "  warnings.warn(\"Giving up on pathfinding too many iterations\")\n"
     ]
    },
    {
     "name": "stdout",
     "output_type": "stream",
     "text": [
      "\n"
     ]
    },
    {
     "data": {
      "application/vnd.jupyter.widget-view+json": {
       "model_id": "5d3ebbd06ead43008a06d360c1e29e4e",
       "version_major": 2,
       "version_minor": 0
      },
      "text/plain": [
       "interactive(children=(Play(value=0, description='Press play', interval=200), Output()), _dom_classes=('widget-…"
      ]
     },
     "metadata": {},
     "output_type": "display_data"
    },
    {
     "data": {
      "application/vnd.jupyter.widget-view+json": {
       "model_id": "74102a2bb91e4fb3a89e0a21abf1b94c",
       "version_major": 2,
       "version_minor": 0
      },
      "text/plain": [
       "IntSlider(value=0)"
      ]
     },
     "metadata": {},
     "output_type": "display_data"
    }
   ],
   "source": [
    "sim.run_episode(n_steps = 100,save = False,replay=True)"
   ]
  },
  {
   "cell_type": "code",
   "execution_count": 155,
   "metadata": {
    "ExecuteTime": {
     "end_time": "2020-06-03T17:22:18.951740Z",
     "start_time": "2020-06-03T17:22:18.841036Z"
    }
   },
   "outputs": [
    {
     "data": {
      "text/plain": [
       "(3, 2)"
      ]
     },
     "execution_count": 155,
     "metadata": {},
     "output_type": "execute_result"
    }
   ],
   "source": [
    "agent1.pos"
   ]
  },
  {
   "cell_type": "code",
   "execution_count": 166,
   "metadata": {
    "ExecuteTime": {
     "end_time": "2020-06-03T17:24:21.851217Z",
     "start_time": "2020-06-03T17:24:21.740495Z"
    }
   },
   "outputs": [
    {
     "data": {
      "text/plain": [
       "<rect(3, 2, 20, 20)>"
      ]
     },
     "execution_count": 166,
     "metadata": {},
     "output_type": "execute_result"
    }
   ],
   "source": [
    "agent1.rect"
   ]
  },
  {
   "cell_type": "code",
   "execution_count": null,
   "metadata": {},
   "outputs": [],
   "source": [
    "    \n",
    "#     def render(self,screen = None):\n",
    "#         ratio = 4\n",
    "        \n",
    "#         c,_ = agent1.collides(group,ratio = ratio,method = \"circle\")\n",
    "#         if c:\n",
    "#             color = RED\n",
    "#         else:\n",
    "#             color = WHITE\n",
    "        \n",
    "#         self.render_circle(radius = ratio,color = color,thickness = 1)\n",
    "#         self.render_rect(ratio = ratio,color = color,center = True,thickness = 1)\n",
    "#         super().render(screen)"
   ]
  },
  {
   "cell_type": "code",
   "execution_count": 167,
   "metadata": {
    "ExecuteTime": {
     "end_time": "2020-06-03T17:24:27.216885Z",
     "start_time": "2020-06-03T17:24:27.103191Z"
    }
   },
   "outputs": [
    {
     "data": {
      "text/plain": [
       "<rect(7, 7, 20, 20)>"
      ]
     },
     "execution_count": 167,
     "metadata": {},
     "output_type": "execute_result"
    }
   ],
   "source": [
    "agent2.rect"
   ]
  },
  {
   "cell_type": "code",
   "execution_count": 173,
   "metadata": {
    "ExecuteTime": {
     "end_time": "2020-06-03T17:25:24.047250Z",
     "start_time": "2020-06-03T17:25:23.942505Z"
    }
   },
   "outputs": [
    {
     "data": {
      "text/plain": [
       "<Mask(20x20)>"
      ]
     },
     "execution_count": 173,
     "metadata": {},
     "output_type": "execute_result"
    }
   ],
   "source": [
    "agent2.mask"
   ]
  },
  {
   "cell_type": "code",
   "execution_count": 174,
   "metadata": {
    "ExecuteTime": {
     "end_time": "2020-06-03T17:25:33.499856Z",
     "start_time": "2020-06-03T17:25:33.389162Z"
    }
   },
   "outputs": [
    {
     "data": {
      "text/plain": [
       "(4, 5)"
      ]
     },
     "execution_count": 174,
     "metadata": {},
     "output_type": "execute_result"
    }
   ],
   "source": [
    "pygame.sprite.collide_mask(agent1,agent2)"
   ]
  },
  {
   "cell_type": "code",
   "execution_count": 165,
   "metadata": {
    "ExecuteTime": {
     "end_time": "2020-06-03T17:24:10.683797Z",
     "start_time": "2020-06-03T17:24:10.582071Z"
    }
   },
   "outputs": [
    {
     "name": "stdout",
     "output_type": "stream",
     "text": [
      "yo\n"
     ]
    },
    {
     "data": {
      "text/plain": [
       "(True, [Agent(x=7,y=7)])"
      ]
     },
     "execution_count": 165,
     "metadata": {},
     "output_type": "execute_result"
    }
   ],
   "source": [
    "agent1.collides_group(env.group_blocking)"
   ]
  },
  {
   "cell_type": "code",
   "execution_count": 163,
   "metadata": {
    "ExecuteTime": {
     "end_time": "2020-06-03T17:23:34.469430Z",
     "start_time": "2020-06-03T17:23:34.361718Z"
    }
   },
   "outputs": [
    {
     "data": {
      "text/plain": [
       "1"
      ]
     },
     "execution_count": 163,
     "metadata": {},
     "output_type": "execute_result"
    }
   ],
   "source": [
    "agent1.height"
   ]
  },
  {
   "cell_type": "code",
   "execution_count": 156,
   "metadata": {
    "ExecuteTime": {
     "end_time": "2020-06-03T17:22:44.616144Z",
     "start_time": "2020-06-03T17:22:44.506437Z"
    }
   },
   "outputs": [
    {
     "data": {
      "text/plain": [
       "<Group(2 sprites)>"
      ]
     },
     "execution_count": 156,
     "metadata": {},
     "output_type": "execute_result"
    }
   ],
   "source": [
    "env.group_blocking"
   ]
  },
  {
   "cell_type": "code",
   "execution_count": 154,
   "metadata": {
    "ExecuteTime": {
     "end_time": "2020-06-03T17:22:03.635161Z",
     "start_time": "2020-06-03T17:22:03.519471Z"
    }
   },
   "outputs": [
    {
     "data": {
      "text/plain": [
       "(True, [Agent(x=7,y=7)])"
      ]
     },
     "execution_count": 154,
     "metadata": {},
     "output_type": "execute_result"
    }
   ],
   "source": [
    "agent1.collides()"
   ]
  },
  {
   "cell_type": "code",
   "execution_count": 144,
   "metadata": {
    "ExecuteTime": {
     "end_time": "2020-06-03T14:59:36.585436Z",
     "start_time": "2020-06-03T14:59:36.404490Z"
    }
   },
   "outputs": [
    {
     "data": {
      "text/plain": [
       "2"
      ]
     },
     "execution_count": 144,
     "metadata": {},
     "output_type": "execute_result"
    }
   ],
   "source": []
  },
  {
   "cell_type": "code",
   "execution_count": null,
   "metadata": {},
   "outputs": [],
   "source": []
  }
 ],
 "metadata": {
  "kernelspec": {
   "display_name": "Python 3",
   "language": "python",
   "name": "python3"
  },
  "language_info": {
   "codemirror_mode": {
    "name": "ipython",
    "version": 3
   },
   "file_extension": ".py",
   "mimetype": "text/x-python",
   "name": "python",
   "nbconvert_exporter": "python",
   "pygments_lexer": "ipython3",
   "version": "3.7.4"
  },
  "toc": {
   "base_numbering": 1,
   "nav_menu": {},
   "number_sections": true,
   "sideBar": true,
   "skip_h1_title": false,
   "title_cell": "Table of Contents",
   "title_sidebar": "Contents",
   "toc_cell": false,
   "toc_position": {},
   "toc_section_display": true,
   "toc_window_display": false
  }
 },
 "nbformat": 4,
 "nbformat_minor": 2
}
