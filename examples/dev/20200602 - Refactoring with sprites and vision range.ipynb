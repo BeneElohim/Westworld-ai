{
 "cells": [
  {
   "cell_type": "markdown",
   "metadata": {},
   "source": [
    "# Collectibles and triggers dev"
   ]
  },
  {
   "cell_type": "code",
   "execution_count": 1,
   "metadata": {
    "ExecuteTime": {
     "end_time": "2020-06-05T12:33:31.329524Z",
     "start_time": "2020-06-05T12:33:30.503538Z"
    }
   },
   "outputs": [],
   "source": [
    "# Base Data Science snippet\n",
    "import pandas as pd\n",
    "import numpy as np\n",
    "import matplotlib.pyplot as plt\n",
    "import os\n",
    "import time\n",
    "from tqdm import tqdm_notebook\n",
    "\n",
    "%matplotlib inline\n",
    "%load_ext autoreload\n",
    "%autoreload 2"
   ]
  },
  {
   "cell_type": "code",
   "execution_count": 2,
   "metadata": {
    "ExecuteTime": {
     "end_time": "2020-06-05T12:33:31.700287Z",
     "start_time": "2020-06-05T12:33:31.332485Z"
    }
   },
   "outputs": [
    {
     "name": "stdout",
     "output_type": "stream",
     "text": [
      "pygame 1.9.6\n",
      "Hello from the pygame community. https://www.pygame.org/contribute.html\n"
     ]
    }
   ],
   "source": [
    "import sys\n",
    "sys.path.append(\"../../\")\n",
    "from westworld.environment import GridEnvironment\n",
    "from westworld.agents import BaseGridAgent\n",
    "from westworld.objects import BaseObstacle,BaseTrigger,BaseCollectible\n",
    "from westworld.simulation import Simulation\n",
    "from westworld.colors import *"
   ]
  },
  {
   "cell_type": "markdown",
   "metadata": {},
   "source": [
    "# First collectible env"
   ]
  },
  {
   "cell_type": "code",
   "execution_count": 107,
   "metadata": {
    "ExecuteTime": {
     "end_time": "2020-06-05T13:34:35.910225Z",
     "start_time": "2020-06-05T13:34:35.327615Z"
    }
   },
   "outputs": [
    {
     "data": {
      "image/png": "[encoded data removed]",
      "text/plain": [
       "<PIL.Image.Image image mode=RGB size=800x400 at 0x2183AF64FC8>"
      ]
     },
     "execution_count": 107,
     "metadata": {},
     "output_type": "execute_result"
    }
   ],
   "source": [
    "class Agent(BaseGridAgent):\n",
    "    \n",
    "    show_search_radius = False\n",
    "    search_radius_method = \"circle\"\n",
    "    \n",
    "    def init(self):\n",
    "        self.targets = {}\n",
    "        self.current_target = None\n",
    "    \n",
    "    def step(self):\n",
    "        \n",
    "        targets = self.find_in_range(condition = {\"collectible\":True})\n",
    "        self.targets.update({t.id:t for t in targets if t.id not in self.targets})\n",
    "        self.targets = {k:v for k,v in self.targets.items() if k in self.env._objects}\n",
    "        \n",
    "        if len(self.targets) == 0:\n",
    "            self.wander()\n",
    "            \n",
    "        else:\n",
    "            if self.current_target is None:\n",
    "                self.current_target = list(self.targets.values())[0]\n",
    "                \n",
    "            reached_target = self.move_towards(obj = self.current_target,n = 100)\n",
    "            if reached_target:\n",
    "                self.current_target = None\n",
    "                \n",
    "        \n",
    "obstacle = BaseObstacle(10,0,1,7,color = RED)\n",
    "\n",
    "agent_spawner = lambda x,y : Agent(x,y,color = GREEN,search_radius = 2,img_filepath = \"sprites/sprite_blob.png\",img_transparency = (200, 191, 231))\n",
    "coll_spawner = lambda x,y : BaseCollectible(x,y,color = WHITE,circle = True,radius = 0.3,img_filepath = \"sprites/sprite_ball2.png\",img_transparency = (200, 191, 231))\n",
    " \n",
    "\n",
    "\n",
    "\n",
    "\n",
    "# Setup grid\n",
    "BOX_SIZE = 40\n",
    "WIDTH = 20\n",
    "HEIGHT = 10\n",
    "env = GridEnvironment(WIDTH,HEIGHT,BOX_SIZE,show_grid = True,objects = [obstacle])\n",
    "env.spawn(agent_spawner,3)\n",
    "env.spawn(coll_spawner,100)\n",
    "env.render()\n",
    "env.get_img()"
   ]
  },
  {
   "cell_type": "code",
   "execution_count": 109,
   "metadata": {
    "ExecuteTime": {
     "end_time": "2020-06-04T18:56:04.349105Z",
     "start_time": "2020-06-04T18:56:03.998236Z"
    }
   },
   "outputs": [],
   "source": [
    "env.quit()"
   ]
  },
  {
   "cell_type": "markdown",
   "metadata": {},
   "source": [
    "# Run simulation"
   ]
  },
  {
   "cell_type": "code",
   "execution_count": 109,
   "metadata": {
    "ExecuteTime": {
     "end_time": "2020-06-05T13:34:41.824787Z",
     "start_time": "2020-06-05T13:34:41.723059Z"
    }
   },
   "outputs": [],
   "source": [
    "sim = Simulation(env,fps = 30)"
   ]
  },
  {
   "cell_type": "code",
   "execution_count": 110,
   "metadata": {
    "ExecuteTime": {
     "end_time": "2020-06-05T13:34:52.666658Z",
     "start_time": "2020-06-05T13:34:42.115229Z"
    }
   },
   "outputs": [
    {
     "data": {
      "application/vnd.jupyter.widget-view+json": {
       "model_id": "4d94b782a27643a2ae99d3499be124e5",
       "version_major": 2,
       "version_minor": 0
      },
      "text/plain": [
       "HBox(children=(FloatProgress(value=0.0, max=300.0), HTML(value='')))"
      ]
     },
     "metadata": {},
     "output_type": "display_data"
    },
    {
     "name": "stderr",
     "output_type": "stream",
     "text": [
      "../..\\westworld\\algorithms\\pathfinding\\astar.py:141: UserWarning: Giving up on pathfinding too many iterations\n",
      "  warnings.warn(\"Giving up on pathfinding too many iterations\")\n"
     ]
    },
    {
     "name": "stdout",
     "output_type": "stream",
     "text": [
      "\n"
     ]
    },
    {
     "data": {
      "application/vnd.jupyter.widget-view+json": {
       "model_id": "ba18af09c8184f4c9476512d7ec428d4",
       "version_major": 2,
       "version_minor": 0
      },
      "text/plain": [
       "interactive(children=(Play(value=0, description='Press play', interval=200, max=300), Output()), _dom_classes=…"
      ]
     },
     "metadata": {},
     "output_type": "display_data"
    },
    {
     "data": {
      "application/vnd.jupyter.widget-view+json": {
       "model_id": "6202de515a0d48d9be92b553f2c3732c",
       "version_major": 2,
       "version_minor": 0
      },
      "text/plain": [
       "IntSlider(value=0, max=300)"
      ]
     },
     "metadata": {},
     "output_type": "display_data"
    }
   ],
   "source": [
    "sim.run_episode(n_steps = 300,save = False,replay=True)"
   ]
  },
  {
   "cell_type": "code",
   "execution_count": 155,
   "metadata": {
    "ExecuteTime": {
     "end_time": "2020-06-03T17:22:18.951740Z",
     "start_time": "2020-06-03T17:22:18.841036Z"
    }
   },
   "outputs": [
    {
     "data": {
      "text/plain": [
       "(3, 2)"
      ]
     },
     "execution_count": 155,
     "metadata": {},
     "output_type": "execute_result"
    }
   ],
   "source": [
    "agent1.pos"
   ]
  },
  {
   "cell_type": "code",
   "execution_count": 166,
   "metadata": {
    "ExecuteTime": {
     "end_time": "2020-06-03T17:24:21.851217Z",
     "start_time": "2020-06-03T17:24:21.740495Z"
    }
   },
   "outputs": [
    {
     "data": {
      "text/plain": [
       "<rect(3, 2, 20, 20)>"
      ]
     },
     "execution_count": 166,
     "metadata": {},
     "output_type": "execute_result"
    }
   ],
   "source": [
    "agent1.rect"
   ]
  },
  {
   "cell_type": "code",
   "execution_count": null,
   "metadata": {},
   "outputs": [],
   "source": [
    "    \n",
    "#     def render(self,screen = None):\n",
    "#         ratio = 4\n",
    "        \n",
    "#         c,_ = agent1.collides(group,ratio = ratio,method = \"circle\")\n",
    "#         if c:\n",
    "#             color = RED\n",
    "#         else:\n",
    "#             color = WHITE\n",
    "        \n",
    "#         self.render_circle(radius = ratio,color = color,thickness = 1)\n",
    "#         self.render_rect(ratio = ratio,color = color,center = True,thickness = 1)\n",
    "#         super().render(screen)"
   ]
  }
 ],
 "metadata": {
  "kernelspec": {
   "display_name": "Python 3",
   "language": "python",
   "name": "python3"
  },
  "language_info": {
   "codemirror_mode": {
    "name": "ipython",
    "version": 3
   },
   "file_extension": ".py",
   "mimetype": "text/x-python",
   "name": "python",
   "nbconvert_exporter": "python",
   "pygments_lexer": "ipython3",
   "version": "3.7.4"
  },
  "toc": {
   "base_numbering": 1,
   "nav_menu": {},
   "number_sections": true,
   "sideBar": true,
   "skip_h1_title": false,
   "title_cell": "Table of Contents",
   "title_sidebar": "Contents",
   "toc_cell": false,
   "toc_position": {},
   "toc_section_display": true,
   "toc_window_display": false
  }
 },
 "nbformat": 4,
 "nbformat_minor": 2
}
