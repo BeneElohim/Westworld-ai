{
 "cells": [
  {
   "cell_type": "markdown",
   "metadata": {},
   "source": [
    "# Collectibles and triggers dev"
   ]
  },
  {
   "cell_type": "code",
   "execution_count": 1,
   "metadata": {
    "ExecuteTime": {
     "end_time": "2020-06-05T19:06:51.238274Z",
     "start_time": "2020-06-05T19:06:49.707352Z"
    }
   },
   "outputs": [],
   "source": [
    "# Base Data Science snippet\n",
    "import pandas as pd\n",
    "import numpy as np\n",
    "import matplotlib.pyplot as plt\n",
    "import os\n",
    "import time\n",
    "from tqdm import tqdm_notebook\n",
    "\n",
    "%matplotlib inline\n",
    "%load_ext autoreload\n",
    "%autoreload 2"
   ]
  },
  {
   "cell_type": "code",
   "execution_count": 2,
   "metadata": {
    "ExecuteTime": {
     "end_time": "2020-06-05T19:06:58.033357Z",
     "start_time": "2020-06-05T19:06:51.243852Z"
    }
   },
   "outputs": [
    {
     "name": "stdout",
     "output_type": "stream",
     "text": [
      "pygame 1.9.6\n",
      "Hello from the pygame community. https://www.pygame.org/contribute.html\n"
     ]
    }
   ],
   "source": [
    "import sys\n",
    "sys.path.append(\"../../\")\n",
    "from westworld.environment import GridEnvironment\n",
    "from westworld.agents import BaseGridAgent\n",
    "from westworld.agents.collectible_finder import CollectibleFinderAgent\n",
    "from westworld.objects import BaseObstacle,BaseTrigger,BaseCollectible\n",
    "from westworld.simulation import Simulation\n",
    "from westworld.colors import *\n",
    "from westworld.logger import Logger"
   ]
  },
  {
   "cell_type": "markdown",
   "metadata": {},
   "source": [
    "# First collectible env"
   ]
  },
  {
   "cell_type": "code",
   "execution_count": 32,
   "metadata": {
    "ExecuteTime": {
     "end_time": "2020-06-05T19:16:31.822160Z",
     "start_time": "2020-06-05T19:16:31.327131Z"
    }
   },
   "outputs": [
    {
     "name": "stderr",
     "output_type": "stream",
     "text": [
      "Setting up a new session...\n"
     ]
    },
    {
     "data": {
      "image/png": "[encoded data removed]",
      "text/plain": [
       "<PIL.Image.Image image mode=RGB size=1400x720 at 0x21ECDB3A3C8>"
      ]
     },
     "execution_count": 32,
     "metadata": {},
     "output_type": "execute_result"
    }
   ],
   "source": [
    "obstacle = BaseObstacle(10,0,1,7,color = RED)\n",
    "agent_spawner = lambda x,y : CollectibleFinderAgent(x,y,color = (0,200,255),show_search_radius=True,search_radius = 3,img_asset = \"blob\")\n",
    "coll_spawner = lambda x,y : BaseCollectible(x,y,color = (220,150,50),img_asset = \"ball\")\n",
    " \n",
    "\n",
    "logger = Logger(use_visdom = True,freq_update = 5)\n",
    "\n",
    "class Env(GridEnvironment):\n",
    "    \n",
    "    def callback_step(self):\n",
    "        n = len(self.find_objects({\"collectible\":True}))\n",
    "        logger.log_metric(\"n_collectible\",n)\n",
    "        logger.log_metric(\"n_collectible2\",n*2)\n",
    "\n",
    "    \n",
    "    \n",
    "# Setup grid\n",
    "CELL_SIZE = 40\n",
    "env = Env(cell_size = CELL_SIZE,show_grid = True)\n",
    "env.spawn(agent_spawner,1)\n",
    "env.spawn(coll_spawner,20)\n",
    "env.render()\n",
    "env.get_img()"
   ]
  },
  {
   "cell_type": "code",
   "execution_count": 109,
   "metadata": {
    "ExecuteTime": {
     "end_time": "2020-06-04T18:56:04.349105Z",
     "start_time": "2020-06-04T18:56:03.998236Z"
    }
   },
   "outputs": [],
   "source": [
    "env.quit()"
   ]
  },
  {
   "cell_type": "markdown",
   "metadata": {},
   "source": [
    "# Run simulation"
   ]
  },
  {
   "cell_type": "code",
   "execution_count": 33,
   "metadata": {
    "ExecuteTime": {
     "end_time": "2020-06-05T19:16:34.809874Z",
     "start_time": "2020-06-05T19:16:34.617399Z"
    }
   },
   "outputs": [],
   "source": [
    "sim = Simulation(env,fps = 25)"
   ]
  },
  {
   "cell_type": "code",
   "execution_count": 34,
   "metadata": {
    "ExecuteTime": {
     "end_time": "2020-06-05T19:17:03.857196Z",
     "start_time": "2020-06-05T19:16:37.328310Z"
    }
   },
   "outputs": [
    {
     "data": {
      "application/vnd.jupyter.widget-view+json": {
       "model_id": "6252de2d45fa43dc81f003049e0d22d8",
       "version_major": 2,
       "version_minor": 0
      },
      "text/plain": [
       "HBox(children=(FloatProgress(value=0.0, max=500.0), HTML(value='')))"
      ]
     },
     "metadata": {},
     "output_type": "display_data"
    },
    {
     "name": "stdout",
     "output_type": "stream",
     "text": [
      "\n"
     ]
    },
    {
     "data": {
      "application/vnd.jupyter.widget-view+json": {
       "model_id": "88a0732a54fc437a8c6dc233f86e47c3",
       "version_major": 2,
       "version_minor": 0
      },
      "text/plain": [
       "interactive(children=(Play(value=0, description='Press play', interval=200, max=500), Output()), _dom_classes=…"
      ]
     },
     "metadata": {},
     "output_type": "display_data"
    },
    {
     "data": {
      "application/vnd.jupyter.widget-view+json": {
       "model_id": "01b8132338014ffe85b2caf641d2c68d",
       "version_major": 2,
       "version_minor": 0
      },
      "text/plain": [
       "IntSlider(value=0, max=500)"
      ]
     },
     "metadata": {},
     "output_type": "display_data"
    }
   ],
   "source": [
    "sim.run_episode(n_steps = 500,save = False,replay=True)"
   ]
  },
  {
   "cell_type": "code",
   "execution_count": 21,
   "metadata": {
    "ExecuteTime": {
     "end_time": "2020-06-05T19:12:30.462625Z",
     "start_time": "2020-06-05T19:12:29.984294Z"
    }
   },
   "outputs": [
    {
     "name": "stderr",
     "output_type": "stream",
     "text": [
      "Setting up a new session...\n"
     ]
    }
   ],
   "source": [
    "logger.init_visdom_server()"
   ]
  }
 ],
 "metadata": {
  "kernelspec": {
   "display_name": "Python 3",
   "language": "python",
   "name": "python3"
  },
  "language_info": {
   "codemirror_mode": {
    "name": "ipython",
    "version": 3
   },
   "file_extension": ".py",
   "mimetype": "text/x-python",
   "name": "python",
   "nbconvert_exporter": "python",
   "pygments_lexer": "ipython3",
   "version": "3.7.4"
  },
  "toc": {
   "base_numbering": 1,
   "nav_menu": {},
   "number_sections": true,
   "sideBar": true,
   "skip_h1_title": false,
   "title_cell": "Table of Contents",
   "title_sidebar": "Contents",
   "toc_cell": false,
   "toc_position": {},
   "toc_section_display": true,
   "toc_window_display": false
  }
 },
 "nbformat": 4,
 "nbformat_minor": 2
}
