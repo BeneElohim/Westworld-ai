{
 "cells": [
  {
   "cell_type": "code",
   "execution_count": 1,
   "metadata": {
    "ExecuteTime": {
     "end_time": "2020-05-22T13:50:35.648536Z",
     "start_time": "2020-05-22T13:50:34.651694Z"
    }
   },
   "outputs": [],
   "source": [
    "# Base Data Science snippet\n",
    "import pandas as pd\n",
    "import numpy as np\n",
    "import matplotlib.pyplot as plt\n",
    "import os\n",
    "import time\n",
    "from tqdm import tqdm_notebook\n",
    "\n",
    "%matplotlib inline\n",
    "%load_ext autoreload\n",
    "%autoreload 2"
   ]
  },
  {
   "cell_type": "code",
   "execution_count": 3,
   "metadata": {
    "ExecuteTime": {
     "end_time": "2020-05-22T13:54:31.093392Z",
     "start_time": "2020-05-22T13:54:30.487982Z"
    }
   },
   "outputs": [
    {
     "name": "stdout",
     "output_type": "stream",
     "text": [
      "pygame 1.9.6\n",
      "Hello from the pygame community. https://www.pygame.org/contribute.html\n"
     ]
    }
   ],
   "source": [
    "\"\"\"Simulation where two agents fight for collectibles\n",
    "\"\"\"\n",
    "\n",
    "import sys\n",
    "sys.path.append(\"../../\")\n",
    "\n",
    "from westworld.environment.grid import GridEnvironment\n",
    "from westworld.agents.grid import BaseAgent,BaseObstacle,BaseTrigger,BaseCollectible\n",
    "from westworld.simulation.simulation import Simulation\n",
    "from westworld.colors import *"
   ]
  },
  {
   "cell_type": "code",
   "execution_count": 5,
   "metadata": {
    "ExecuteTime": {
     "end_time": "2020-05-22T13:54:55.248252Z",
     "start_time": "2020-05-22T13:54:55.136553Z"
    }
   },
   "outputs": [],
   "source": [
    "class Agent(BaseAgent):\n",
    "    \n",
    "    def init(self):\n",
    "        self.score = 0\n",
    "        self.target = None\n",
    "    \n",
    "    def step(self):\n",
    "        \n",
    "        # Safety check\n",
    "        if self.target is not None:\n",
    "            if self.target not in self.env._objects:\n",
    "                self.target = None\n",
    "\n",
    "        # Find next target\n",
    "        if self.target is None:\n",
    "            _,ids = self.find_closest(k = 1,condition = {\"collectible\":True})\n",
    "            if len(ids) == 0:\n",
    "                self.env.finish_episode()\n",
    "            else:\n",
    "                stop = False\n",
    "                self.target = ids[0]\n",
    "        \n",
    "        if not self.env.done:\n",
    "            self.move_towards(obj = self.target,n = 10)\n",
    "        \n",
    "        \n",
    "class Collectible(BaseCollectible):\n",
    "    \n",
    "    collectible = True\n",
    "    \n",
    "    def on_collision(self,objects):\n",
    "        obj = self.env[objects[0]]\n",
    "        obj.score += 1\n",
    "        obj.target = None\n",
    "        "
   ]
  },
  {
   "cell_type": "code",
   "execution_count": 9,
   "metadata": {
    "ExecuteTime": {
     "end_time": "2020-05-22T13:56:22.009767Z",
     "start_time": "2020-05-22T13:56:06.370148Z"
    }
   },
   "outputs": [
    {
     "data": {
      "application/vnd.jupyter.widget-view+json": {
       "model_id": "e99dfca4871c4c3f8ece0d0e285c4147",
       "version_major": 2,
       "version_minor": 0
      },
      "text/plain": [
       "HBox(children=(FloatProgress(value=0.0, max=1000.0), HTML(value='')))"
      ]
     },
     "metadata": {},
     "output_type": "display_data"
    },
    {
     "name": "stdout",
     "output_type": "stream",
     "text": [
      "[INFO] Saving gif at ./captures/CollectiblesMultiplayer_1590155766.gif\n",
      "\n"
     ]
    }
   ],
   "source": [
    "#==================================================================================================\n",
    "# SIMULATION\n",
    "#==================================================================================================\n",
    "        \n",
    "# Setup agents\n",
    "agent = Agent(1,1,color = RED)\n",
    "agent2 = Agent(75,25,color = BLUE)\n",
    "\n",
    "# Setup collectibles as random spawner\n",
    "collectible_spawner = lambda x,y : Collectible(x,y,color = WHITE)\n",
    "\n",
    "# Setup environment\n",
    "env = GridEnvironment(80,30,10,objects = [agent,agent2],show_grid=True,grid_color = (50,50,50))\n",
    "env.spawn(collectible_spawner,100)\n",
    "env.render()\n",
    "\n",
    "# Prepare simulation\n",
    "sim = Simulation(env,fps = 30,name=\"CollectiblesMultiplayer\")\n",
    "\n",
    "sim.run_episode(n_steps = 1000,save = True)\n"
   ]
  },
  {
   "cell_type": "code",
   "execution_count": null,
   "metadata": {},
   "outputs": [],
   "source": []
  }
 ],
 "metadata": {
  "kernelspec": {
   "display_name": "Python 3",
   "language": "python",
   "name": "python3"
  },
  "language_info": {
   "codemirror_mode": {
    "name": "ipython",
    "version": 3
   },
   "file_extension": ".py",
   "mimetype": "text/x-python",
   "name": "python",
   "nbconvert_exporter": "python",
   "pygments_lexer": "ipython3",
   "version": "3.7.4"
  },
  "toc": {
   "base_numbering": 1,
   "nav_menu": {},
   "number_sections": true,
   "sideBar": true,
   "skip_h1_title": false,
   "title_cell": "Table of Contents",
   "title_sidebar": "Contents",
   "toc_cell": false,
   "toc_position": {},
   "toc_section_display": true,
   "toc_window_display": false
  }
 },
 "nbformat": 4,
 "nbformat_minor": 2
}
