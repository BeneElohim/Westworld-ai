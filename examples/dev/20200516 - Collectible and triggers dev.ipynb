{
 "cells": [
  {
   "cell_type": "markdown",
   "metadata": {},
   "source": [
    "# Collectibles and triggers dev"
   ]
  },
  {
   "cell_type": "code",
   "execution_count": 1,
   "metadata": {
    "ExecuteTime": {
     "end_time": "2020-05-21T14:55:02.183849Z",
     "start_time": "2020-05-21T14:55:01.298368Z"
    }
   },
   "outputs": [],
   "source": [
    "# Base Data Science snippet\n",
    "import pandas as pd\n",
    "import numpy as np\n",
    "import matplotlib.pyplot as plt\n",
    "import os\n",
    "import time\n",
    "from tqdm import tqdm_notebook\n",
    "\n",
    "%matplotlib inline\n",
    "%load_ext autoreload\n",
    "%autoreload 2"
   ]
  },
  {
   "cell_type": "code",
   "execution_count": 2,
   "metadata": {
    "ExecuteTime": {
     "end_time": "2020-05-21T14:55:02.278561Z",
     "start_time": "2020-05-21T14:55:02.188826Z"
    }
   },
   "outputs": [],
   "source": [
    "import sys\n",
    "sys.path.append(\"../../\")\n",
    "import westworld"
   ]
  },
  {
   "cell_type": "code",
   "execution_count": 8,
   "metadata": {
    "ExecuteTime": {
     "end_time": "2020-05-21T15:06:58.606514Z",
     "start_time": "2020-05-21T15:06:58.512732Z"
    }
   },
   "outputs": [],
   "source": [
    "from westworld.examples.collectibles_simple import simulation"
   ]
  },
  {
   "cell_type": "markdown",
   "metadata": {},
   "source": [
    "# Test"
   ]
  },
  {
   "cell_type": "code",
   "execution_count": 26,
   "metadata": {
    "ExecuteTime": {
     "end_time": "2020-05-21T15:21:09.130235Z",
     "start_time": "2020-05-21T15:20:54.578839Z"
    }
   },
   "outputs": [
    {
     "data": {
      "application/vnd.jupyter.widget-view+json": {
       "model_id": "721df5896a8245b9a9bee5757ff8d438",
       "version_major": 2,
       "version_minor": 0
      },
      "text/plain": [
       "HBox(children=(FloatProgress(value=0.0), HTML(value='')))"
      ]
     },
     "metadata": {},
     "output_type": "display_data"
    },
    {
     "name": "stdout",
     "output_type": "stream",
     "text": [
      "[INFO] Saving gif at ./captures/EpidemicVisionRange_1590074454.gif\n",
      "\n"
     ]
    }
   ],
   "source": [
    "\"\"\"Simulation where agent become red if in range of other agents\n",
    "It highlight the vision range feature useful to search collectibles, simulate vision, or contagion in epidemic models\n",
    "\"\"\"\n",
    "import sys\n",
    "sys.path.append(\"../\")\n",
    "\n",
    "from westworld.environment.grid import GridEnvironment\n",
    "from westworld.agents.grid import BaseAgent\n",
    "from westworld.simulation.simulation import Simulation\n",
    "from westworld.colors import *\n",
    "\n",
    "\n",
    "# Setup classes\n",
    "class Agent(BaseAgent):\n",
    "    \n",
    "    show_vision_range = True\n",
    "    \n",
    "    def step(self):\n",
    "        self.wander()\n",
    "        \n",
    "        collisions = self.find_in_range()\n",
    "        if len(collisions) > 0:\n",
    "            self.color = RED\n",
    "        else:\n",
    "            self.color = GREEN\n",
    "            \n",
    "\n",
    "\n",
    "agent_spawner = lambda x,y : Agent(x,y,color = GREEN,curiosity = 10,vision_range = 3)\n",
    "\n",
    "# Setup grid\n",
    "BOX_SIZE = 20\n",
    "WIDTH = 50\n",
    "HEIGHT = 30\n",
    "env = GridEnvironment(WIDTH,HEIGHT,BOX_SIZE)\n",
    "env.spawn(agent_spawner,20)\n",
    "env.render()\n",
    "\n",
    "\n",
    "# Setup simulation\n",
    "sim = Simulation(env,fps = 10,name = \"EpidemicVisionRange\")\n",
    "sim.run_episode(n_steps = 100,save = True)\n"
   ]
  },
  {
   "cell_type": "code",
   "execution_count": 24,
   "metadata": {
    "ExecuteTime": {
     "end_time": "2020-05-21T15:20:26.103136Z",
     "start_time": "2020-05-21T15:20:25.758904Z"
    }
   },
   "outputs": [],
   "source": [
    "env.quit()"
   ]
  },
  {
   "cell_type": "code",
   "execution_count": 13,
   "metadata": {
    "ExecuteTime": {
     "end_time": "2020-05-21T15:18:07.783336Z",
     "start_time": "2020-05-21T15:18:07.425607Z"
    }
   },
   "outputs": [],
   "source": [
    "env.quit()"
   ]
  },
  {
   "cell_type": "markdown",
   "metadata": {},
   "source": [
    "# First collectible env"
   ]
  },
  {
   "cell_type": "code",
   "execution_count": 56,
   "metadata": {
    "ExecuteTime": {
     "end_time": "2020-05-17T15:03:00.543646Z",
     "start_time": "2020-05-17T15:02:59.366827Z"
    }
   },
   "outputs": [
    {
     "data": {
      "image/png": "[encoded data removed]",
      "text/plain": [
       "<PIL.Image.Image image mode=RGB size=750x200 at 0x1E057860388>"
      ]
     },
     "execution_count": 56,
     "metadata": {},
     "output_type": "execute_result"
    }
   ],
   "source": [
    "from westworld.environment.grid import GridEnvironment\n",
    "from westworld.agents.grid import BaseAgent,BaseObstacle,BaseTrigger,BaseCollectible\n",
    "from westworld.simulation.simulation import Simulation\n",
    "from westworld.colors import *\n",
    "\n",
    "BOX_SIZE = 50\n",
    "\n",
    "class Agent(BaseAgent):\n",
    "    \n",
    "    def init(self):\n",
    "        self.coll = 0\n",
    "    \n",
    "    def step(self):\n",
    "        self.move(dx = 1)\n",
    "        \n",
    "class Collectible(BaseCollectible):\n",
    "    \n",
    "    def on_collision(self,objects):\n",
    "        obj = self.env[objects[0]]\n",
    "        obj.coll += 1\n",
    "        \n",
    "        \n",
    "        \n",
    "\n",
    "agents = [Agent(1,1,1,1,color = RED,circle = True)]\n",
    "triggers = [Collectible(8,1,1,1,color = WHITE,circle = True)]\n",
    "\n",
    "\n",
    "# Setup grid\n",
    "env = GridEnvironment(BOX_SIZE,15,4,objects = agents + triggers)\n",
    "env.render()\n",
    "env.get_img()"
   ]
  },
  {
   "cell_type": "code",
   "execution_count": 79,
   "metadata": {
    "ExecuteTime": {
     "end_time": "2020-05-17T15:16:47.426160Z",
     "start_time": "2020-05-17T15:16:47.310671Z"
    }
   },
   "outputs": [
    {
     "name": "stdout",
     "output_type": "stream",
     "text": [
      "Wall time: 0 ns\n"
     ]
    },
    {
     "data": {
      "text/plain": [
       "(1, 11)"
      ]
     },
     "execution_count": 79,
     "metadata": {},
     "output_type": "execute_result"
    }
   ],
   "source": [
    "%%time\n",
    "env.get_random_available_pos()"
   ]
  },
  {
   "cell_type": "code",
   "execution_count": 42,
   "metadata": {
    "ExecuteTime": {
     "end_time": "2020-05-17T14:45:18.008155Z",
     "start_time": "2020-05-17T14:45:17.902233Z"
    }
   },
   "outputs": [],
   "source": [
    "sim = Simulation(env)"
   ]
  },
  {
   "cell_type": "code",
   "execution_count": 43,
   "metadata": {
    "ExecuteTime": {
     "end_time": "2020-05-17T14:45:20.720617Z",
     "start_time": "2020-05-17T14:45:18.855057Z"
    }
   },
   "outputs": [
    {
     "data": {
      "application/vnd.jupyter.widget-view+json": {
       "model_id": "ca2c50d46f124f58918690b418b24782",
       "version_major": 2,
       "version_minor": 0
      },
      "text/plain": [
       "HBox(children=(FloatProgress(value=0.0, max=10.0), HTML(value='')))"
      ]
     },
     "metadata": {},
     "output_type": "display_data"
    },
    {
     "name": "stdout",
     "output_type": "stream",
     "text": [
      "[INFO] Saving gif at ./captures/toy_pathfinding.gif\n",
      "\n"
     ]
    },
    {
     "data": {
      "application/vnd.jupyter.widget-view+json": {
       "model_id": "ba01d4f9706d455a81a9030bd181f791",
       "version_major": 2,
       "version_minor": 0
      },
      "text/plain": [
       "interactive(children=(Play(value=0, description='Press play', max=10), Output()), _dom_classes=('widget-intera…"
      ]
     },
     "metadata": {},
     "output_type": "display_data"
    },
    {
     "data": {
      "application/vnd.jupyter.widget-view+json": {
       "model_id": "4d08599e03324eab892342c51d5f73bb",
       "version_major": 2,
       "version_minor": 0
      },
      "text/plain": [
       "IntSlider(value=0, max=10)"
      ]
     },
     "metadata": {},
     "output_type": "display_data"
    }
   ],
   "source": [
    "sim.run_episode(10,save = \"toy_pathfinding.gif\",replay = True,fps_replay=10)"
   ]
  },
  {
   "cell_type": "markdown",
   "metadata": {},
   "source": [
    "# More complicated collectible environment"
   ]
  },
  {
   "cell_type": "code",
   "execution_count": 111,
   "metadata": {
    "ExecuteTime": {
     "end_time": "2020-05-21T14:29:35.945721Z",
     "start_time": "2020-05-21T14:29:35.048738Z"
    }
   },
   "outputs": [
    {
     "data": {
      "image/png": "[encoded data removed]",
      "text/plain": [
       "<PIL.Image.Image image mode=RGB size=160x60 at 0x19F2CF6A088>"
      ]
     },
     "execution_count": 111,
     "metadata": {},
     "output_type": "execute_result"
    }
   ],
   "source": [
    "from westworld.environment.grid import GridEnvironment\n",
    "from westworld.agents.grid import BaseAgent,BaseObstacle,BaseTrigger,BaseCollectible\n",
    "from westworld.simulation.simulation import Simulation\n",
    "from westworld.colors import *\n",
    "\n",
    "BOX_SIZE = 10\n",
    "\n",
    "class Agent(BaseAgent):\n",
    "    \n",
    "    def init(self):\n",
    "        self.coll = 0\n",
    "        self.target = None\n",
    "    \n",
    "    def step(self):\n",
    "        \n",
    "        # Safety check\n",
    "        if self.target is not None:\n",
    "            if self.target not in self.env._objects:\n",
    "                self.target = None\n",
    "\n",
    "        # Find next target\n",
    "        if self.target is None:\n",
    "            _,ids = self.find_closest(k = 1,condition = {\"collectible\":True})\n",
    "            if len(ids) == 0:\n",
    "                self.env.finish_episode()\n",
    "            else:\n",
    "                stop = False\n",
    "                self.target = ids[0]\n",
    "        \n",
    "        if not self.env.done:\n",
    "            self.move_towards(obj = self.target,n = 10)\n",
    "        \n",
    "        \n",
    "class Collectible(BaseCollectible):\n",
    "    \n",
    "    collectible = True\n",
    "    \n",
    "    def on_collision(self,objects):\n",
    "        obj = self.env[objects[0]]\n",
    "        obj.coll += 1\n",
    "        obj.target = None\n",
    "        \n",
    "        \n",
    "        \n",
    "\n",
    "agent = Agent(1,1,color = RED)\n",
    "agent2 = Agent(75,25,color = BLUE)\n",
    "\n",
    "\n",
    "collectible_spawner = lambda x,y : Collectible(x,y,color = WHITE)\n",
    "\n",
    "\n",
    "# Setup grid\n",
    "env = GridEnvironment(80,30,BOX_SIZE,objects = [agent,agent2])\n",
    "env.spawn(collectible_spawner,10)\n",
    "env.render()\n",
    "env.get_img()"
   ]
  },
  {
   "cell_type": "code",
   "execution_count": 114,
   "metadata": {
    "ExecuteTime": {
     "end_time": "2020-05-21T14:47:52.301803Z",
     "start_time": "2020-05-21T14:47:51.363146Z"
    }
   },
   "outputs": [],
   "source": [
    "from examples.collectibles_multiplayer import run"
   ]
  },
  {
   "cell_type": "code",
   "execution_count": null,
   "metadata": {},
   "outputs": [],
   "source": []
  },
  {
   "cell_type": "code",
   "execution_count": 116,
   "metadata": {
    "ExecuteTime": {
     "end_time": "2020-05-21T14:48:15.441981Z",
     "start_time": "2020-05-21T14:48:15.336232Z"
    }
   },
   "outputs": [
    {
     "ename": "AttributeError",
     "evalue": "'Command' object has no attribute 'quit'",
     "output_type": "error",
     "traceback": [
      "\u001b[1;31m---------------------------------------------------------------------------\u001b[0m",
      "\u001b[1;31mAttributeError\u001b[0m                            Traceback (most recent call last)",
      "\u001b[1;32m<ipython-input-116-28037dfc1d64>\u001b[0m in \u001b[0;36m<module>\u001b[1;34m\u001b[0m\n\u001b[1;32m----> 1\u001b[1;33m \u001b[0mrun\u001b[0m\u001b[1;33m.\u001b[0m\u001b[0mquit\u001b[0m\u001b[1;33m(\u001b[0m\u001b[1;33m)\u001b[0m\u001b[1;33m\u001b[0m\u001b[1;33m\u001b[0m\u001b[0m\n\u001b[0m",
      "\u001b[1;31mAttributeError\u001b[0m: 'Command' object has no attribute 'quit'"
     ]
    }
   ],
   "source": [
    "run.quit()"
   ]
  },
  {
   "cell_type": "code",
   "execution_count": 115,
   "metadata": {
    "ExecuteTime": {
     "end_time": "2020-05-21T14:48:03.036285Z",
     "start_time": "2020-05-21T14:48:02.925070Z"
    }
   },
   "outputs": [
    {
     "name": "stderr",
     "output_type": "stream",
     "text": [
      "Usage: ipykernel_launcher.py [OPTIONS]\n",
      "Try \"ipykernel_launcher.py --help\" for help.\n",
      "\n",
      "Error: no such option: -f\n"
     ]
    },
    {
     "ename": "SystemExit",
     "evalue": "2",
     "output_type": "error",
     "traceback": [
      "An exception has occurred, use %tb to see the full traceback.\n",
      "\u001b[1;31mSystemExit\u001b[0m\u001b[1;31m:\u001b[0m 2\n"
     ]
    },
    {
     "name": "stderr",
     "output_type": "stream",
     "text": [
      "C:\\ProgramData\\Anaconda3\\lib\\site-packages\\IPython\\core\\interactiveshell.py:3327: UserWarning: To exit: use 'exit', 'quit', or Ctrl-D.\n",
      "  warn(\"To exit: use 'exit', 'quit', or Ctrl-D.\", stacklevel=1)\n"
     ]
    }
   ],
   "source": [
    "run()"
   ]
  },
  {
   "cell_type": "code",
   "execution_count": 112,
   "metadata": {
    "ExecuteTime": {
     "end_time": "2020-05-21T14:29:44.104103Z",
     "start_time": "2020-05-21T14:29:40.577510Z"
    }
   },
   "outputs": [
    {
     "data": {
      "application/vnd.jupyter.widget-view+json": {
       "model_id": "0213cf8065f846a6a6db041bc4c77f70",
       "version_major": 2,
       "version_minor": 0
      },
      "text/plain": [
       "HBox(children=(FloatProgress(value=0.0, max=1000.0), HTML(value='')))"
      ]
     },
     "metadata": {},
     "output_type": "display_data"
    },
    {
     "name": "stdout",
     "output_type": "stream",
     "text": [
      "[INFO] Saving gif at ./captures/Simulation_1590071380.gif\n",
      "\n"
     ]
    },
    {
     "data": {
      "application/vnd.jupyter.widget-view+json": {
       "model_id": "6275544160b24bdcbdc777c3116dc06a",
       "version_major": 2,
       "version_minor": 0
      },
      "text/plain": [
       "interactive(children=(Play(value=0, description='Press play', interval=50, max=79), Output()), _dom_classes=('…"
      ]
     },
     "metadata": {},
     "output_type": "display_data"
    },
    {
     "data": {
      "application/vnd.jupyter.widget-view+json": {
       "model_id": "f10e5aa7e6024d66b6d4fad7860c66ff",
       "version_major": 2,
       "version_minor": 0
      },
      "text/plain": [
       "IntSlider(value=0, max=79)"
      ]
     },
     "metadata": {},
     "output_type": "display_data"
    }
   ],
   "source": [
    "sim = Simulation(env,fps = 30)\n",
    "sim.run_episode(1000,save = True,replay = True,fps_replay=20)\n",
    "env.quit()"
   ]
  },
  {
   "cell_type": "code",
   "execution_count": null,
   "metadata": {},
   "outputs": [],
   "source": []
  }
 ],
 "metadata": {
  "kernelspec": {
   "display_name": "Python 3",
   "language": "python",
   "name": "python3"
  },
  "language_info": {
   "codemirror_mode": {
    "name": "ipython",
    "version": 3
   },
   "file_extension": ".py",
   "mimetype": "text/x-python",
   "name": "python",
   "nbconvert_exporter": "python",
   "pygments_lexer": "ipython3",
   "version": "3.7.4"
  },
  "toc": {
   "base_numbering": 1,
   "nav_menu": {},
   "number_sections": true,
   "sideBar": true,
   "skip_h1_title": false,
   "title_cell": "Table of Contents",
   "title_sidebar": "Contents",
   "toc_cell": false,
   "toc_position": {},
   "toc_section_display": true,
   "toc_window_display": false
  }
 },
 "nbformat": 4,
 "nbformat_minor": 2
}
