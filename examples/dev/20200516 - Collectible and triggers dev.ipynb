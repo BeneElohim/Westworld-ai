{
 "cells": [
  {
   "cell_type": "markdown",
   "metadata": {},
   "source": [
    "# Collectibles and triggers dev"
   ]
  },
  {
   "cell_type": "code",
   "execution_count": 35,
   "metadata": {
    "ExecuteTime": {
     "end_time": "2020-05-17T14:44:14.962073Z",
     "start_time": "2020-05-17T14:44:14.822736Z"
    }
   },
   "outputs": [
    {
     "name": "stdout",
     "output_type": "stream",
     "text": [
      "The autoreload extension is already loaded. To reload it, use:\n",
      "  %reload_ext autoreload\n"
     ]
    }
   ],
   "source": [
    "# Base Data Science snippet\n",
    "import pandas as pd\n",
    "import numpy as np\n",
    "import matplotlib.pyplot as plt\n",
    "import os\n",
    "import time\n",
    "from tqdm import tqdm_notebook\n",
    "\n",
    "%matplotlib inline\n",
    "%load_ext autoreload\n",
    "%autoreload 2"
   ]
  },
  {
   "cell_type": "code",
   "execution_count": 36,
   "metadata": {
    "ExecuteTime": {
     "end_time": "2020-05-17T14:44:15.453959Z",
     "start_time": "2020-05-17T14:44:15.344158Z"
    }
   },
   "outputs": [],
   "source": [
    "import sys\n",
    "sys.path.append(\"../../\")\n",
    "import westworld"
   ]
  },
  {
   "cell_type": "markdown",
   "metadata": {},
   "source": [
    "# First collectible env"
   ]
  },
  {
   "cell_type": "code",
   "execution_count": 56,
   "metadata": {
    "ExecuteTime": {
     "end_time": "2020-05-17T15:03:00.543646Z",
     "start_time": "2020-05-17T15:02:59.366827Z"
    }
   },
   "outputs": [
    {
     "data": {
      "image/png": "[encoded data removed]",
      "text/plain": [
       "<PIL.Image.Image image mode=RGB size=750x200 at 0x1E057860388>"
      ]
     },
     "execution_count": 56,
     "metadata": {},
     "output_type": "execute_result"
    }
   ],
   "source": [
    "from westworld.environment.grid import GridEnvironment\n",
    "from westworld.agents.grid import BaseAgent,BaseObstacle,BaseTrigger,BaseCollectible\n",
    "from westworld.simulation.simulation import Simulation\n",
    "from westworld.colors import *\n",
    "\n",
    "BOX_SIZE = 50\n",
    "\n",
    "class Agent(BaseAgent):\n",
    "    \n",
    "    def init(self):\n",
    "        self.coll = 0\n",
    "    \n",
    "    def step(self):\n",
    "        self.move(dx = 1)\n",
    "        \n",
    "class Collectible(BaseCollectible):\n",
    "    \n",
    "    def on_collision(self,objects):\n",
    "        obj = self.env[objects[0]]\n",
    "        obj.coll += 1\n",
    "        \n",
    "        \n",
    "        \n",
    "\n",
    "agents = [Agent(1,1,1,1,color = RED,circle = True)]\n",
    "triggers = [Collectible(8,1,1,1,color = WHITE,circle = True)]\n",
    "\n",
    "\n",
    "# Setup grid\n",
    "env = GridEnvironment(BOX_SIZE,15,4,objects = agents + triggers)\n",
    "env.render()\n",
    "env.get_img()"
   ]
  },
  {
   "cell_type": "code",
   "execution_count": 79,
   "metadata": {
    "ExecuteTime": {
     "end_time": "2020-05-17T15:16:47.426160Z",
     "start_time": "2020-05-17T15:16:47.310671Z"
    }
   },
   "outputs": [
    {
     "name": "stdout",
     "output_type": "stream",
     "text": [
      "Wall time: 0 ns\n"
     ]
    },
    {
     "data": {
      "text/plain": [
       "(1, 11)"
      ]
     },
     "execution_count": 79,
     "metadata": {},
     "output_type": "execute_result"
    }
   ],
   "source": [
    "%%time\n",
    "env.get_random_available_pos()"
   ]
  },
  {
   "cell_type": "code",
   "execution_count": 42,
   "metadata": {
    "ExecuteTime": {
     "end_time": "2020-05-17T14:45:18.008155Z",
     "start_time": "2020-05-17T14:45:17.902233Z"
    }
   },
   "outputs": [],
   "source": [
    "sim = Simulation(env)"
   ]
  },
  {
   "cell_type": "code",
   "execution_count": 43,
   "metadata": {
    "ExecuteTime": {
     "end_time": "2020-05-17T14:45:20.720617Z",
     "start_time": "2020-05-17T14:45:18.855057Z"
    }
   },
   "outputs": [
    {
     "data": {
      "application/vnd.jupyter.widget-view+json": {
       "model_id": "ca2c50d46f124f58918690b418b24782",
       "version_major": 2,
       "version_minor": 0
      },
      "text/plain": [
       "HBox(children=(FloatProgress(value=0.0, max=10.0), HTML(value='')))"
      ]
     },
     "metadata": {},
     "output_type": "display_data"
    },
    {
     "name": "stdout",
     "output_type": "stream",
     "text": [
      "[INFO] Saving gif at ./captures/toy_pathfinding.gif\n",
      "\n"
     ]
    },
    {
     "data": {
      "application/vnd.jupyter.widget-view+json": {
       "model_id": "ba01d4f9706d455a81a9030bd181f791",
       "version_major": 2,
       "version_minor": 0
      },
      "text/plain": [
       "interactive(children=(Play(value=0, description='Press play', max=10), Output()), _dom_classes=('widget-intera…"
      ]
     },
     "metadata": {},
     "output_type": "display_data"
    },
    {
     "data": {
      "application/vnd.jupyter.widget-view+json": {
       "model_id": "4d08599e03324eab892342c51d5f73bb",
       "version_major": 2,
       "version_minor": 0
      },
      "text/plain": [
       "IntSlider(value=0, max=10)"
      ]
     },
     "metadata": {},
     "output_type": "display_data"
    }
   ],
   "source": [
    "sim.run_episode(10,save = \"toy_pathfinding.gif\",replay = True,fps_replay=10)"
   ]
  },
  {
   "cell_type": "markdown",
   "metadata": {},
   "source": [
    "# More complicated collectible environment"
   ]
  },
  {
   "cell_type": "code",
   "execution_count": 180,
   "metadata": {
    "ExecuteTime": {
     "end_time": "2020-05-18T07:49:02.341488Z",
     "start_time": "2020-05-18T07:49:01.284420Z"
    }
   },
   "outputs": [
    {
     "data": {
      "image/png": "[encoded data removed]",
      "text/plain": [
       "<PIL.Image.Image image mode=RGB size=800x300 at 0x1E058C34208>"
      ]
     },
     "execution_count": 180,
     "metadata": {},
     "output_type": "execute_result"
    }
   ],
   "source": [
    "from westworld.environment.grid import GridEnvironment\n",
    "from westworld.agents.grid import BaseAgent,BaseObstacle,BaseTrigger,BaseCollectible\n",
    "from westworld.simulation.simulation import Simulation\n",
    "from westworld.colors import *\n",
    "\n",
    "BOX_SIZE = 10\n",
    "\n",
    "class Agent(BaseAgent):\n",
    "    \n",
    "    def init(self):\n",
    "        self.coll = 0\n",
    "        self.target = None\n",
    "    \n",
    "    def step(self):\n",
    "#         self.move(dx = 1,dy = 1)\n",
    "#         self.move_towards(x = 10,y = 20,n = 10)\n",
    "        \n",
    "        stop = False\n",
    "        \n",
    "        # Decide if reached the target\n",
    "        if self.pos == self.target:\n",
    "            self.target = None\n",
    "\n",
    "        # Find next target\n",
    "        if self.target is None:\n",
    "            targets = self.env.find_objects({\"collectible\":True},return_pos = True)\n",
    "            if len(targets) == 0:\n",
    "                stop = True\n",
    "            else:\n",
    "                stop = False\n",
    "                self.target = targets[0]\n",
    "        \n",
    "        if not stop:\n",
    "            # Move one step closer towards target using pathfinding\n",
    "            x,y = self.target\n",
    "            self.move_towards(x = x,y = y,n = 10)\n",
    "        \n",
    "        \n",
    "class Collectible(BaseCollectible):\n",
    "    \n",
    "    collectible = True\n",
    "    \n",
    "    def on_collision(self,objects):\n",
    "        obj = self.env[objects[0]]\n",
    "        obj.coll += 1\n",
    "        \n",
    "        \n",
    "        \n",
    "\n",
    "agents = [Agent(1,1,1,1,color = RED)]\n",
    "collectible_spawner = lambda x,y : Collectible(x,y,1,1,color = WHITE)\n",
    "\n",
    "\n",
    "# Setup grid\n",
    "env = GridEnvironment(BOX_SIZE,80,30,objects = agents)\n",
    "env.spawn(collectible_spawner,10)\n",
    "env.render()\n",
    "env.get_img()"
   ]
  },
  {
   "cell_type": "code",
   "execution_count": null,
   "metadata": {
    "ExecuteTime": {
     "start_time": "2020-05-18T07:49:08.676Z"
    }
   },
   "outputs": [
    {
     "data": {
      "application/vnd.jupyter.widget-view+json": {
       "model_id": "7e6b7125908a43f29272fc78643c2b89",
       "version_major": 2,
       "version_minor": 0
      },
      "text/plain": [
       "HBox(children=(FloatProgress(value=0.0, max=200.0), HTML(value='')))"
      ]
     },
     "metadata": {},
     "output_type": "display_data"
    },
    {
     "name": "stderr",
     "output_type": "stream",
     "text": [
      "../..\\westworld\\algorithms\\pathfinding\\astar.py:108: UserWarning: Giving up on pathfinding too many iterations\n",
      "  # if we hit this point return the path such as it is\n"
     ]
    }
   ],
   "source": [
    "sim = Simulation(env)\n",
    "sim.run_episode(200,save = \"toy_pathfinding.gif\",replay = True,fps_replay=20)"
   ]
  },
  {
   "cell_type": "code",
   "execution_count": null,
   "metadata": {},
   "outputs": [],
   "source": []
  }
 ],
 "metadata": {
  "kernelspec": {
   "display_name": "Python 3",
   "language": "python",
   "name": "python3"
  },
  "language_info": {
   "codemirror_mode": {
    "name": "ipython",
    "version": 3
   },
   "file_extension": ".py",
   "mimetype": "text/x-python",
   "name": "python",
   "nbconvert_exporter": "python",
   "pygments_lexer": "ipython3",
   "version": "3.7.4"
  },
  "toc": {
   "base_numbering": 1,
   "nav_menu": {},
   "number_sections": true,
   "sideBar": true,
   "skip_h1_title": false,
   "title_cell": "Table of Contents",
   "title_sidebar": "Contents",
   "toc_cell": false,
   "toc_position": {},
   "toc_section_display": true,
   "toc_window_display": false
  }
 },
 "nbformat": 4,
 "nbformat_minor": 2
}
