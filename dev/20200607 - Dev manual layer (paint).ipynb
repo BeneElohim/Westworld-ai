{
 "cells": [
  {
   "cell_type": "code",
   "execution_count": 1,
   "metadata": {
    "ExecuteTime": {
     "end_time": "2020-06-27T18:52:52.607377Z",
     "start_time": "2020-06-27T18:52:51.313868Z"
    }
   },
   "outputs": [],
   "source": [
    "# Base Data Science snippet\n",
    "import pandas as pd\n",
    "import numpy as np\n",
    "import matplotlib.pyplot as plt\n",
    "import os\n",
    "import time\n",
    "from tqdm import tqdm_notebook\n",
    "\n",
    "%matplotlib inline\n",
    "%load_ext autoreload\n",
    "%autoreload 2"
   ]
  },
  {
   "cell_type": "markdown",
   "metadata": {},
   "source": [
    "# Sprite utils"
   ]
  },
  {
   "cell_type": "code",
   "execution_count": 4,
   "metadata": {
    "ExecuteTime": {
     "end_time": "2020-06-27T18:53:15.535462Z",
     "start_time": "2020-06-27T18:53:15.266632Z"
    }
   },
   "outputs": [],
   "source": [
    "import sys\n",
    "sys.path.append(\"../\")\n",
    "\n",
    "import westworld\n",
    "from westworld.assets.sprites.utils import *\n",
    "from westworld.assets import make_arrow\n",
    "from westworld.colors import *\n",
    "from westworld.environment import GridEnvironment\n",
    "from westworld.agents.sir_agent import SIRAgent\n",
    "from westworld.environment.spatial import SpatialEnvironment\n",
    "from westworld.agents import BaseAgent\n",
    "from westworld.agents.collectible_finder import CollectibleFinderAgent\n",
    "from westworld.objects import BaseObstacle,BaseTrigger,BaseCollectible,BaseRectangle\n",
    "from westworld.objects import BaseLayer\n",
    "from westworld.simulation import Simulation\n",
    "from westworld.colors import *\n",
    "from westworld.logger import Logger"
   ]
  },
  {
   "cell_type": "code",
   "execution_count": 7,
   "metadata": {
    "ExecuteTime": {
     "end_time": "2020-06-27T18:53:51.464753Z",
     "start_time": "2020-06-27T18:53:51.127940Z"
    }
   },
   "outputs": [
    {
     "name": "stdout",
     "output_type": "stream",
     "text": [
      "GeneratedMaze_cellsize=10.png\n",
      "GeneratedMaze_cellsize=20.png\n",
      "Layer_1590257407_boxsize=20.png\n",
      "Layer_1590260841_boxsize=10.png\n",
      "ceintrey_manual.png\n",
      "maze_manual1.png\n",
      "simple_schema.jpg\n"
     ]
    }
   ],
   "source": [
    "!ls layers"
   ]
  },
  {
   "cell_type": "code",
   "execution_count": 26,
   "metadata": {
    "ExecuteTime": {
     "end_time": "2020-06-27T19:10:02.787529Z",
     "start_time": "2020-06-27T19:10:01.801874Z"
    }
   },
   "outputs": [
    {
     "data": {
      "image/png": "[encoded data removed]",
      "text/plain": [
       "<PIL.Image.Image image mode=RGB size=1110x632 at 0x2506D70BBC8>"
      ]
     },
     "execution_count": 26,
     "metadata": {},
     "output_type": "execute_result"
    }
   ],
   "source": [
    "# Prepare layer\n",
    "layer = BaseLayer(img_filepath = \"layers/ceintrey_manual.png\",img_transparency = (255,255,255))\n",
    "\n",
    "class Agent(BaseAgent):\n",
    "    \n",
    "    @property\n",
    "    def blocking(self):\n",
    "        return True\n",
    "    \n",
    "    def when_blocked(self,collisions):\n",
    "        self.set_direction()\n",
    "    \n",
    "    def step(self):\n",
    "        self.wander()\n",
    "        \n",
    "\n",
    "spawner = lambda x,y : Agent(x,y,width = 10,height = 10,img_asset = \"arrow\",img_rotate = True)\n",
    "# spawner = lambda x,y : Agent(x,y,width = 20,height = 20,img_asset = \"blob\",img_rotate = False,color = (100,200,100))\n",
    "\n",
    "        \n",
    "env = SpatialEnvironment(objects = [layer],background_color = WHITE)\n",
    "env.spawn(spawner,500)\n",
    "\n",
    "env.render()\n",
    "env.get_img()"
   ]
  },
  {
   "cell_type": "code",
   "execution_count": 27,
   "metadata": {
    "ExecuteTime": {
     "end_time": "2020-06-27T19:10:31.998777Z",
     "start_time": "2020-06-27T19:10:06.570250Z"
    }
   },
   "outputs": [
    {
     "data": {
      "application/vnd.jupyter.widget-view+json": {
       "model_id": "6418ab0aef364dd4a5bbb1a2dc173458",
       "version_major": 2,
       "version_minor": 0
      },
      "text/plain": [
       "HBox(children=(FloatProgress(value=0.0, max=300.0), HTML(value='')))"
      ]
     },
     "metadata": {},
     "output_type": "display_data"
    },
    {
     "name": "stdout",
     "output_type": "stream",
     "text": [
      "[INFO] Saving video at ./captures/Simulation_1593285006.mp4\n",
      "\n"
     ]
    },
    {
     "data": {
      "application/vnd.jupyter.widget-view+json": {
       "model_id": "9022d46043474033a16bac32d310b581",
       "version_major": 2,
       "version_minor": 0
      },
      "text/plain": [
       "interactive(children=(Play(value=0, description='Press play', interval=40, max=284), Output()), _dom_classes=(…"
      ]
     },
     "metadata": {},
     "output_type": "display_data"
    },
    {
     "data": {
      "application/vnd.jupyter.widget-view+json": {
       "model_id": "35ae3dc456b242b098bcc87038a87f03",
       "version_major": 2,
       "version_minor": 0
      },
      "text/plain": [
       "IntSlider(value=0, max=284)"
      ]
     },
     "metadata": {},
     "output_type": "display_data"
    }
   ],
   "source": [
    "sim = Simulation(env,fps = 25)\n",
    "sim.run_episode(n_steps = 300,save = True,replay=True,fps_replay = 25,save_format = \"video\")"
   ]
  },
  {
   "cell_type": "code",
   "execution_count": 37,
   "metadata": {
    "ExecuteTime": {
     "end_time": "2020-06-08T09:57:46.267270Z",
     "start_time": "2020-06-08T09:57:46.086731Z"
    }
   },
   "outputs": [
    {
     "ename": "ValueError",
     "evalue": "not enough values to unpack (expected 4, got 0)",
     "output_type": "error",
     "traceback": [
      "\u001b[1;31m---------------------------------------------------------------------------\u001b[0m",
      "\u001b[1;31mValueError\u001b[0m                                Traceback (most recent call last)",
      "\u001b[1;32m<ipython-input-37-da493c97982a>\u001b[0m in \u001b[0;36m<module>\u001b[1;34m\u001b[0m\n\u001b[1;32m----> 1\u001b[1;33m \u001b[0msim\u001b[0m\u001b[1;33m.\u001b[0m\u001b[0m_save_video_from_images\u001b[0m\u001b[1;33m(\u001b[0m\u001b[1;34m\"test2.mp4\"\u001b[0m\u001b[1;33m)\u001b[0m\u001b[1;33m\u001b[0m\u001b[1;33m\u001b[0m\u001b[0m\n\u001b[0m",
      "\u001b[1;32mc:\\git\\westworld\\westworld\\simulation\\simulation.py\u001b[0m in \u001b[0;36m_save_video_from_images\u001b[1;34m(filepath, images, fps, vcodec)\u001b[0m\n\u001b[0;32m     81\u001b[0m         \u001b[1;32mif\u001b[0m \u001b[1;32mnot\u001b[0m \u001b[0misinstance\u001b[0m\u001b[1;33m(\u001b[0m\u001b[0mimages\u001b[0m\u001b[1;33m,\u001b[0m \u001b[0mnp\u001b[0m\u001b[1;33m.\u001b[0m\u001b[0mndarray\u001b[0m\u001b[1;33m)\u001b[0m\u001b[1;33m:\u001b[0m\u001b[1;33m\u001b[0m\u001b[1;33m\u001b[0m\u001b[0m\n\u001b[0;32m     82\u001b[0m             \u001b[0mimages\u001b[0m \u001b[1;33m=\u001b[0m \u001b[0mnp\u001b[0m\u001b[1;33m.\u001b[0m\u001b[0masarray\u001b[0m\u001b[1;33m(\u001b[0m\u001b[0mimages\u001b[0m\u001b[1;33m)\u001b[0m\u001b[1;33m\u001b[0m\u001b[1;33m\u001b[0m\u001b[0m\n\u001b[1;32m---> 83\u001b[1;33m         \u001b[0mn\u001b[0m\u001b[1;33m,\u001b[0m\u001b[0mheight\u001b[0m\u001b[1;33m,\u001b[0m\u001b[0mwidth\u001b[0m\u001b[1;33m,\u001b[0m\u001b[0mchannels\u001b[0m \u001b[1;33m=\u001b[0m \u001b[0mimages\u001b[0m\u001b[1;33m.\u001b[0m\u001b[0mshape\u001b[0m\u001b[1;33m\u001b[0m\u001b[1;33m\u001b[0m\u001b[0m\n\u001b[0m\u001b[0;32m     84\u001b[0m         process = (\n\u001b[0;32m     85\u001b[0m             \u001b[0mffmpeg\u001b[0m\u001b[1;33m\u001b[0m\u001b[1;33m\u001b[0m\u001b[0m\n",
      "\u001b[1;31mValueError\u001b[0m: not enough values to unpack (expected 4, got 0)"
     ]
    }
   ],
   "source": [
    "sim._save_video_from_images(\"test2.mp4\")"
   ]
  },
  {
   "cell_type": "code",
   "execution_count": null,
   "metadata": {},
   "outputs": [],
   "source": []
  }
 ],
 "metadata": {
  "kernelspec": {
   "display_name": "Python 3",
   "language": "python",
   "name": "python3"
  },
  "language_info": {
   "codemirror_mode": {
    "name": "ipython",
    "version": 3
   },
   "file_extension": ".py",
   "mimetype": "text/x-python",
   "name": "python",
   "nbconvert_exporter": "python",
   "pygments_lexer": "ipython3",
   "version": "3.7.4"
  },
  "toc": {
   "base_numbering": 1,
   "nav_menu": {},
   "number_sections": true,
   "sideBar": true,
   "skip_h1_title": false,
   "title_cell": "Table of Contents",
   "title_sidebar": "Contents",
   "toc_cell": false,
   "toc_position": {},
   "toc_section_display": true,
   "toc_window_display": false
  }
 },
 "nbformat": 4,
 "nbformat_minor": 2
}
