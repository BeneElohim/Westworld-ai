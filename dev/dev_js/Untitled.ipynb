{
 "cells": [
  {
   "cell_type": "code",
   "execution_count": 13,
   "metadata": {
    "ExecuteTime": {
     "end_time": "2020-06-08T13:45:49.576691Z",
     "start_time": "2020-06-08T13:45:49.572677Z"
    }
   },
   "outputs": [],
   "source": [
    "html = open(\"test_threejs.html\").read()"
   ]
  },
  {
   "cell_type": "code",
   "execution_count": 14,
   "metadata": {
    "ExecuteTime": {
     "end_time": "2020-06-08T13:45:49.833335Z",
     "start_time": "2020-06-08T13:45:49.828347Z"
    }
   },
   "outputs": [],
   "source": [
    "from IPython.display import HTML,display"
   ]
  },
  {
   "cell_type": "code",
   "execution_count": 15,
   "metadata": {
    "ExecuteTime": {
     "end_time": "2020-06-08T13:45:50.119175Z",
     "start_time": "2020-06-08T13:45:50.114221Z"
    }
   },
   "outputs": [
    {
     "data": {
      "text/html": [
       "<!DOCTYPE html>\n",
       "<html>\n",
       "    <head>\n",
       "        <meta charset=\"utf-8\">\n",
       "        <title>My first three.js app</title>\n",
       "        <style>\n",
       "            body { margin: 0; }\n",
       "            canvas { display: block; }\n",
       "        </style>\n",
       "    </head>\n",
       "    <body>\n",
       "        <script src=\"js/three.js\"></script>\n",
       "        <script>\n",
       "\n",
       "            var scene = new THREE.Scene();\n",
       "            var camera = new THREE.PerspectiveCamera( 75, window.innerWidth / window.innerHeight, 0.1, 1000 );\n",
       "\n",
       "            var renderer = new THREE.WebGLRenderer();\n",
       "            renderer.setSize( window.innerWidth, window.innerHeight );\n",
       "            document.body.appendChild( renderer.domElement );\n",
       "\n",
       "            var geometry = new THREE.BoxGeometry();\n",
       "            var material = new THREE.MeshBasicMaterial( { color: 0x00ff00 } );\n",
       "            var cube = new THREE.Mesh( geometry, material );\n",
       "            scene.add( cube );\n",
       "\n",
       "            camera.position.z = 20;\n",
       "            camera.position.x = 5;\n",
       "            camera.position.y = 6\n",
       "\n",
       "            var animate = function () {\n",
       "                requestAnimationFrame( animate );\n",
       "\n",
       "                cube.rotation.x += 0.01;\n",
       "                cube.rotation.y += 0.01;\n",
       "\n",
       "                renderer.render( scene, camera );\n",
       "            };\n",
       "\n",
       "            animate();\n",
       "\n",
       "            var grid = new THREE.GridHelper(100, 10);\n",
       "            scene.add(grid);\n",
       "\n",
       "            // Our Javascript will go here.\n",
       "        </script>\n",
       "    </body>\n",
       "</html>"
      ],
      "text/plain": [
       "<IPython.core.display.HTML object>"
      ]
     },
     "metadata": {},
     "output_type": "display_data"
    }
   ],
   "source": [
    "display(HTML(html))"
   ]
  },
  {
   "cell_type": "code",
   "execution_count": null,
   "metadata": {},
   "outputs": [],
   "source": []
  }
 ],
 "metadata": {
  "kernelspec": {
   "display_name": "Python 3",
   "language": "python",
   "name": "python3"
  },
  "language_info": {
   "codemirror_mode": {
    "name": "ipython",
    "version": 3
   },
   "file_extension": ".py",
   "mimetype": "text/x-python",
   "name": "python",
   "nbconvert_exporter": "python",
   "pygments_lexer": "ipython3",
   "version": "3.7.4"
  },
  "toc": {
   "base_numbering": 1,
   "nav_menu": {},
   "number_sections": true,
   "sideBar": true,
   "skip_h1_title": false,
   "title_cell": "Table of Contents",
   "title_sidebar": "Contents",
   "toc_cell": false,
   "toc_position": {},
   "toc_section_display": true,
   "toc_window_display": false
  }
 },
 "nbformat": 4,
 "nbformat_minor": 2
}
