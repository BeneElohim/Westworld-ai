{
 "cells": [
  {
   "cell_type": "code",
   "execution_count": 1,
   "metadata": {
    "ExecuteTime": {
     "end_time": "2020-06-28T18:12:32.027706Z",
     "start_time": "2020-06-28T18:12:30.324031Z"
    }
   },
   "outputs": [],
   "source": [
    "# Base Data Science snippet\n",
    "import pandas as pd\n",
    "import numpy as np\n",
    "import matplotlib.pyplot as plt\n",
    "import os\n",
    "import time\n",
    "from tqdm import tqdm_notebook\n",
    "\n",
    "%matplotlib inline\n",
    "%load_ext autoreload\n",
    "%autoreload 2"
   ]
  },
  {
   "cell_type": "code",
   "execution_count": 2,
   "metadata": {
    "ExecuteTime": {
     "end_time": "2020-06-28T18:12:40.189884Z",
     "start_time": "2020-06-28T18:12:36.574014Z"
    }
   },
   "outputs": [
    {
     "name": "stdout",
     "output_type": "stream",
     "text": [
      "pygame 1.9.6\n",
      "Hello from the pygame community. https://www.pygame.org/contribute.html\n"
     ]
    }
   ],
   "source": [
    "import sys\n",
    "sys.path.append(\"../\")\n",
    "\n",
    "import westworld\n",
    "from westworld.assets import *\n",
    "from westworld.colors import *\n",
    "from westworld.objects import *\n",
    "from westworld.agents import *\n",
    "from westworld.environment import *\n",
    "from westworld.simulation import *\n",
    "from westworld.logger import Logger"
   ]
  },
  {
   "cell_type": "markdown",
   "metadata": {},
   "source": [
    "# Playground"
   ]
  },
  {
   "cell_type": "markdown",
   "metadata": {},
   "source": [
    "## Beta law for fight evaluations"
   ]
  },
  {
   "cell_type": "markdown",
   "metadata": {},
   "source": [
    "- https://fr.wikipedia.org/wiki/Loi_b%C3%AAta\n",
    "- https://docs.scipy.org/doc/scipy/reference/generated/scipy.stats.beta.html"
   ]
  },
  {
   "cell_type": "code",
   "execution_count": 9,
   "metadata": {
    "ExecuteTime": {
     "end_time": "2020-06-28T18:52:54.479330Z",
     "start_time": "2020-06-28T18:52:51.922318Z"
    }
   },
   "outputs": [],
   "source": [
    "from scipy.stats import beta"
   ]
  },
  {
   "cell_type": "code",
   "execution_count": 11,
   "metadata": {
    "ExecuteTime": {
     "end_time": "2020-06-28T18:53:58.039659Z",
     "start_time": "2020-06-28T18:53:57.874048Z"
    }
   },
   "outputs": [],
   "source": [
    "r = beta.rvs(10, 1, size=1000)"
   ]
  },
  {
   "cell_type": "code",
   "execution_count": 14,
   "metadata": {
    "ExecuteTime": {
     "end_time": "2020-06-28T18:56:14.409020Z",
     "start_time": "2020-06-28T18:56:14.078890Z"
    }
   },
   "outputs": [
    {
     "data": {
      "application/vnd.jupyter.widget-view+json": {
       "model_id": "a8950cd6740a4375a0b34156f3f53de0",
       "version_major": 2,
       "version_minor": 0
      },
      "text/plain": [
       "interactive(children=(IntSlider(value=1, description='a', max=10, min=1), IntSlider(value=1, description='b', …"
      ]
     },
     "metadata": {},
     "output_type": "display_data"
    }
   ],
   "source": [
    "from ipywidgets import interact,IntSlider\n",
    "\n",
    "@interact(a = IntSlider(min = 1,max = 10,value = 1,step = 1),b = IntSlider(min = 1,max = 10,value = 1,step = 1))\n",
    "def explore(a,b):\n",
    "    x = np.linspace(0,1,100)\n",
    "    rv = beta(a, b)\n",
    "    plt.plot(x, rv.pdf(x), 'k-', lw=2, label='frozen pdf')\n",
    "    plt.show()"
   ]
  },
  {
   "cell_type": "code",
   "execution_count": 15,
   "metadata": {
    "ExecuteTime": {
     "end_time": "2020-06-28T18:57:49.804948Z",
     "start_time": "2020-06-28T18:57:49.615300Z"
    }
   },
   "outputs": [],
   "source": [
    "def win(a,b):\n",
    "    return beta.rvs(a, b) > 0.5"
   ]
  },
  {
   "cell_type": "markdown",
   "metadata": {},
   "source": [
    "## Env development"
   ]
  },
  {
   "cell_type": "markdown",
   "metadata": {},
   "source": [
    "### Dev decorators"
   ]
  },
  {
   "cell_type": "code",
   "execution_count": 51,
   "metadata": {
    "ExecuteTime": {
     "end_time": "2020-06-28T19:05:05.774117Z",
     "start_time": "2020-06-28T19:05:05.580020Z"
    }
   },
   "outputs": [
    {
     "data": {
      "text/html": [
       "<div>\n",
       "<style scoped>\n",
       "    .dataframe tbody tr th:only-of-type {\n",
       "        vertical-align: middle;\n",
       "    }\n",
       "\n",
       "    .dataframe tbody tr th {\n",
       "        vertical-align: top;\n",
       "    }\n",
       "\n",
       "    .dataframe thead th {\n",
       "        text-align: right;\n",
       "    }\n",
       "</style>\n",
       "<table border=\"1\" class=\"dataframe\">\n",
       "  <thead>\n",
       "    <tr style=\"text-align: right;\">\n",
       "      <th></th>\n",
       "      <th>pos</th>\n",
       "      <th>type</th>\n",
       "      <th>color</th>\n",
       "      <th>pop</th>\n",
       "    </tr>\n",
       "    <tr>\n",
       "      <th>id</th>\n",
       "      <th></th>\n",
       "      <th></th>\n",
       "      <th></th>\n",
       "      <th></th>\n",
       "    </tr>\n",
       "  </thead>\n",
       "  <tbody>\n",
       "    <tr>\n",
       "      <td>426c1ca6-b972-11ea-b72e-463500000031</td>\n",
       "      <td>(1, 1)</td>\n",
       "      <td>Player</td>\n",
       "      <td>(255, 0, 0)</td>\n",
       "      <td>1</td>\n",
       "    </tr>\n",
       "    <tr>\n",
       "      <td>426c1ca7-b972-11ea-a11e-463500000031</td>\n",
       "      <td>(8, 9)</td>\n",
       "      <td>Player</td>\n",
       "      <td>(255, 0, 0)</td>\n",
       "      <td>1</td>\n",
       "    </tr>\n",
       "    <tr>\n",
       "      <td>426c1ca8-b972-11ea-bcd3-463500000031</td>\n",
       "      <td>(10, 8)</td>\n",
       "      <td>Player</td>\n",
       "      <td>(255, 0, 0)</td>\n",
       "      <td>1</td>\n",
       "    </tr>\n",
       "    <tr>\n",
       "      <td>426c1ca9-b972-11ea-812e-463500000031</td>\n",
       "      <td>(3, 4)</td>\n",
       "      <td>Player</td>\n",
       "      <td>(255, 0, 0)</td>\n",
       "      <td>1</td>\n",
       "    </tr>\n",
       "    <tr>\n",
       "      <td>426c1caa-b972-11ea-a679-463500000031</td>\n",
       "      <td>(15, 7)</td>\n",
       "      <td>Player</td>\n",
       "      <td>(255, 0, 0)</td>\n",
       "      <td>1</td>\n",
       "    </tr>\n",
       "    <tr>\n",
       "      <td>426c1cab-b972-11ea-a8b2-463500000031</td>\n",
       "      <td>(18, 7)</td>\n",
       "      <td>Player</td>\n",
       "      <td>(255, 0, 0)</td>\n",
       "      <td>1</td>\n",
       "    </tr>\n",
       "    <tr>\n",
       "      <td>426c451c-b972-11ea-85ff-463500000031</td>\n",
       "      <td>(19, 4)</td>\n",
       "      <td>Player</td>\n",
       "      <td>(255, 0, 0)</td>\n",
       "      <td>1</td>\n",
       "    </tr>\n",
       "    <tr>\n",
       "      <td>426c451d-b972-11ea-9844-463500000031</td>\n",
       "      <td>(9, 5)</td>\n",
       "      <td>Player</td>\n",
       "      <td>(255, 0, 0)</td>\n",
       "      <td>1</td>\n",
       "    </tr>\n",
       "    <tr>\n",
       "      <td>426c451e-b972-11ea-b686-463500000031</td>\n",
       "      <td>(6, 6)</td>\n",
       "      <td>Player</td>\n",
       "      <td>(255, 0, 0)</td>\n",
       "      <td>1</td>\n",
       "    </tr>\n",
       "    <tr>\n",
       "      <td>426c451f-b972-11ea-b637-463500000031</td>\n",
       "      <td>(17, 8)</td>\n",
       "      <td>Player</td>\n",
       "      <td>(255, 0, 0)</td>\n",
       "      <td>1</td>\n",
       "    </tr>\n",
       "    <tr>\n",
       "      <td>426c4520-b972-11ea-96c2-463500000031</td>\n",
       "      <td>(4, 0)</td>\n",
       "      <td>Player</td>\n",
       "      <td>(255, 0, 0)</td>\n",
       "      <td>1</td>\n",
       "    </tr>\n",
       "    <tr>\n",
       "      <td>426c4521-b972-11ea-9035-463500000031</td>\n",
       "      <td>(12, 0)</td>\n",
       "      <td>Player</td>\n",
       "      <td>(255, 0, 0)</td>\n",
       "      <td>1</td>\n",
       "    </tr>\n",
       "    <tr>\n",
       "      <td>426c4522-b972-11ea-bc31-463500000031</td>\n",
       "      <td>(2, 0)</td>\n",
       "      <td>Player</td>\n",
       "      <td>(255, 0, 0)</td>\n",
       "      <td>1</td>\n",
       "    </tr>\n",
       "    <tr>\n",
       "      <td>426c4523-b972-11ea-9f50-463500000031</td>\n",
       "      <td>(7, 5)</td>\n",
       "      <td>Player</td>\n",
       "      <td>(255, 0, 0)</td>\n",
       "      <td>1</td>\n",
       "    </tr>\n",
       "    <tr>\n",
       "      <td>426c4524-b972-11ea-a0b0-463500000031</td>\n",
       "      <td>(0, 7)</td>\n",
       "      <td>Player</td>\n",
       "      <td>(255, 0, 0)</td>\n",
       "      <td>1</td>\n",
       "    </tr>\n",
       "    <tr>\n",
       "      <td>426c4525-b972-11ea-9079-463500000031</td>\n",
       "      <td>(2, 4)</td>\n",
       "      <td>Player</td>\n",
       "      <td>(255, 0, 0)</td>\n",
       "      <td>1</td>\n",
       "    </tr>\n",
       "    <tr>\n",
       "      <td>426c4526-b972-11ea-9f47-463500000031</td>\n",
       "      <td>(17, 9)</td>\n",
       "      <td>Player</td>\n",
       "      <td>(255, 0, 0)</td>\n",
       "      <td>1</td>\n",
       "    </tr>\n",
       "    <tr>\n",
       "      <td>426c6c02-b972-11ea-a82c-463500000031</td>\n",
       "      <td>(5, 5)</td>\n",
       "      <td>Player</td>\n",
       "      <td>(255, 0, 0)</td>\n",
       "      <td>1</td>\n",
       "    </tr>\n",
       "    <tr>\n",
       "      <td>426c6c03-b972-11ea-9f42-463500000031</td>\n",
       "      <td>(1, 4)</td>\n",
       "      <td>Player</td>\n",
       "      <td>(255, 0, 0)</td>\n",
       "      <td>1</td>\n",
       "    </tr>\n",
       "    <tr>\n",
       "      <td>426c6c04-b972-11ea-a1d4-463500000031</td>\n",
       "      <td>(12, 1)</td>\n",
       "      <td>Player</td>\n",
       "      <td>(255, 0, 0)</td>\n",
       "      <td>1</td>\n",
       "    </tr>\n",
       "    <tr>\n",
       "      <td>426c92f0-b972-11ea-ba32-463500000031</td>\n",
       "      <td>(4, 4)</td>\n",
       "      <td>Player</td>\n",
       "      <td>(0, 0, 255)</td>\n",
       "      <td>1</td>\n",
       "    </tr>\n",
       "    <tr>\n",
       "      <td>426cba0a-b972-11ea-8182-463500000031</td>\n",
       "      <td>(4, 5)</td>\n",
       "      <td>Player</td>\n",
       "      <td>(0, 0, 255)</td>\n",
       "      <td>1</td>\n",
       "    </tr>\n",
       "    <tr>\n",
       "      <td>426cba0b-b972-11ea-8c20-463500000031</td>\n",
       "      <td>(6, 3)</td>\n",
       "      <td>Player</td>\n",
       "      <td>(0, 0, 255)</td>\n",
       "      <td>1</td>\n",
       "    </tr>\n",
       "    <tr>\n",
       "      <td>426cba0c-b972-11ea-8b7f-463500000031</td>\n",
       "      <td>(6, 5)</td>\n",
       "      <td>Player</td>\n",
       "      <td>(0, 0, 255)</td>\n",
       "      <td>1</td>\n",
       "    </tr>\n",
       "    <tr>\n",
       "      <td>426cba0d-b972-11ea-978c-463500000031</td>\n",
       "      <td>(19, 5)</td>\n",
       "      <td>Player</td>\n",
       "      <td>(0, 0, 255)</td>\n",
       "      <td>1</td>\n",
       "    </tr>\n",
       "    <tr>\n",
       "      <td>426cba0e-b972-11ea-a22a-463500000031</td>\n",
       "      <td>(1, 6)</td>\n",
       "      <td>Player</td>\n",
       "      <td>(0, 0, 255)</td>\n",
       "      <td>1</td>\n",
       "    </tr>\n",
       "    <tr>\n",
       "      <td>426cba0f-b972-11ea-af80-463500000031</td>\n",
       "      <td>(11, 0)</td>\n",
       "      <td>Player</td>\n",
       "      <td>(0, 0, 255)</td>\n",
       "      <td>1</td>\n",
       "    </tr>\n",
       "    <tr>\n",
       "      <td>426cba10-b972-11ea-99c3-463500000031</td>\n",
       "      <td>(3, 0)</td>\n",
       "      <td>Player</td>\n",
       "      <td>(0, 0, 255)</td>\n",
       "      <td>1</td>\n",
       "    </tr>\n",
       "    <tr>\n",
       "      <td>426cba11-b972-11ea-a996-463500000031</td>\n",
       "      <td>(9, 8)</td>\n",
       "      <td>Player</td>\n",
       "      <td>(0, 0, 255)</td>\n",
       "      <td>1</td>\n",
       "    </tr>\n",
       "    <tr>\n",
       "      <td>426ce0da-b972-11ea-b08b-463500000031</td>\n",
       "      <td>(6, 4)</td>\n",
       "      <td>Player</td>\n",
       "      <td>(0, 0, 255)</td>\n",
       "      <td>1</td>\n",
       "    </tr>\n",
       "    <tr>\n",
       "      <td>426ce0db-b972-11ea-b932-463500000031</td>\n",
       "      <td>(16, 3)</td>\n",
       "      <td>Player</td>\n",
       "      <td>(0, 0, 255)</td>\n",
       "      <td>1</td>\n",
       "    </tr>\n",
       "    <tr>\n",
       "      <td>426ce0dc-b972-11ea-9848-463500000031</td>\n",
       "      <td>(11, 4)</td>\n",
       "      <td>Player</td>\n",
       "      <td>(0, 0, 255)</td>\n",
       "      <td>1</td>\n",
       "    </tr>\n",
       "    <tr>\n",
       "      <td>426ce0dd-b972-11ea-9544-463500000031</td>\n",
       "      <td>(7, 4)</td>\n",
       "      <td>Player</td>\n",
       "      <td>(0, 0, 255)</td>\n",
       "      <td>1</td>\n",
       "    </tr>\n",
       "    <tr>\n",
       "      <td>426ce0de-b972-11ea-bfcd-463500000031</td>\n",
       "      <td>(9, 6)</td>\n",
       "      <td>Player</td>\n",
       "      <td>(0, 0, 255)</td>\n",
       "      <td>1</td>\n",
       "    </tr>\n",
       "    <tr>\n",
       "      <td>426ce0df-b972-11ea-904d-463500000031</td>\n",
       "      <td>(11, 1)</td>\n",
       "      <td>Player</td>\n",
       "      <td>(0, 0, 255)</td>\n",
       "      <td>1</td>\n",
       "    </tr>\n",
       "    <tr>\n",
       "      <td>426ce0e0-b972-11ea-8029-463500000031</td>\n",
       "      <td>(12, 9)</td>\n",
       "      <td>Player</td>\n",
       "      <td>(0, 0, 255)</td>\n",
       "      <td>1</td>\n",
       "    </tr>\n",
       "    <tr>\n",
       "      <td>426d07e4-b972-11ea-a626-463500000031</td>\n",
       "      <td>(18, 1)</td>\n",
       "      <td>Player</td>\n",
       "      <td>(0, 0, 255)</td>\n",
       "      <td>1</td>\n",
       "    </tr>\n",
       "    <tr>\n",
       "      <td>426d07e5-b972-11ea-a6c9-463500000031</td>\n",
       "      <td>(13, 5)</td>\n",
       "      <td>Player</td>\n",
       "      <td>(0, 0, 255)</td>\n",
       "      <td>1</td>\n",
       "    </tr>\n",
       "    <tr>\n",
       "      <td>426d07e6-b972-11ea-a63e-463500000031</td>\n",
       "      <td>(10, 2)</td>\n",
       "      <td>Player</td>\n",
       "      <td>(0, 0, 255)</td>\n",
       "      <td>1</td>\n",
       "    </tr>\n",
       "    <tr>\n",
       "      <td>426d07e7-b972-11ea-9451-463500000031</td>\n",
       "      <td>(6, 0)</td>\n",
       "      <td>Player</td>\n",
       "      <td>(0, 0, 255)</td>\n",
       "      <td>1</td>\n",
       "    </tr>\n",
       "  </tbody>\n",
       "</table>\n",
       "</div>"
      ],
      "text/plain": [
       "                                          pos    type        color  pop\n",
       "id                                                                     \n",
       "426c1ca6-b972-11ea-b72e-463500000031   (1, 1)  Player  (255, 0, 0)    1\n",
       "426c1ca7-b972-11ea-a11e-463500000031   (8, 9)  Player  (255, 0, 0)    1\n",
       "426c1ca8-b972-11ea-bcd3-463500000031  (10, 8)  Player  (255, 0, 0)    1\n",
       "426c1ca9-b972-11ea-812e-463500000031   (3, 4)  Player  (255, 0, 0)    1\n",
       "426c1caa-b972-11ea-a679-463500000031  (15, 7)  Player  (255, 0, 0)    1\n",
       "426c1cab-b972-11ea-a8b2-463500000031  (18, 7)  Player  (255, 0, 0)    1\n",
       "426c451c-b972-11ea-85ff-463500000031  (19, 4)  Player  (255, 0, 0)    1\n",
       "426c451d-b972-11ea-9844-463500000031   (9, 5)  Player  (255, 0, 0)    1\n",
       "426c451e-b972-11ea-b686-463500000031   (6, 6)  Player  (255, 0, 0)    1\n",
       "426c451f-b972-11ea-b637-463500000031  (17, 8)  Player  (255, 0, 0)    1\n",
       "426c4520-b972-11ea-96c2-463500000031   (4, 0)  Player  (255, 0, 0)    1\n",
       "426c4521-b972-11ea-9035-463500000031  (12, 0)  Player  (255, 0, 0)    1\n",
       "426c4522-b972-11ea-bc31-463500000031   (2, 0)  Player  (255, 0, 0)    1\n",
       "426c4523-b972-11ea-9f50-463500000031   (7, 5)  Player  (255, 0, 0)    1\n",
       "426c4524-b972-11ea-a0b0-463500000031   (0, 7)  Player  (255, 0, 0)    1\n",
       "426c4525-b972-11ea-9079-463500000031   (2, 4)  Player  (255, 0, 0)    1\n",
       "426c4526-b972-11ea-9f47-463500000031  (17, 9)  Player  (255, 0, 0)    1\n",
       "426c6c02-b972-11ea-a82c-463500000031   (5, 5)  Player  (255, 0, 0)    1\n",
       "426c6c03-b972-11ea-9f42-463500000031   (1, 4)  Player  (255, 0, 0)    1\n",
       "426c6c04-b972-11ea-a1d4-463500000031  (12, 1)  Player  (255, 0, 0)    1\n",
       "426c92f0-b972-11ea-ba32-463500000031   (4, 4)  Player  (0, 0, 255)    1\n",
       "426cba0a-b972-11ea-8182-463500000031   (4, 5)  Player  (0, 0, 255)    1\n",
       "426cba0b-b972-11ea-8c20-463500000031   (6, 3)  Player  (0, 0, 255)    1\n",
       "426cba0c-b972-11ea-8b7f-463500000031   (6, 5)  Player  (0, 0, 255)    1\n",
       "426cba0d-b972-11ea-978c-463500000031  (19, 5)  Player  (0, 0, 255)    1\n",
       "426cba0e-b972-11ea-a22a-463500000031   (1, 6)  Player  (0, 0, 255)    1\n",
       "426cba0f-b972-11ea-af80-463500000031  (11, 0)  Player  (0, 0, 255)    1\n",
       "426cba10-b972-11ea-99c3-463500000031   (3, 0)  Player  (0, 0, 255)    1\n",
       "426cba11-b972-11ea-a996-463500000031   (9, 8)  Player  (0, 0, 255)    1\n",
       "426ce0da-b972-11ea-b08b-463500000031   (6, 4)  Player  (0, 0, 255)    1\n",
       "426ce0db-b972-11ea-b932-463500000031  (16, 3)  Player  (0, 0, 255)    1\n",
       "426ce0dc-b972-11ea-9848-463500000031  (11, 4)  Player  (0, 0, 255)    1\n",
       "426ce0dd-b972-11ea-9544-463500000031   (7, 4)  Player  (0, 0, 255)    1\n",
       "426ce0de-b972-11ea-bfcd-463500000031   (9, 6)  Player  (0, 0, 255)    1\n",
       "426ce0df-b972-11ea-904d-463500000031  (11, 1)  Player  (0, 0, 255)    1\n",
       "426ce0e0-b972-11ea-8029-463500000031  (12, 9)  Player  (0, 0, 255)    1\n",
       "426d07e4-b972-11ea-a626-463500000031  (18, 1)  Player  (0, 0, 255)    1\n",
       "426d07e5-b972-11ea-a6c9-463500000031  (13, 5)  Player  (0, 0, 255)    1\n",
       "426d07e6-b972-11ea-a63e-463500000031  (10, 2)  Player  (0, 0, 255)    1\n",
       "426d07e7-b972-11ea-9451-463500000031   (6, 0)  Player  (0, 0, 255)    1"
      ]
     },
     "execution_count": 51,
     "metadata": {},
     "output_type": "execute_result"
    }
   ],
   "source": [
    "env.data"
   ]
  },
  {
   "cell_type": "code",
   "execution_count": 63,
   "metadata": {
    "ExecuteTime": {
     "end_time": "2020-06-28T19:39:30.715486Z",
     "start_time": "2020-06-28T19:39:30.529375Z"
    }
   },
   "outputs": [
    {
     "ename": "NameError",
     "evalue": "name 'self' is not defined",
     "output_type": "error",
     "traceback": [
      "\u001b[1;31m---------------------------------------------------------------------------\u001b[0m",
      "\u001b[1;31mNameError\u001b[0m                                 Traceback (most recent call last)",
      "\u001b[1;32m<ipython-input-63-49d7048a7667>\u001b[0m in \u001b[0;36m<module>\u001b[1;34m\u001b[0m\n\u001b[0;32m      3\u001b[0m \u001b[1;33m\u001b[0m\u001b[0m\n\u001b[0;32m      4\u001b[0m \u001b[1;33m\u001b[0m\u001b[0m\n\u001b[1;32m----> 5\u001b[1;33m \u001b[1;32mclass\u001b[0m \u001b[0mTest\u001b[0m\u001b[1;33m:\u001b[0m\u001b[1;33m\u001b[0m\u001b[1;33m\u001b[0m\u001b[0m\n\u001b[0m\u001b[0;32m      6\u001b[0m \u001b[1;33m\u001b[0m\u001b[0m\n\u001b[0;32m      7\u001b[0m     \u001b[1;33m@\u001b[0m\u001b[0mstaticmethod\u001b[0m\u001b[1;33m\u001b[0m\u001b[1;33m\u001b[0m\u001b[0m\n",
      "\u001b[1;32m<ipython-input-63-49d7048a7667>\u001b[0m in \u001b[0;36mTest\u001b[1;34m()\u001b[0m\n\u001b[0;32m     17\u001b[0m         \u001b[1;32mreturn\u001b[0m \u001b[0mwrapper_decorator\u001b[0m\u001b[1;33m\u001b[0m\u001b[1;33m\u001b[0m\u001b[0m\n\u001b[0;32m     18\u001b[0m \u001b[1;33m\u001b[0m\u001b[0m\n\u001b[1;32m---> 19\u001b[1;33m     \u001b[1;33m@\u001b[0m\u001b[0mself\u001b[0m\u001b[1;33m.\u001b[0m\u001b[0mdecorator\u001b[0m\u001b[1;33m\u001b[0m\u001b[1;33m\u001b[0m\u001b[0m\n\u001b[0m\u001b[0;32m     20\u001b[0m     \u001b[1;32mdef\u001b[0m \u001b[0m__init__\u001b[0m\u001b[1;33m(\u001b[0m\u001b[0mself\u001b[0m\u001b[1;33m)\u001b[0m\u001b[1;33m:\u001b[0m\u001b[1;33m\u001b[0m\u001b[1;33m\u001b[0m\u001b[0m\n\u001b[0;32m     21\u001b[0m         \u001b[1;32mpass\u001b[0m\u001b[1;33m\u001b[0m\u001b[1;33m\u001b[0m\u001b[0m\n",
      "\u001b[1;31mNameError\u001b[0m: name 'self' is not defined"
     ]
    }
   ],
   "source": [
    "import functools\n",
    "\n",
    "\n",
    "\n",
    "class Test:\n",
    "\n",
    "    @staticmethod\n",
    "    def decorator(func):\n",
    "        @functools.wraps(func)\n",
    "        def wrapper_decorator(*args, **kwargs):\n",
    "            print(\"Something is happening before the function is called.\")\n",
    "            # Do something before\n",
    "            value = func(*args, **kwargs)\n",
    "            print(\"Something is happening after the function is called.\")\n",
    "            # Do something after\n",
    "            return value\n",
    "        return wrapper_decorator\n",
    "    \n",
    "    @self.decorator\n",
    "    def __init__(self):\n",
    "        pass\n",
    "    \n",
    "    @self.decorator\n",
    "    def render(self):\n",
    "        pass\n",
    "    \n",
    "    \n",
    "class CTest(Test):\n",
    "    pass\n",
    "    \n",
    "    \n",
    "    "
   ]
  },
  {
   "cell_type": "code",
   "execution_count": 76,
   "metadata": {
    "ExecuteTime": {
     "end_time": "2020-06-28T19:43:08.310352Z",
     "start_time": "2020-06-28T19:43:08.132442Z"
    }
   },
   "outputs": [],
   "source": [
    "import functools\n",
    "\n",
    "\n",
    "def decorator(func):\n",
    "    @functools.wraps(func)\n",
    "    def wrapper_decorator(self,*args, **kwargs):\n",
    "        print(\"Something is happening before the function is called.\")\n",
    "        # Do something before\n",
    "        value = func(self,*args, **kwargs)\n",
    "        self.post_init()\n",
    "        print(\"Something is happening after the function is called.\")\n",
    "        # Do something after\n",
    "        return value\n",
    "    return wrapper_decorator\n",
    "\n",
    "class Test:\n",
    "    \n",
    "    @decorator\n",
    "    def __init__(self):\n",
    "        pass\n",
    "    \n",
    "    @decorator\n",
    "    def render(self):\n",
    "        pass\n",
    "    \n",
    "    def post_init(self):\n",
    "        print(\"postinit1\")\n",
    "    \n",
    "    \n",
    "class CTest(Test):\n",
    "    \n",
    "    @decorator\n",
    "    def __init__(self):\n",
    "        \n",
    "        super().__init__()\n",
    "        \n",
    "        \n",
    "    def post_init(self):\n",
    "        print(\"postinit2\")\n",
    "    \n",
    "    \n",
    "    "
   ]
  },
  {
   "cell_type": "code",
   "execution_count": 78,
   "metadata": {
    "ExecuteTime": {
     "end_time": "2020-06-29T07:30:11.243764Z",
     "start_time": "2020-06-29T07:30:10.490539Z"
    }
   },
   "outputs": [],
   "source": [
    "env.quit()"
   ]
  },
  {
   "cell_type": "code",
   "execution_count": 77,
   "metadata": {
    "ExecuteTime": {
     "end_time": "2020-06-28T19:43:08.779863Z",
     "start_time": "2020-06-28T19:43:08.607629Z"
    }
   },
   "outputs": [
    {
     "name": "stdout",
     "output_type": "stream",
     "text": [
      "Something is happening before the function is called.\n",
      "Something is happening before the function is called.\n",
      "postinit2\n",
      "Something is happening after the function is called.\n",
      "postinit2\n",
      "Something is happening after the function is called.\n"
     ]
    }
   ],
   "source": [
    "t = CTest()"
   ]
  },
  {
   "cell_type": "markdown",
   "metadata": {},
   "source": [
    "### Dev env"
   ]
  },
  {
   "cell_type": "code",
   "execution_count": 52,
   "metadata": {
    "ExecuteTime": {
     "end_time": "2020-06-28T19:29:36.565141Z",
     "start_time": "2020-06-28T19:29:36.357403Z"
    },
    "scrolled": true
   },
   "outputs": [
    {
     "ename": "AttributeError",
     "evalue": "'Player' object has no attribute 'color'",
     "output_type": "error",
     "traceback": [
      "\u001b[1;31m---------------------------------------------------------------------------\u001b[0m",
      "\u001b[1;31mAttributeError\u001b[0m                            Traceback (most recent call last)",
      "\u001b[1;32m<ipython-input-52-41d31a10f22e>\u001b[0m in \u001b[0;36m<module>\u001b[1;34m\u001b[0m\n\u001b[0;32m     47\u001b[0m \u001b[1;33m\u001b[0m\u001b[0m\n\u001b[0;32m     48\u001b[0m \u001b[0menv\u001b[0m \u001b[1;33m=\u001b[0m \u001b[0mEnvironment\u001b[0m\u001b[1;33m(\u001b[0m\u001b[0mwidth\u001b[0m \u001b[1;33m=\u001b[0m \u001b[1;36m20\u001b[0m\u001b[1;33m,\u001b[0m\u001b[0mheight\u001b[0m \u001b[1;33m=\u001b[0m \u001b[1;36m10\u001b[0m\u001b[1;33m,\u001b[0m\u001b[0mcell_size\u001b[0m\u001b[1;33m=\u001b[0m\u001b[1;36m30\u001b[0m\u001b[1;33m,\u001b[0m\u001b[0mshow_grid\u001b[0m \u001b[1;33m=\u001b[0m \u001b[1;32mTrue\u001b[0m\u001b[1;33m)\u001b[0m\u001b[1;33m\u001b[0m\u001b[1;33m\u001b[0m\u001b[0m\n\u001b[1;32m---> 49\u001b[1;33m \u001b[0menv\u001b[0m\u001b[1;33m.\u001b[0m\u001b[0mspawn\u001b[0m\u001b[1;33m(\u001b[0m\u001b[0mspawner1\u001b[0m\u001b[1;33m,\u001b[0m\u001b[1;36m20\u001b[0m\u001b[1;33m)\u001b[0m\u001b[1;33m\u001b[0m\u001b[1;33m\u001b[0m\u001b[0m\n\u001b[0m\u001b[0;32m     50\u001b[0m \u001b[0menv\u001b[0m\u001b[1;33m.\u001b[0m\u001b[0mspawn\u001b[0m\u001b[1;33m(\u001b[0m\u001b[0mspawner2\u001b[0m\u001b[1;33m,\u001b[0m\u001b[1;36m20\u001b[0m\u001b[1;33m)\u001b[0m\u001b[1;33m\u001b[0m\u001b[1;33m\u001b[0m\u001b[0m\n\u001b[0;32m     51\u001b[0m \u001b[1;33m\u001b[0m\u001b[0m\n",
      "\u001b[1;32mc:\\git\\westworld\\westworld\\environment\\grid.py\u001b[0m in \u001b[0;36mspawn\u001b[1;34m(self, spawner, n, allow_overlap, **kwargs)\u001b[0m\n\u001b[0;32m    269\u001b[0m                 \u001b[1;31m# Spawn new object using spawner\u001b[0m\u001b[1;33m\u001b[0m\u001b[1;33m\u001b[0m\u001b[1;33m\u001b[0m\u001b[0m\n\u001b[0;32m    270\u001b[0m                 \u001b[1;31m# Pass also kwargs to spawner\u001b[0m\u001b[1;33m\u001b[0m\u001b[1;33m\u001b[0m\u001b[1;33m\u001b[0m\u001b[0m\n\u001b[1;32m--> 271\u001b[1;33m                 \u001b[0mobj\u001b[0m \u001b[1;33m=\u001b[0m \u001b[0mspawner\u001b[0m\u001b[1;33m(\u001b[0m\u001b[0mx\u001b[0m\u001b[1;33m,\u001b[0m\u001b[0my\u001b[0m\u001b[1;33m,\u001b[0m\u001b[1;33m**\u001b[0m\u001b[0mkwargs\u001b[0m\u001b[1;33m)\u001b[0m\u001b[1;33m\u001b[0m\u001b[1;33m\u001b[0m\u001b[0m\n\u001b[0m\u001b[0;32m    272\u001b[0m \u001b[1;33m\u001b[0m\u001b[0m\n\u001b[0;32m    273\u001b[0m                 \u001b[0mself\u001b[0m\u001b[1;33m.\u001b[0m\u001b[0madd_object\u001b[0m\u001b[1;33m(\u001b[0m\u001b[0mobj\u001b[0m\u001b[1;33m)\u001b[0m\u001b[1;33m\u001b[0m\u001b[1;33m\u001b[0m\u001b[0m\n",
      "\u001b[1;32m<ipython-input-52-41d31a10f22e>\u001b[0m in \u001b[0;36m<lambda>\u001b[1;34m(x, y)\u001b[0m\n\u001b[0;32m     43\u001b[0m \u001b[1;33m\u001b[0m\u001b[0m\n\u001b[0;32m     44\u001b[0m \u001b[1;33m\u001b[0m\u001b[0m\n\u001b[1;32m---> 45\u001b[1;33m \u001b[0mspawner1\u001b[0m \u001b[1;33m=\u001b[0m \u001b[1;32mlambda\u001b[0m \u001b[0mx\u001b[0m\u001b[1;33m,\u001b[0m\u001b[0my\u001b[0m \u001b[1;33m:\u001b[0m \u001b[0mPlayer\u001b[0m\u001b[1;33m(\u001b[0m\u001b[0mx\u001b[0m\u001b[1;33m,\u001b[0m\u001b[0my\u001b[0m\u001b[1;33m,\u001b[0m\u001b[0mcolor\u001b[0m \u001b[1;33m=\u001b[0m \u001b[0mRED\u001b[0m\u001b[1;33m)\u001b[0m\u001b[1;33m\u001b[0m\u001b[1;33m\u001b[0m\u001b[0m\n\u001b[0m\u001b[0;32m     46\u001b[0m \u001b[0mspawner2\u001b[0m \u001b[1;33m=\u001b[0m \u001b[1;32mlambda\u001b[0m \u001b[0mx\u001b[0m\u001b[1;33m,\u001b[0m\u001b[0my\u001b[0m \u001b[1;33m:\u001b[0m \u001b[0mPlayer\u001b[0m\u001b[1;33m(\u001b[0m\u001b[0mx\u001b[0m\u001b[1;33m,\u001b[0m\u001b[0my\u001b[0m\u001b[1;33m,\u001b[0m\u001b[0mcolor\u001b[0m \u001b[1;33m=\u001b[0m \u001b[0mBLUE\u001b[0m\u001b[1;33m)\u001b[0m\u001b[1;33m\u001b[0m\u001b[1;33m\u001b[0m\u001b[0m\n\u001b[0;32m     47\u001b[0m \u001b[1;33m\u001b[0m\u001b[0m\n",
      "\u001b[1;32mc:\\git\\westworld\\westworld\\agents\\agent.py\u001b[0m in \u001b[0;36m__init__\u001b[1;34m(self, x, y, width, height, color, circle, diagonal, curiosity, search_radius, speed, active_pathfinding, **kwargs)\u001b[0m\n\u001b[0;32m     15\u001b[0m     \u001b[1;33m**\u001b[0m\u001b[0mkwargs\u001b[0m\u001b[1;33m,\u001b[0m\u001b[1;33m\u001b[0m\u001b[1;33m\u001b[0m\u001b[0m\n\u001b[0;32m     16\u001b[0m     ):\n\u001b[1;32m---> 17\u001b[1;33m         \u001b[0msuper\u001b[0m\u001b[1;33m(\u001b[0m\u001b[1;33m)\u001b[0m\u001b[1;33m.\u001b[0m\u001b[0m__init__\u001b[0m\u001b[1;33m(\u001b[0m\u001b[0mx\u001b[0m\u001b[1;33m,\u001b[0m\u001b[0my\u001b[0m\u001b[1;33m,\u001b[0m\u001b[0mwidth\u001b[0m\u001b[1;33m,\u001b[0m\u001b[0mheight\u001b[0m\u001b[1;33m,\u001b[0m\u001b[0mcolor\u001b[0m\u001b[1;33m,\u001b[0m\u001b[0mcircle\u001b[0m\u001b[1;33m,\u001b[0m\u001b[1;33m**\u001b[0m\u001b[0mkwargs\u001b[0m\u001b[1;33m)\u001b[0m\u001b[1;33m\u001b[0m\u001b[1;33m\u001b[0m\u001b[0m\n\u001b[0m\u001b[0;32m     18\u001b[0m \u001b[1;33m\u001b[0m\u001b[0m\n\u001b[0;32m     19\u001b[0m \u001b[1;33m\u001b[0m\u001b[0m\n",
      "\u001b[1;32mc:\\git\\westworld\\westworld\\objects\\rectangle.py\u001b[0m in \u001b[0;36m__init__\u001b[1;34m(self, x, y, width, height, color, circle, radius, img_filepath, img_transparency, img_asset, img_rotate)\u001b[0m\n\u001b[0;32m     21\u001b[0m         ):\n\u001b[0;32m     22\u001b[0m \u001b[1;33m\u001b[0m\u001b[0m\n\u001b[1;32m---> 23\u001b[1;33m         \u001b[0msuper\u001b[0m\u001b[1;33m(\u001b[0m\u001b[1;33m)\u001b[0m\u001b[1;33m.\u001b[0m\u001b[0m__init__\u001b[0m\u001b[1;33m(\u001b[0m\u001b[1;33m)\u001b[0m\u001b[1;33m\u001b[0m\u001b[1;33m\u001b[0m\u001b[0m\n\u001b[0m\u001b[0;32m     24\u001b[0m \u001b[1;33m\u001b[0m\u001b[0m\n\u001b[0;32m     25\u001b[0m         \u001b[0mself\u001b[0m\u001b[1;33m.\u001b[0m\u001b[0m_x\u001b[0m \u001b[1;33m=\u001b[0m \u001b[0mx\u001b[0m\u001b[1;33m\u001b[0m\u001b[1;33m\u001b[0m\u001b[0m\n",
      "\u001b[1;32mc:\\git\\westworld\\westworld\\objects\\base_object.py\u001b[0m in \u001b[0;36m__init__\u001b[1;34m(self)\u001b[0m\n\u001b[0;32m     22\u001b[0m \u001b[1;33m\u001b[0m\u001b[0m\n\u001b[0;32m     23\u001b[0m         \u001b[1;31m# Init function to be overridden\u001b[0m\u001b[1;33m\u001b[0m\u001b[1;33m\u001b[0m\u001b[1;33m\u001b[0m\u001b[0m\n\u001b[1;32m---> 24\u001b[1;33m         \u001b[0mself\u001b[0m\u001b[1;33m.\u001b[0m\u001b[0minit\u001b[0m\u001b[1;33m(\u001b[0m\u001b[1;33m)\u001b[0m\u001b[1;33m\u001b[0m\u001b[1;33m\u001b[0m\u001b[0m\n\u001b[0m\u001b[0;32m     25\u001b[0m \u001b[1;33m\u001b[0m\u001b[0m\n\u001b[0;32m     26\u001b[0m \u001b[1;33m\u001b[0m\u001b[0m\n",
      "\u001b[1;32m<ipython-input-52-41d31a10f22e>\u001b[0m in \u001b[0;36minit\u001b[1;34m(self)\u001b[0m\n\u001b[0;32m      5\u001b[0m     \u001b[1;32mdef\u001b[0m \u001b[0minit\u001b[0m\u001b[1;33m(\u001b[0m\u001b[0mself\u001b[0m\u001b[1;33m)\u001b[0m\u001b[1;33m:\u001b[0m\u001b[1;33m\u001b[0m\u001b[1;33m\u001b[0m\u001b[0m\n\u001b[0;32m      6\u001b[0m         \u001b[0mself\u001b[0m\u001b[1;33m.\u001b[0m\u001b[0mstacked\u001b[0m \u001b[1;33m=\u001b[0m \u001b[1;36m1\u001b[0m\u001b[1;33m\u001b[0m\u001b[1;33m\u001b[0m\u001b[0m\n\u001b[1;32m----> 7\u001b[1;33m         \u001b[0mself\u001b[0m\u001b[1;33m.\u001b[0m\u001b[0mother_color\u001b[0m \u001b[1;33m=\u001b[0m \u001b[0mRED\u001b[0m \u001b[1;32mif\u001b[0m \u001b[0mself\u001b[0m\u001b[1;33m.\u001b[0m\u001b[0mcolor\u001b[0m \u001b[1;33m==\u001b[0m \u001b[0mBLUE\u001b[0m \u001b[1;32melse\u001b[0m \u001b[0mBLUE\u001b[0m\u001b[1;33m\u001b[0m\u001b[1;33m\u001b[0m\u001b[0m\n\u001b[0m\u001b[0;32m      8\u001b[0m \u001b[1;33m\u001b[0m\u001b[0m\n\u001b[0;32m      9\u001b[0m     \u001b[1;33m@\u001b[0m\u001b[0mproperty\u001b[0m\u001b[1;33m\u001b[0m\u001b[1;33m\u001b[0m\u001b[0m\n",
      "\u001b[1;31mAttributeError\u001b[0m: 'Player' object has no attribute 'color'"
     ]
    }
   ],
   "source": [
    "class Player(BaseAgent):\n",
    "    \n",
    "    attrs = [\"color\",\"stacked\"]\n",
    "    \n",
    "    def init(self):\n",
    "        self.stacked = 1\n",
    "        self.other_color = RED if self.color == BLUE else BLUE\n",
    "    \n",
    "    @property\n",
    "    def blocking(self):\n",
    "        return False\n",
    "    \n",
    "    def step(self):\n",
    "        self.wander()\n",
    "        \n",
    "    def render(self,screen):\n",
    "        super().render(screen = screen)\n",
    "        self.render_text(self.stacked,size = 25)\n",
    "        \n",
    "        \n",
    "#     def prerender(self):\n",
    "\n",
    "#         player1 = self.env.make_group({\"color\":RED})\n",
    "#         player2 = self.env.make_group({\"color\":BLUE})\n",
    "        \n",
    "#         collision1 = self.collides_group(player1,method = \"rect\")\n",
    "#         collision2 = self.collides_group(player2,method = \"rect\")\n",
    "        \n",
    "#         self.pop = 1 + (len(collision1) if self.color == RED else len(collision2))\n",
    "\n",
    "        \n",
    "class Environment(GridEnvironment):\n",
    "    \n",
    "    def count_stacked(self):\n",
    "        \n",
    "        count = self.data.groupby([\"color\",\"pos\"])[\"stacked\"].transform(lambda x : len(x))\n",
    "        for obj,stacked in count.to_dict().items():\n",
    "            self[obj].stacked = stacked\n",
    "            \n",
    "    def prerender(self):\n",
    "        self.count_stacked()\n",
    "        \n",
    "        \n",
    "\n",
    "spawner1 = lambda x,y : Player(x,y,color = RED)\n",
    "spawner2 = lambda x,y : Player(x,y,color = BLUE)\n",
    "\n",
    "env = Environment(width = 20,height = 10,cell_size=30,show_grid = True)\n",
    "env.spawn(spawner1,20)\n",
    "env.spawn(spawner2,20)\n",
    "\n",
    "env.render()\n",
    "env.get_img()"
   ]
  },
  {
   "cell_type": "code",
   "execution_count": null,
   "metadata": {},
   "outputs": [],
   "source": []
  },
  {
   "cell_type": "code",
   "execution_count": 8,
   "metadata": {
    "ExecuteTime": {
     "end_time": "2020-06-28T18:49:06.367139Z",
     "start_time": "2020-06-28T18:49:03.722505Z"
    },
    "scrolled": false
   },
   "outputs": [
    {
     "data": {
      "application/vnd.jupyter.widget-view+json": {
       "model_id": "d4338bd6430d45289adfd7bedfbedc7a",
       "version_major": 2,
       "version_minor": 0
      },
      "text/plain": [
       "HBox(children=(FloatProgress(value=0.0, max=20.0), HTML(value='')))"
      ]
     },
     "metadata": {},
     "output_type": "display_data"
    },
    {
     "name": "stdout",
     "output_type": "stream",
     "text": [
      "[INFO] Saving video at ./captures/Simulation_1593370143.mp4\n",
      "\n"
     ]
    },
    {
     "data": {
      "application/vnd.jupyter.widget-view+json": {
       "model_id": "e0cdc540699e46c48ee0eb92dafd2af9",
       "version_major": 2,
       "version_minor": 0
      },
      "text/plain": [
       "interactive(children=(Play(value=0, description='Press play', interval=200, max=20), Output()), _dom_classes=(…"
      ]
     },
     "metadata": {},
     "output_type": "display_data"
    },
    {
     "data": {
      "application/vnd.jupyter.widget-view+json": {
       "model_id": "652c09f40c7f4673ac77224b7a657fc7",
       "version_major": 2,
       "version_minor": 0
      },
      "text/plain": [
       "IntSlider(value=0, max=20)"
      ]
     },
     "metadata": {},
     "output_type": "display_data"
    }
   ],
   "source": [
    "sim = Simulation(env,fps = 10)\n",
    "sim.run_episode(n_steps = 20,replay = True,save = True)"
   ]
  },
  {
   "cell_type": "code",
   "execution_count": null,
   "metadata": {},
   "outputs": [],
   "source": []
  }
 ],
 "metadata": {
  "kernelspec": {
   "display_name": "Python 3",
   "language": "python",
   "name": "python3"
  },
  "language_info": {
   "codemirror_mode": {
    "name": "ipython",
    "version": 3
   },
   "file_extension": ".py",
   "mimetype": "text/x-python",
   "name": "python",
   "nbconvert_exporter": "python",
   "pygments_lexer": "ipython3",
   "version": "3.7.4"
  },
  "toc": {
   "base_numbering": 1,
   "nav_menu": {},
   "number_sections": true,
   "sideBar": true,
   "skip_h1_title": false,
   "title_cell": "Table of Contents",
   "title_sidebar": "Contents",
   "toc_cell": false,
   "toc_position": {},
   "toc_section_display": true,
   "toc_window_display": false
  }
 },
 "nbformat": 4,
 "nbformat_minor": 2
}
