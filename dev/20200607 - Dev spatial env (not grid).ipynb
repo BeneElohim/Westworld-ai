{
 "cells": [
  {
   "cell_type": "code",
   "execution_count": 1,
   "metadata": {
    "ExecuteTime": {
     "end_time": "2020-06-07T17:33:03.007288Z",
     "start_time": "2020-06-07T17:33:02.281226Z"
    }
   },
   "outputs": [],
   "source": [
    "# Base Data Science snippet\n",
    "import pandas as pd\n",
    "import numpy as np\n",
    "import matplotlib.pyplot as plt\n",
    "import os\n",
    "import time\n",
    "from tqdm import tqdm_notebook\n",
    "\n",
    "%matplotlib inline\n",
    "%load_ext autoreload\n",
    "%autoreload 2"
   ]
  },
  {
   "cell_type": "markdown",
   "metadata": {},
   "source": [
    "# Sprite utils"
   ]
  },
  {
   "cell_type": "code",
   "execution_count": 2,
   "metadata": {
    "ExecuteTime": {
     "end_time": "2020-06-07T17:33:04.781302Z",
     "start_time": "2020-06-07T17:33:03.010276Z"
    }
   },
   "outputs": [
    {
     "name": "stdout",
     "output_type": "stream",
     "text": [
      "pygame 1.9.6\n",
      "Hello from the pygame community. https://www.pygame.org/contribute.html\n"
     ]
    }
   ],
   "source": [
    "import sys\n",
    "sys.path.append(\"../\")\n",
    "\n",
    "import westworld\n",
    "from westworld.assets.sprites.utils import *\n",
    "from westworld.assets import make_arrow\n",
    "from westworld.colors import *\n",
    "from westworld.environment import GridEnvironment\n",
    "from westworld.agents.sir_agent import SIRAgent\n",
    "from westworld.environment.spatial import SpatialEnvironment\n",
    "from westworld.agents import BaseGridAgent\n",
    "from westworld.agents.collectible_finder import CollectibleFinderAgent\n",
    "from westworld.objects import BaseObstacle,BaseTrigger,BaseCollectible,BaseRectangle\n",
    "from westworld.simulation import Simulation\n",
    "from westworld.colors import *\n",
    "from westworld.logger import Logger"
   ]
  },
  {
   "cell_type": "code",
   "execution_count": 15,
   "metadata": {
    "ExecuteTime": {
     "end_time": "2020-06-07T17:36:32.156307Z",
     "start_time": "2020-06-07T17:36:31.196357Z"
    }
   },
   "outputs": [
    {
     "data": {
      "image/png": "[encoded data removed]",
      "text/plain": [
       "<PIL.Image.Image image mode=RGB size=1000x600 at 0x1541714AB08>"
      ]
     },
     "execution_count": 15,
     "metadata": {},
     "output_type": "execute_result"
    }
   ],
   "source": [
    "\n",
    "class Agent(SIRAgent):\n",
    "    \n",
    "    @property\n",
    "    def blocking(self):\n",
    "        return True\n",
    "    \n",
    "#     def step(self):\n",
    "        \n",
    "        \n",
    "    \n",
    "#     def step(self):\n",
    "        \n",
    "#         if self.state == \"S\":\n",
    "            \n",
    "#             n_infected = len(self.find_in_range({\"state\":\"I\"}))\n",
    "            \n",
    "#             if n_infected > 0:\n",
    "#                 proba_infection = norm.cdf(n_infected,loc = self.contact_risk,scale = 3)\n",
    "\n",
    "#                 if random.random() < proba_infection:\n",
    "\n",
    "#                     self.set_state(\"I\")\n",
    "#                     self.infected_date = self.clock\n",
    "                \n",
    "                \n",
    "#         elif self.state == \"I\":\n",
    "            \n",
    "#             if self.clock - self.infected_date >= self.recovery_duration:\n",
    "#                 self.set_state(\"R\")\n",
    "            \n",
    "# #         self.wander()\n",
    "        \n",
    "        \n",
    "        \n",
    "# #         self.wander()\n",
    "#         self.move(speed = self.speed)\n",
    "#         self.turn(5)\n",
    "        \n",
    "#         self.wander()\n",
    "    \n",
    "#         self.move(speed = 10,angle = 45)\n",
    "\n",
    "CONTACT_RISK = 6\n",
    "RECOVERY_DURATION_RANGE = [50,150]\n",
    "\n",
    "obstacle = BaseObstacle(300,300,200,200,color = RED)\n",
    "\n",
    "# agent = lambda x,y : Agent(x,y,width = 5,height = 5,circle = True,speed = 5)\n",
    "spawner = lambda state : lambda x,y : Agent(x,y,\n",
    "                                            width = 20,\n",
    "                                            height = 20,\n",
    "                                            state = state,\n",
    "                                            contact_risk = CONTACT_RISK,\n",
    "                                            recovery_duration_range = RECOVERY_DURATION_RANGE)\n",
    "\n",
    "\n",
    "WIDTH = 1000\n",
    "HEIGHT = 600\n",
    "env = SpatialEnvironment(width = WIDTH,height = HEIGHT)#,objects = [obstacle])\n",
    "env.spawn(spawner(\"I\"),1,allow_overlap = True)\n",
    "env.spawn(spawner(\"S\"),100,allow_overlap = False)\n",
    "\n",
    "env.render()\n",
    "env.get_img()"
   ]
  },
  {
   "cell_type": "code",
   "execution_count": 16,
   "metadata": {
    "ExecuteTime": {
     "end_time": "2020-06-07T17:36:49.225550Z",
     "start_time": "2020-06-07T17:36:36.156976Z"
    }
   },
   "outputs": [
    {
     "data": {
      "application/vnd.jupyter.widget-view+json": {
       "model_id": "e3630869ddbb4a52b730c39ea4393fa8",
       "version_major": 2,
       "version_minor": 0
      },
      "text/plain": [
       "HBox(children=(FloatProgress(value=0.0, max=300.0), HTML(value='')))"
      ]
     },
     "metadata": {},
     "output_type": "display_data"
    },
    {
     "name": "stdout",
     "output_type": "stream",
     "text": [
      "\n"
     ]
    },
    {
     "data": {
      "application/vnd.jupyter.widget-view+json": {
       "model_id": "c299b667741a4500a31ff11f9f490f40",
       "version_major": 2,
       "version_minor": 0
      },
      "text/plain": [
       "interactive(children=(Play(value=0, description='Press play', interval=40, max=300), Output()), _dom_classes=(…"
      ]
     },
     "metadata": {},
     "output_type": "display_data"
    },
    {
     "data": {
      "application/vnd.jupyter.widget-view+json": {
       "model_id": "a6baa4dcd3284cf4ae32988ca5c6f2d2",
       "version_major": 2,
       "version_minor": 0
      },
      "text/plain": [
       "IntSlider(value=0, max=300)"
      ]
     },
     "metadata": {},
     "output_type": "display_data"
    }
   ],
   "source": [
    "sim = Simulation(env,fps = 25)\n",
    "sim.run_episode(n_steps = 300,save = False,replay=True,fps_replay = 25)"
   ]
  },
  {
   "cell_type": "code",
   "execution_count": null,
   "metadata": {},
   "outputs": [],
   "source": []
  }
 ],
 "metadata": {
  "kernelspec": {
   "display_name": "Python 3",
   "language": "python",
   "name": "python3"
  },
  "language_info": {
   "codemirror_mode": {
    "name": "ipython",
    "version": 3
   },
   "file_extension": ".py",
   "mimetype": "text/x-python",
   "name": "python",
   "nbconvert_exporter": "python",
   "pygments_lexer": "ipython3",
   "version": "3.7.4"
  },
  "toc": {
   "base_numbering": 1,
   "nav_menu": {},
   "number_sections": true,
   "sideBar": true,
   "skip_h1_title": false,
   "title_cell": "Table of Contents",
   "title_sidebar": "Contents",
   "toc_cell": false,
   "toc_position": {},
   "toc_section_display": true,
   "toc_window_display": false
  }
 },
 "nbformat": 4,
 "nbformat_minor": 2
}
