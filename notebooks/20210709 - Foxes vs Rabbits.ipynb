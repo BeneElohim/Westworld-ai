{
 "cells": [
  {
   "cell_type": "markdown",
   "metadata": {},
   "source": [
    "# Foxes vs Rabbits"
   ]
  },
  {
   "cell_type": "code",
   "execution_count": 1,
   "metadata": {
    "ExecuteTime": {
     "end_time": "2020-07-25T15:04:54.053368Z",
     "start_time": "2020-07-25T15:04:52.269729Z"
    }
   },
   "outputs": [],
   "source": [
    "# Base Data Science snippet\n",
    "import pandas as pd\n",
    "import numpy as np\n",
    "import matplotlib.pyplot as plt\n",
    "import os\n",
    "import time\n",
    "from tqdm import tqdm_notebook\n",
    "\n",
    "%matplotlib inline\n",
    "%load_ext autoreload\n",
    "%autoreload 2"
   ]
  },
  {
   "cell_type": "code",
   "execution_count": 2,
   "metadata": {
    "ExecuteTime": {
     "end_time": "2020-07-25T15:04:56.917297Z",
     "start_time": "2020-07-25T15:04:54.059385Z"
    }
   },
   "outputs": [
    {
     "name": "stdout",
     "output_type": "stream",
     "text": [
      "pygame 2.0.1 (SDL 2.0.14, Python 3.8.8)\n",
      "Hello from the pygame community. https://www.pygame.org/contribute.html\n"
     ]
    }
   ],
   "source": [
    "import sys\n",
    "sys.path.append(\"../\")\n",
    "\n",
    "from westworld.environment import GridEnvironment\n",
    "from westworld.agents import BaseAgent\n",
    "from westworld.objects import BaseObstacle,BaseTrigger,BaseCollectible\n",
    "from westworld.simulation import Simulation\n",
    "from westworld.colors import *"
   ]
  },
  {
   "cell_type": "markdown",
   "metadata": {},
   "source": [
    "##### Simple rabbits experiments\n",
    "- Several rabbits who whill look for food and eat what they can find\n",
    "- Wandering rabbits until they find food they can eat\n",
    "- Rabbits who look for food and can die if they don't find in time, with collectibles re-appearing over time - param: search strategy\n",
    "- Rabbits who reproduce over time and transmit their search strategy\n",
    "- Rabbits can be sexier than others\n",
    "- Rabbits can bear children for longer time for more fitness\n",
    "\n",
    "##### Introducing foxes\n",
    "- Adding foxes who can eat rabbit if they find some\n",
    "- Adding fleeing behavior for rabbits\n",
    "\n",
    "##### Complex behaviors\n",
    "- Variable parameters\n",
    "- Reinforcement Learning\n",
    "\n",
    "##### Other ideas\n",
    "- Varying maps with obstacles and quiet zones"
   ]
  },
  {
   "cell_type": "markdown",
   "metadata": {},
   "source": [
    "# Experiment 1 - Rabbits quietly eating\n",
    "Grid environments with several rabbits who whill look for food and eat what they can find"
   ]
  },
  {
   "cell_type": "markdown",
   "metadata": {},
   "source": [
    "##### Defining food"
   ]
  },
  {
   "cell_type": "code",
   "execution_count": 3,
   "metadata": {},
   "outputs": [],
   "source": [
    "class Food(BaseCollectible):\n",
    "    def __init__(self,x,y):\n",
    "        super().__init__(x,y,color = (220,150,50),img_asset = \"ball\")"
   ]
  },
  {
   "cell_type": "markdown",
   "metadata": {},
   "source": [
    "##### Defining rabbits"
   ]
  },
  {
   "cell_type": "code",
   "execution_count": 4,
   "metadata": {},
   "outputs": [],
   "source": [
    "class Rabbit(BaseAgent):\n",
    "    \n",
    "    def __init__(self,x,y,curiosity = 5):\n",
    "        super().__init__(x,y,color = (229, 229, 229),curiosity = curiosity)\n",
    "    \n",
    "    def step(self):\n",
    "        \n",
    "        # Find closest food\n",
    "        targets = self.find_closest(name = \"Food\",k = 1)\n",
    "        \n",
    "        # If there is still food, move towards the food\n",
    "        if len(targets) > 0:\n",
    "            \n",
    "            target = targets[0]\n",
    "            \n",
    "            # Use naive pathfinding for faster computation as there is no obstacle\n",
    "            self.move_towards(obj = target,naive = True)\n",
    "            \n",
    "        # Otherwise just wandering\n",
    "        # Changing direction every n steps where n = curiosity\n",
    "        else:\n",
    "            self.wander()"
   ]
  },
  {
   "cell_type": "markdown",
   "metadata": {},
   "source": [
    "##### Preparing environment and simulation"
   ]
  },
  {
   "cell_type": "code",
   "execution_count": 5,
   "metadata": {},
   "outputs": [
    {
     "data": {
      "image/png": "[encoded data removed]",
      "text/plain": [
       "<PIL.Image.Image image mode=RGB size=750x300 at 0x21F575D98B0>"
      ]
     },
     "execution_count": 5,
     "metadata": {},
     "output_type": "execute_result"
    }
   ],
   "source": [
    "# Setup spawners\n",
    "rabbit_spawner = lambda x,y : Rabbit(x,y,curiosity = 5)\n",
    "food_spawner = lambda x,y : Food(x,y)\n",
    "\n",
    "# Setup environment\n",
    "env = GridEnvironment(50,20,15,show_grid = True,background_color=(102, 178, 102),grid_color=(127, 191, 127),toroidal=True)\n",
    "env.spawn(rabbit_spawner,3)\n",
    "env.spawn(food_spawner,20)\n",
    "env.render()\n",
    "env.get_img()"
   ]
  },
  {
   "cell_type": "code",
   "execution_count": 6,
   "metadata": {},
   "outputs": [],
   "source": [
    "# Setup simulation\n",
    "sim = Simulation(env,fps = 10,name=\"RabbitsVsFoxesExperiment1\")"
   ]
  },
  {
   "cell_type": "code",
   "execution_count": 7,
   "metadata": {},
   "outputs": [
    {
     "data": {
      "application/vnd.jupyter.widget-view+json": {
       "model_id": "0bb5abdb03f848abb4e930800e914e04",
       "version_major": 2,
       "version_minor": 0
      },
      "text/plain": [
       "  0%|          | 0/100 [00:00<?, ?it/s]"
      ]
     },
     "metadata": {},
     "output_type": "display_data"
    },
    {
     "data": {
      "application/vnd.jupyter.widget-view+json": {
       "model_id": "31d9081b84a641308541354ab1ffba8c",
       "version_major": 2,
       "version_minor": 0
      },
      "text/plain": [
       "interactive(children=(Play(value=0, description='Press play', interval=200), Output()), _dom_classes=('widget-…"
      ]
     },
     "metadata": {},
     "output_type": "display_data"
    },
    {
     "data": {
      "application/vnd.jupyter.widget-view+json": {
       "model_id": "c4203dcadf09461db3588c9f738e6071",
       "version_major": 2,
       "version_minor": 0
      },
      "text/plain": [
       "IntSlider(value=0)"
      ]
     },
     "metadata": {},
     "output_type": "display_data"
    },
    {
     "data": {
      "text/plain": [
       "0"
      ]
     },
     "execution_count": 7,
     "metadata": {},
     "output_type": "execute_result"
    }
   ],
   "source": [
    "sim.run_episode(n_steps = 100,save = False,replay = True)"
   ]
  },
  {
   "cell_type": "markdown",
   "metadata": {},
   "source": [
    "# Experiment 2 - Rabbits that have to explore and find food\n",
    "In this second experiment rabbits don't have the perfect view of the environment, they have a vision range. They will explore and wander in the environment to find food. Once they found one, they move towards it to eat it. \n",
    "\n",
    "##### What do we need to add?\n",
    "- Only finding food in a given range using the ``.find_in_range()`` function instead of ``.find_closest()``\n",
    "- An attribute to store the next target (otherwise, at each step tick, the rabbit could randomly choose another food than the one it was directed to)\n",
    "- A visualization of the vision range, with changing colors if the rabbit is looking for food, or if it has found at least one closeby"
   ]
  },
  {
   "cell_type": "code",
   "execution_count": 36,
   "metadata": {},
   "outputs": [
    {
     "data": {
      "image/png": "[encoded data removed]",
      "text/plain": [
       "<PIL.Image.Image image mode=RGB size=750x300 at 0x21F92316940>"
      ]
     },
     "execution_count": 36,
     "metadata": {},
     "output_type": "execute_result"
    }
   ],
   "source": [
    "import random\n",
    "\n",
    "class Rabbit(BaseAgent):\n",
    "    \n",
    "    def __init__(self,x,y,curiosity = 5,vision_range = 10,show_range = True):\n",
    "        super().__init__(x,y,color = (229, 229, 229),curiosity = curiosity)\n",
    "        self.vision_range = vision_range\n",
    "        self.show_range = show_range\n",
    "        self.range_color = GREEN\n",
    "        \n",
    "        # Store the food the rabbit was looking for\n",
    "        self.next_target = None\n",
    "        \n",
    "    def postrender(self):\n",
    "        if self.show_range:\n",
    "            self.render_circle(radius = self.vision_range,color = self.range_color,thickness = 1)\n",
    "    \n",
    "    def step(self):\n",
    "        \n",
    "        # Find closest food\n",
    "        targets = self.find_in_range(name = \"Food\",radius = self.vision_range)\n",
    "        \n",
    "        # If there is food around, move towards the food\n",
    "        if len(targets) > 0:\n",
    "            self.range_color = RED\n",
    "            \n",
    "            # Choose among targets in range\n",
    "            # TODO could be optimized to go to the closest one\n",
    "            # If the rabbit was already looking for a specific piece of food, we go fetch it\n",
    "            # If the next piece of food is not in range anymore (another rabbit has eaten it), just take another one\n",
    "            if self.next_target is None or self.next_target not in targets:\n",
    "                target = random.choice(targets)\n",
    "                self.next_target = target\n",
    "            else:\n",
    "                target = self.next_target\n",
    "            \n",
    "            # Use naive pathfinding for faster computation as there is no obstacle\n",
    "            self.move_towards(obj = target,naive = True)\n",
    "            \n",
    "        # Otherwise just wandering\n",
    "        # Changing direction every n steps where n = curiosity\n",
    "        else:\n",
    "            self.range_color = GREEN\n",
    "            self.wander()\n",
    "            \n",
    "            \n",
    "# Setup spawners\n",
    "rabbit_spawner = lambda x,y : Rabbit(x,y,curiosity = 5,vision_range = 4)\n",
    "food_spawner = lambda x,y : Food(x,y)\n",
    "\n",
    "# Setup environment\n",
    "env = GridEnvironment(50,20,15,show_grid = True,background_color=(102, 178, 102),grid_color=(127, 191, 127),toroidal=True)\n",
    "env.spawn(rabbit_spawner,3)\n",
    "env.spawn(food_spawner,20)\n",
    "env.render()\n",
    "env.get_img()"
   ]
  },
  {
   "cell_type": "code",
   "execution_count": 37,
   "metadata": {},
   "outputs": [
    {
     "data": {
      "application/vnd.jupyter.widget-view+json": {
       "model_id": "35228384cd5e44578263c3dacf54e5bb",
       "version_major": 2,
       "version_minor": 0
      },
      "text/plain": [
       "  0%|          | 0/200 [00:00<?, ?it/s]"
      ]
     },
     "metadata": {},
     "output_type": "display_data"
    },
    {
     "data": {
      "application/vnd.jupyter.widget-view+json": {
       "model_id": "e772a68f1d324515857070c30ad0379c",
       "version_major": 2,
       "version_minor": 0
      },
      "text/plain": [
       "interactive(children=(Play(value=0, description='Press play', interval=200, max=200), Output()), _dom_classes=…"
      ]
     },
     "metadata": {},
     "output_type": "display_data"
    },
    {
     "data": {
      "application/vnd.jupyter.widget-view+json": {
       "model_id": "6796657f271a450c92d1df6557f15b15",
       "version_major": 2,
       "version_minor": 0
      },
      "text/plain": [
       "IntSlider(value=0, max=200)"
      ]
     },
     "metadata": {},
     "output_type": "display_data"
    },
    {
     "data": {
      "text/plain": [
       "0"
      ]
     },
     "execution_count": 37,
     "metadata": {},
     "output_type": "execute_result"
    }
   ],
   "source": [
    "# Setup simulation\n",
    "sim = Simulation(env,fps = 100,name=\"RabbitsVsFoxesExperiment2\")\n",
    "sim.run_episode(n_steps = 200,save = False,replay = True)"
   ]
  },
  {
   "cell_type": "markdown",
   "metadata": {},
   "source": [
    "# Experiment 3 - Rabbits that can die if they don't find food in time\n",
    "In this 3rd experiments rabbits have to find food before they starve to death. Concretely they have a hunger ticking clock. If it goes to 0, the rabbit dies. If they eat something they survive longer. <br>\n",
    "Food grows randomly in the environment over time. \n",
    "\n",
    "##### What do we need to add?\n",
    "- A hunger \"life\", visualized directly on the rabbit\n",
    "- The behavior of removing the rabbit if it dies\n",
    "- A collectible callback on the food collection to feed the rabbit\n",
    "- A random regeneration of food if there are not enough"
   ]
  },
  {
   "cell_type": "code",
   "execution_count": 57,
   "metadata": {},
   "outputs": [
    {
     "data": {
      "image/png": "[encoded data removed]",
      "text/plain": [
       "<PIL.Image.Image image mode=RGB size=750x300 at 0x21FA462CC70>"
      ]
     },
     "execution_count": 57,
     "metadata": {},
     "output_type": "execute_result"
    }
   ],
   "source": [
    "import random\n",
    "\n",
    "class Food(BaseCollectible):\n",
    "    def __init__(self,x,y,quantity = 5):\n",
    "        super().__init__(x,y,color = (220,150,50),img_asset = \"ball\")\n",
    "        self.quantity = quantity\n",
    "\n",
    "    def on_trigger(self,obj):\n",
    "        obj.life += self.quantity    \n",
    "        \n",
    "\n",
    "class Rabbit(BaseAgent):\n",
    "    \n",
    "    def __init__(self,x,y,curiosity = 5,vision_range = 10,show_range = True,hunger_resistance = 20):\n",
    "        super().__init__(x,y,color = (229, 229, 229),curiosity = curiosity)\n",
    "        self.vision_range = vision_range\n",
    "        self.show_range = show_range\n",
    "        self.range_color = GREEN\n",
    "        \n",
    "        # Store the food the rabbit was looking for\n",
    "        self.next_target = None\n",
    "        \n",
    "        # Prepare life\n",
    "        self.life = hunger_resistance\n",
    "        \n",
    "    def postrender(self):\n",
    "        if self.show_range:\n",
    "            self.render_circle(radius = self.vision_range,color = self.range_color,thickness = 1)\n",
    "            \n",
    "        self.render_text(self.life,size = 12,color=(0,0,0))\n",
    "    \n",
    "    def step(self):\n",
    "        \n",
    "        # Find closest food\n",
    "        targets = self.find_in_range(name = \"Food\",radius = self.vision_range)\n",
    "        \n",
    "        # If there is food around, move towards the food\n",
    "        if len(targets) > 0:\n",
    "            self.range_color = RED\n",
    "            \n",
    "            # Choose among targets in range\n",
    "            # TODO could be optimized to go to the closest one\n",
    "            # If the rabbit was already looking for a specific piece of food, we go fetch it\n",
    "            # If the next piece of food is not in range anymore (another rabbit has eaten it), just take another one\n",
    "            if self.next_target is None or self.next_target not in targets:\n",
    "                target = random.choice(targets)\n",
    "                self.next_target = target\n",
    "            else:\n",
    "                target = self.next_target\n",
    "            \n",
    "            # Use naive pathfinding for faster computation as there is no obstacle\n",
    "            self.move_towards(obj = target,naive = True)\n",
    "            \n",
    "        # Otherwise just wandering\n",
    "        # Changing direction every n steps where n = curiosity\n",
    "        else:\n",
    "            self.range_color = GREEN\n",
    "            self.wander()\n",
    "            \n",
    "        # After each step, the rabbit lose one life unit\n",
    "        self.life -= 1\n",
    "        \n",
    "        # If the rabbit dies we remove it from the environment\n",
    "        if self.life == 0:\n",
    "            self.kill()\n",
    "            \n",
    "            \n",
    "class CustomEnvironment(GridEnvironment):\n",
    "    \n",
    "    def post_step(self):\n",
    "        \n",
    "        if self.clock > 0 and self.clock % 5 == 0:\n",
    "            self.spawn(food_spawner,4)\n",
    "            \n",
    "# Setup spawners\n",
    "rabbit_spawner = lambda x,y : Rabbit(x,y,curiosity = 5,vision_range = 5)\n",
    "food_spawner = lambda x,y : Food(x,y,quantity = 10)\n",
    "\n",
    "# Setup environment\n",
    "env = CustomEnvironment(50,20,15,show_grid = True,background_color=(102, 178, 102),grid_color=(127, 191, 127),toroidal=True)\n",
    "env.spawn(rabbit_spawner,5)\n",
    "env.spawn(food_spawner,20)\n",
    "env.render()\n",
    "env.get_img()"
   ]
  },
  {
   "cell_type": "code",
   "execution_count": 58,
   "metadata": {},
   "outputs": [
    {
     "data": {
      "application/vnd.jupyter.widget-view+json": {
       "model_id": "112d18746b5541148ad5b34b3053a298",
       "version_major": 2,
       "version_minor": 0
      },
      "text/plain": [
       "  0%|          | 0/200 [00:00<?, ?it/s]"
      ]
     },
     "metadata": {},
     "output_type": "display_data"
    },
    {
     "data": {
      "application/vnd.jupyter.widget-view+json": {
       "model_id": "7165ce0f0edd44eb9899da485c819cef",
       "version_major": 2,
       "version_minor": 0
      },
      "text/plain": [
       "interactive(children=(Play(value=0, description='Press play', interval=200, max=200), Output()), _dom_classes=…"
      ]
     },
     "metadata": {},
     "output_type": "display_data"
    },
    {
     "data": {
      "application/vnd.jupyter.widget-view+json": {
       "model_id": "4224f1939b1e42988cf6b04d7038a62e",
       "version_major": 2,
       "version_minor": 0
      },
      "text/plain": [
       "IntSlider(value=0, max=200)"
      ]
     },
     "metadata": {},
     "output_type": "display_data"
    },
    {
     "data": {
      "text/plain": [
       "0"
      ]
     },
     "execution_count": 58,
     "metadata": {},
     "output_type": "execute_result"
    }
   ],
   "source": [
    "# Setup simulation\n",
    "sim = Simulation(env,fps = 100,name=\"RabbitsVsFoxesExperiment2\")\n",
    "sim.run_episode(n_steps = 200,save = False,replay = True)"
   ]
  },
  {
   "cell_type": "code",
   "execution_count": null,
   "metadata": {},
   "outputs": [],
   "source": []
  }
 ],
 "metadata": {
  "kernelspec": {
   "display_name": "Python 3",
   "language": "python",
   "name": "python3"
  },
  "language_info": {
   "codemirror_mode": {
    "name": "ipython",
    "version": 3
   },
   "file_extension": ".py",
   "mimetype": "text/x-python",
   "name": "python",
   "nbconvert_exporter": "python",
   "pygments_lexer": "ipython3",
   "version": "3.8.8"
  },
  "toc": {
   "base_numbering": 1,
   "nav_menu": {},
   "number_sections": true,
   "sideBar": true,
   "skip_h1_title": false,
   "title_cell": "Table of Contents",
   "title_sidebar": "Contents",
   "toc_cell": false,
   "toc_position": {},
   "toc_section_display": true,
   "toc_window_display": false
  }
 },
 "nbformat": 4,
 "nbformat_minor": 2
}
