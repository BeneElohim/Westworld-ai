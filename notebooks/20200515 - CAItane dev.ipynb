{
 "cells": [
  {
   "cell_type": "markdown",
   "metadata": {},
   "source": [
    "# CAItane\n",
    "\n",
    "##### V2 Complex\n",
    "- Zones with resources and obstacles\n",
    "- Agents\n",
    "    - Cities\n",
    "        - Cost resources\n",
    "        - Can produce villagers and army\n",
    "    - Villagers\n",
    "        - Cost resources\n",
    "        - Can mine resources\n",
    "        - Can build cities\n",
    "    - Army\n",
    "        - Cost resources, \n",
    "        - Can kill villagers and destroy cities\n",
    "- Win if\n",
    "    - Economic win - The other has no villagers and no army left\n",
    "    - War win - 10 cities are created\n",
    "    \n",
    "##### V1\n",
    "- Collectibles by resources\n",
    "- Gold to produce warriors\n",
    "- Stone to produce cities\n",
    "        \n",
    "##### TODO\n",
    "- Procedural generation of maps + precoded maps\n",
    "- Hard coded AI + RL AI for a single player game\n",
    "- Sockets to create a multi player game\n",
    "- Inspiration Catane and Age of Empire"
   ]
  },
  {
   "cell_type": "code",
   "execution_count": 4,
   "metadata": {
    "ExecuteTime": {
     "end_time": "2020-05-15T13:32:50.795699Z",
     "start_time": "2020-05-15T13:32:50.703946Z"
    }
   },
   "outputs": [
    {
     "name": "stdout",
     "output_type": "stream",
     "text": [
      "The autoreload extension is already loaded. To reload it, use:\n",
      "  %reload_ext autoreload\n"
     ]
    }
   ],
   "source": [
    "# Base Data Science snippet\n",
    "import pandas as pd\n",
    "import numpy as np\n",
    "import matplotlib.pyplot as plt\n",
    "import os\n",
    "import time\n",
    "from tqdm import tqdm_notebook\n",
    "\n",
    "%matplotlib inline\n",
    "%load_ext autoreload\n",
    "%autoreload 2"
   ]
  },
  {
   "cell_type": "markdown",
   "metadata": {},
   "source": [
    "# Collectible and Trig"
   ]
  }
 ],
 "metadata": {
  "kernelspec": {
   "display_name": "Python 3",
   "language": "python",
   "name": "python3"
  },
  "language_info": {
   "codemirror_mode": {
    "name": "ipython",
    "version": 3
   },
   "file_extension": ".py",
   "mimetype": "text/x-python",
   "name": "python",
   "nbconvert_exporter": "python",
   "pygments_lexer": "ipython3",
   "version": "3.7.4"
  },
  "toc": {
   "base_numbering": 1,
   "nav_menu": {},
   "number_sections": true,
   "sideBar": true,
   "skip_h1_title": false,
   "title_cell": "Table of Contents",
   "title_sidebar": "Contents",
   "toc_cell": false,
   "toc_position": {},
   "toc_section_display": true,
   "toc_window_display": false
  }
 },
 "nbformat": 4,
 "nbformat_minor": 2
}
